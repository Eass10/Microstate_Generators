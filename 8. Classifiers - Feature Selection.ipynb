{
 "cells": [
  {
   "cell_type": "code",
   "execution_count": 1,
   "id": "7f66561d-0f87-4acf-b4da-57a1507fbf53",
   "metadata": {},
   "outputs": [],
   "source": [
    "import os\n",
    "import json\n",
    "\n",
    "import pandas as pd\n",
    "import numpy as np\n",
    "import random\n",
    "\n",
    "from scipy import stats\n",
    "\n",
    "import utils as u\n",
    "\n",
    "# Visualizing\n",
    "import matplotlib.pyplot as plt\n",
    "import plotly.express as px\n",
    "import seaborn as sns\n",
    "\n",
    "# Preprocessing\n",
    "from sklearn.preprocessing import StandardScaler, LabelEncoder\n",
    "\n",
    "# Feature Selection\n",
    "from sklearn.feature_selection import RFE, SequentialFeatureSelector, VarianceThreshold, mutual_info_classif, SelectFromModel\n",
    "\n",
    "from sklearn.linear_model import LogisticRegression\n",
    "from sklearn.ensemble import RandomForestClassifier, ExtraTreesClassifier, GradientBoostingClassifier\n",
    "from xgboost import XGBClassifier\n",
    "\n",
    "# Comparisons\n",
    "import ipywidgets as widgets\n",
    "from functools import partial\n",
    "from IPython.display import display, clear_output"
   ]
  },
  {
   "cell_type": "code",
   "execution_count": 2,
   "id": "113e21e2-b01d-4f57-adb6-522d7658d512",
   "metadata": {},
   "outputs": [],
   "source": [
    "import warnings\n",
    "\n",
    "# Suppress all warnings\n",
    "warnings.filterwarnings(\"ignore\")"
   ]
  },
  {
   "cell_type": "markdown",
   "id": "66c568c5-5080-48e1-9ffe-4f82e1dbe2ee",
   "metadata": {},
   "source": [
    "## Paths"
   ]
  },
  {
   "cell_type": "code",
   "execution_count": 3,
   "id": "7f4dda4c-768e-4b01-b273-ee6073e5921d",
   "metadata": {},
   "outputs": [],
   "source": [
    "### Closed Eyes segments\n",
    "segments_ce = r'C:\\Users\\enriq\\Anaconda\\CSIC\\DATA_PREPROCESSED_ROIS\\segments_ce.csv'\n",
    "\n",
    "### Open Eyes segments\n",
    "segments_oe = r'C:\\Users\\enriq\\Anaconda\\CSIC\\DATA_PREPROCESSED_ROIS\\segments_oe.csv'"
   ]
  },
  {
   "cell_type": "markdown",
   "id": "eebded4d-3ca8-4372-ad38-627a406fe0f9",
   "metadata": {},
   "source": [
    "## Import Data"
   ]
  },
  {
   "cell_type": "code",
   "execution_count": 4,
   "id": "cc867bf2-c7ca-44ca-8355-b6cbaf99d82d",
   "metadata": {},
   "outputs": [],
   "source": [
    "### Closed Eyes segments\n",
    "df_ce = pd.read_csv(segments_ce)\n",
    "\n",
    "### Closed Eyes segments\n",
    "df_oe = pd.read_csv(segments_oe)"
   ]
  },
  {
   "cell_type": "code",
   "execution_count": null,
   "id": "3ae0ed00-a171-49ab-aa4b-e895e3924002",
   "metadata": {},
   "outputs": [],
   "source": [
    "# Create a copy of the DataFrames and add the indicator column to the copies\n",
    "df_ce_temp = df_ce.copy()\n",
    "df_oe_temp = df_oe.copy()\n",
    "\n",
    "df_ce_temp['eyes'] = 0  # 0 indicates records from df_ce\n",
    "df_oe_temp['eyes'] = 1  # 1 indicates records from df_oe\n",
    "\n",
    "# Concatenate the DataFrames with the indicator column\n",
    "df_complete = pd.concat([df_ce_temp, df_oe_temp], axis=0, ignore_index=True)"
   ]
  },
  {
   "cell_type": "markdown",
   "id": "f90f25d4-36a9-424e-8c15-2c6cf5a5d894",
   "metadata": {},
   "source": [
    " "
   ]
  },
  {
   "cell_type": "markdown",
   "id": "342ef1b1-081f-495e-a01b-7f16daf1e5f7",
   "metadata": {},
   "source": [
    " "
   ]
  },
  {
   "cell_type": "markdown",
   "id": "c7745306-c754-445d-9080-e5c15c916c5e",
   "metadata": {},
   "source": [
    " "
   ]
  },
  {
   "cell_type": "markdown",
   "id": "213b25ad-02a1-4f7d-87b1-2c014f7e9339",
   "metadata": {},
   "source": [
    " "
   ]
  },
  {
   "cell_type": "markdown",
   "id": "3f74c730-8c46-4814-bed5-71305ffc0764",
   "metadata": {},
   "source": [
    " "
   ]
  },
  {
   "cell_type": "markdown",
   "id": "d104e978-c571-4cfb-b99e-df0b87029f0a",
   "metadata": {},
   "source": [
    "## 1. Data Preprocessing"
   ]
  },
  {
   "cell_type": "code",
   "execution_count": 6,
   "id": "ddbf5540-b10d-4774-9d8b-6438c52c42a7",
   "metadata": {},
   "outputs": [
    {
     "name": "stdout",
     "output_type": "stream",
     "text": [
      "\n",
      "Select the classifier type:\n",
      "1. Classifier - Microstate Endpoint: Uses 'MicrostateTo' as the target variable.\n",
      "2. Classifier - Microstate Transition: Uses 'MicrostateTransition' as the target variable.\n"
     ]
    },
    {
     "name": "stdin",
     "output_type": "stream",
     "text": [
      "Enter the number corresponding to your choice:  2\n"
     ]
    },
    {
     "name": "stdout",
     "output_type": "stream",
     "text": [
      "Random State:  20\n"
     ]
    }
   ],
   "source": [
    "df_train, df_test, train_patients, test_patients, rs = u.pre_requirements(df_ce)"
   ]
  },
  {
   "cell_type": "markdown",
   "id": "4fece0c2-5c79-4718-b364-7b239326e22b",
   "metadata": {},
   "source": [
    "The features and labels can be extracted as a DataFrame or array object for the following procedures that will be performed."
   ]
  },
  {
   "cell_type": "code",
   "execution_count": 100,
   "id": "5c8332e8-162c-4878-a853-3c634d89fba8",
   "metadata": {},
   "outputs": [
    {
     "name": "stdout",
     "output_type": "stream",
     "text": [
      "\n",
      "Select the data format:\n",
      "1: Returns data as DataFrames.\n",
      "2: Returns data as NumPy arrays.\n"
     ]
    },
    {
     "name": "stdin",
     "output_type": "stream",
     "text": [
      "Enter the number corresponding to your choice:  1\n"
     ]
    },
    {
     "name": "stdout",
     "output_type": "stream",
     "text": [
      "\n",
      "Select the classifier type:\n",
      "1. Classifier - Microstate Endpoint: Uses 'MicrostateTo' as the target variable.\n",
      "2. Classifier - Microstate Transition: Uses 'MicrostateTransition' as the target variable.\n"
     ]
    },
    {
     "name": "stdin",
     "output_type": "stream",
     "text": [
      "Enter the number corresponding to your choice:  2\n"
     ]
    }
   ],
   "source": [
    "df_X_train, df_y_train, df_X_test, df_y_test = u.extraction(df_train, df_test)"
   ]
  },
  {
   "cell_type": "code",
   "execution_count": 8,
   "id": "e6ca0984-b3cd-467c-8bdf-3c3a43bbb133",
   "metadata": {},
   "outputs": [
    {
     "name": "stdout",
     "output_type": "stream",
     "text": [
      "\n",
      "Select the data format:\n",
      "1: Returns data as DataFrames.\n",
      "2: Returns data as NumPy arrays.\n"
     ]
    },
    {
     "name": "stdin",
     "output_type": "stream",
     "text": [
      "Enter the number corresponding to your choice:  2\n"
     ]
    },
    {
     "name": "stdout",
     "output_type": "stream",
     "text": [
      "\n",
      "Select the classifier type:\n",
      "1. Classifier - Microstate Endpoint: Uses 'MicrostateTo' as the target variable.\n",
      "2. Classifier - Microstate Transition: Uses 'MicrostateTransition' as the target variable.\n"
     ]
    },
    {
     "name": "stdin",
     "output_type": "stream",
     "text": [
      "Enter the number corresponding to your choice:  2\n"
     ]
    }
   ],
   "source": [
    "X_train, y_train, X_test, y_test = u.extraction(df_train, df_test)"
   ]
  },
  {
   "cell_type": "code",
   "execution_count": 9,
   "id": "9b2e3d1d-7b09-4ef0-b0dc-1136e2c41c72",
   "metadata": {},
   "outputs": [
    {
     "name": "stdout",
     "output_type": "stream",
     "text": [
      "Shape of X_train: (14400, 210)\n",
      "Shape of y_train: (14400,)\n",
      "Shape of X_test: (3552, 210)\n",
      "Shape of y_test: (3552,)\n"
     ]
    }
   ],
   "source": [
    "# Print shapes\n",
    "print(\"Shape of X_train:\", X_train.shape)\n",
    "print(\"Shape of y_train:\", y_train.shape)\n",
    "print(\"Shape of X_test:\", X_test.shape)\n",
    "print(\"Shape of y_test:\", y_test.shape)"
   ]
  },
  {
   "cell_type": "markdown",
   "id": "2048a7dd-89fd-4ead-b4d5-9f78f667f58d",
   "metadata": {},
   "source": [
    " "
   ]
  },
  {
   "cell_type": "markdown",
   "id": "154d59c1-0c14-49cf-abbd-146a3aeb25cc",
   "metadata": {},
   "source": [
    " "
   ]
  },
  {
   "cell_type": "markdown",
   "id": "9ef2da59-54f9-4031-a8c0-5bafac1eefde",
   "metadata": {},
   "source": [
    " "
   ]
  },
  {
   "cell_type": "markdown",
   "id": "a3f84afb-b76f-4036-a941-955c80839cec",
   "metadata": {},
   "source": [
    " "
   ]
  },
  {
   "cell_type": "markdown",
   "id": "5fb7946e-342c-4c67-89af-1f953d0ba53a",
   "metadata": {},
   "source": [
    " "
   ]
  },
  {
   "cell_type": "markdown",
   "id": "0f1dd0d9-4d30-4890-8509-ab848626ee77",
   "metadata": {},
   "source": [
    "## 2. Data Normalization"
   ]
  },
  {
   "cell_type": "code",
   "execution_count": 10,
   "id": "30d76508-96ae-4b8a-90f6-5607f1b93531",
   "metadata": {},
   "outputs": [],
   "source": [
    "# Choosing Standard Scaler as normalizing function\n",
    "X_train_norm, X_test_norm = u.normalizing('ss', X_train, X_test)"
   ]
  },
  {
   "cell_type": "code",
   "execution_count": 11,
   "id": "dee929b5-55f9-4257-9aa4-9c234fab340b",
   "metadata": {},
   "outputs": [],
   "source": [
    "# Concatenate the normalized features with the target variable\n",
    "train_norm = np.hstack((y_train.reshape(-1,1), X_train_norm))\n",
    "test_norm = np.hstack((y_test.reshape(-1,1), X_test_norm))\n",
    "\n",
    "# Convert it in a DataFrame\n",
    "df_train_norm = pd.DataFrame(train_norm, columns=df_train.columns)\n",
    "df_test_norm = pd.DataFrame(test_norm, columns=df_test.columns)"
   ]
  },
  {
   "cell_type": "markdown",
   "id": "3ad56a22-bf74-40ee-91f2-24254d9d913c",
   "metadata": {},
   "source": [
    " "
   ]
  },
  {
   "cell_type": "markdown",
   "id": "30f2c785-5d50-42d1-8c65-b22a8d928445",
   "metadata": {},
   "source": [
    " "
   ]
  },
  {
   "cell_type": "markdown",
   "id": "92517e6f-a1c5-41a0-ad1a-d21715db5605",
   "metadata": {},
   "source": [
    " "
   ]
  },
  {
   "cell_type": "markdown",
   "id": "3dc6dac1-6f6c-4f15-847a-8be022465f4c",
   "metadata": {},
   "source": [
    " "
   ]
  },
  {
   "cell_type": "markdown",
   "id": "444aa55c-15a8-42b4-848e-0a75ecdd9789",
   "metadata": {},
   "source": [
    " "
   ]
  },
  {
   "cell_type": "markdown",
   "id": "192ede00-2b7e-4bc6-a4d4-3594957f13a1",
   "metadata": {},
   "source": [
    "## 3. Feature Selection\n",
    "\n",
    "Some previous requirements to perform the feature selection process are the following:"
   ]
  },
  {
   "cell_type": "code",
   "execution_count": 12,
   "id": "90a9357b-1192-4291-9e67-d7984491864e",
   "metadata": {},
   "outputs": [],
   "source": [
    "# Store the columns in an index object\n",
    "columns = df_train.columns"
   ]
  },
  {
   "cell_type": "code",
   "execution_count": 13,
   "id": "32fd31cf-2c0b-42ae-82d0-39aab847d36e",
   "metadata": {},
   "outputs": [],
   "source": [
    "# Store all the features (ROIs) in a list\n",
    "features = list(columns)[1:]"
   ]
  },
  {
   "cell_type": "code",
   "execution_count": 14,
   "id": "d95325e6-d0eb-4a1d-b638-d731ae8b226d",
   "metadata": {},
   "outputs": [],
   "source": [
    "# Obtain the features as a dataframe for both subsets, train and test\n",
    "df_X_train_norm = pd.DataFrame(df_train_norm.drop(columns=['MicrostateTransition']).values, columns=features)\n",
    "df_X_test_norm = pd.DataFrame(df_test_norm.drop(columns=['MicrostateTransition']).values, columns=features)"
   ]
  },
  {
   "cell_type": "markdown",
   "id": "03cf4cc8-947c-4488-9fe7-12de8db6e684",
   "metadata": {},
   "source": [
    " "
   ]
  },
  {
   "cell_type": "markdown",
   "id": "bf35dbd2-0da1-4560-bbb3-a6cc3b0629f9",
   "metadata": {},
   "source": [
    " "
   ]
  },
  {
   "cell_type": "markdown",
   "id": "03ca1a6c-31e0-4fae-8623-c0c7a169076e",
   "metadata": {},
   "source": [
    " "
   ]
  },
  {
   "cell_type": "markdown",
   "id": "d6ab8add-c2d5-4076-8bd7-14384b9b7a09",
   "metadata": {},
   "source": [
    "### 3.1. Logistic Regression\n",
    "\n",
    "#### 3.1.1. Multinomial Logistic Regression Coefficients"
   ]
  },
  {
   "cell_type": "code",
   "execution_count": 15,
   "id": "d7172383-32a6-449f-a29e-bd87d69a17f1",
   "metadata": {},
   "outputs": [],
   "source": [
    "coefficients = []\n",
    "intercepts = []\n",
    "\n",
    "for feature in features:\n",
    "    lr = u.log_reg(df_X_train_norm, y_train, df_X_test_norm, feature=feature)\n",
    "    coefficients.append(lr[0])\n",
    "    intercepts.append(lr[1])\n",
    "\n",
    "# Store the coefficients as well as the feature positions with respect them in two dictionaries\n",
    "importances_LR, feature_positions_LR = u.importances_model(features, coefficients)"
   ]
  },
  {
   "cell_type": "code",
   "execution_count": 16,
   "id": "be16a5f0-a6cd-4996-ab07-2a993b6380da",
   "metadata": {},
   "outputs": [],
   "source": [
    "# Obtain best features according to Logistic Regression\n",
    "best_features_LR_50 = list(feature_positions_LR.keys())[:50]\n",
    "best_features_LR_100 = list(feature_positions_LR.keys())[:100]\n",
    "best_features_LR_150 = list(feature_positions_LR.keys())[:150]"
   ]
  },
  {
   "cell_type": "markdown",
   "id": "c419bad4-8c73-46c5-a1ed-aa79960cf1a0",
   "metadata": {},
   "source": [
    "Showing the results."
   ]
  },
  {
   "cell_type": "code",
   "execution_count": 17,
   "id": "bd82d607-c48c-4a91-87d2-1116a80fd9ba",
   "metadata": {
    "scrolled": true
   },
   "outputs": [
    {
     "name": "stdout",
     "output_type": "stream",
     "text": [
      "Feature - Importance\n",
      "1. ROI_25: 0.17355619656843266\n",
      "2. ROI_130: 0.15205618256576683\n",
      "3. ROI_128: 0.14740836829657278\n",
      "4. ROI_23: 0.14548124138451943\n",
      "5. ROI_94: 0.11420212961513565\n",
      "6. ROI_35: 0.11408070882590553\n",
      "7. ROI_83: 0.11127702102722553\n",
      "8. ROI_22: 0.11127356553535002\n",
      "9. ROI_59: 0.10994967000393034\n",
      "10. ROI_84: 0.10793999354732084\n",
      "11. ROI_127: 0.10740082332655078\n",
      "12. ROI_182: -0.10593027892167663\n",
      "13. ROI_193: -0.10568348475581829\n",
      "14. ROI_88: -0.1030122966710208\n",
      "15. ROI_181: -0.10075149479117403\n",
      "16. ROI_196: -0.09800695163232409\n",
      "17. ROI_209: -0.09730869964119634\n",
      "18. ROI_77: -0.09667824753365879\n",
      "19. ROI_140: 0.09666736369726785\n",
      "20. ROI_131: 0.09502057518565485\n",
      "21. ROI_189: 0.09386045446247653\n",
      "22. ROI_19: 0.09224388483342286\n",
      "23. ROI_68: -0.0907719546893488\n",
      "24. ROI_204: -0.08955176036166378\n",
      "25. ROI_101: -0.0893923396674409\n",
      "26. ROI_26: 0.089290789681748\n",
      "27. ROI_123: 0.0875702659683915\n",
      "28. ROI_210: -0.08752907072252063\n",
      "29. ROI_76: -0.08702867563060451\n",
      "30. ROI_91: -0.08681036881907168\n",
      "31. ROI_188: 0.08584340568857463\n",
      "32. ROI_201: -0.08531580070868484\n",
      "33. ROI_72: -0.08520433071764642\n",
      "34. ROI_202: -0.08511740546492574\n",
      "35. ROI_104: -0.08411196405848217\n",
      "36. ROI_100: -0.08264624073408283\n",
      "37. ROI_99: -0.08216148799028326\n",
      "38. ROI_203: -0.0816837438685266\n",
      "39. ROI_47: 0.08148443087289893\n",
      "40. ROI_200: -0.08085752790654376\n",
      "41. ROI_62: -0.08046641950444146\n",
      "42. ROI_206: -0.07992583255632676\n",
      "43. ROI_169: -0.07980694147396826\n",
      "44. ROI_49: -0.07953815159125834\n",
      "45. ROI_207: -0.07941304532736236\n",
      "46. ROI_43: -0.07933513331970546\n",
      "47. ROI_194: 0.07928033873739647\n",
      "48. ROI_173: -0.07811661978521524\n",
      "49. ROI_105: -0.07793905215542811\n",
      "50. ROI_205: -0.07775821888438202\n",
      "51. ROI_46: -0.07713737298150732\n",
      "52. ROI_179: -0.07697248375897112\n",
      "53. ROI_18: 0.07661717266950481\n",
      "54. ROI_102: -0.07595355365033976\n",
      "55. ROI_98: -0.07505696823232363\n",
      "56. ROI_95: -0.07474070426442177\n",
      "57. ROI_97: -0.07473381195791858\n",
      "58. ROI_158: -0.07459346125228812\n",
      "59. ROI_180: -0.07455844399495758\n",
      "60. ROI_96: -0.07453473161065273\n",
      "61. ROI_198: -0.07440204033019443\n",
      "62. ROI_138: -0.07428844946505488\n",
      "63. ROI_103: -0.07421344573828499\n",
      "64. ROI_124: 0.07379038149342834\n",
      "65. ROI_74: -0.07371133702197277\n",
      "66. ROI_53: -0.07275184287346079\n",
      "67. ROI_126: 0.07237688481589247\n",
      "68. ROI_64: -0.0722688846066074\n",
      "69. ROI_177: -0.07220990155190059\n",
      "70. ROI_174: -0.07214174663805425\n",
      "71. ROI_154: -0.07206622015025427\n",
      "72. ROI_148: -0.07179443835563583\n",
      "73. ROI_172: -0.0712418617654509\n",
      "74. ROI_93: -0.07085827136554185\n",
      "75. ROI_164: 0.07067296104016418\n",
      "76. ROI_116: 0.07053762566724069\n",
      "77. ROI_69: -0.06989606196372833\n",
      "78. ROI_75: -0.06984693062495068\n",
      "79. ROI_67: -0.06965583928837873\n",
      "80. ROI_168: -0.06965021237933705\n",
      "81. ROI_55: 0.06945520558381901\n",
      "82. ROI_165: -0.06935879075259206\n",
      "83. ROI_63: -0.06918612609957389\n",
      "84. ROI_39: 0.06886712659492729\n",
      "85. ROI_71: -0.06765519866707846\n",
      "86. ROI_208: -0.06756654585898952\n",
      "87. ROI_199: 0.06755314306674048\n",
      "88. ROI_54: -0.06724335212045193\n",
      "89. ROI_65: -0.06679481877778712\n",
      "90. ROI_61: -0.0666773035556428\n",
      "91. ROI_73: -0.06567812535561121\n",
      "92. ROI_42: 0.06436569230819789\n",
      "93. ROI_33: -0.06398965134105206\n",
      "94. ROI_152: 0.06386508251336395\n",
      "95. ROI_151: -0.0635929537338717\n",
      "96. ROI_121: 0.06341578539182342\n",
      "97. ROI_159: -0.06322350443282725\n",
      "98. ROI_24: 0.06295601147796413\n",
      "99. ROI_50: -0.06138780330223786\n",
      "100. ROI_147: 0.06136390070890305\n",
      "101. ROI_70: -0.06125826922948165\n",
      "102. ROI_119: 0.060127823111385356\n",
      "103. ROI_171: -0.05983211493944005\n",
      "104. ROI_144: 0.05953568952533775\n",
      "105. ROI_186: -0.05944101377615584\n",
      "106. ROI_166: -0.05919241890126737\n",
      "107. ROI_58: 0.05918709423039395\n",
      "108. ROI_170: -0.05916844493827802\n",
      "109. ROI_14: 0.058962038969716656\n",
      "110. ROI_36: -0.058134927811667875\n",
      "111. ROI_66: -0.05806351734521188\n",
      "112. ROI_16: 0.05774133166499887\n",
      "113. ROI_175: -0.05729211745519119\n",
      "114. ROI_167: -0.056993935177237776\n",
      "115. ROI_11: 0.05590116151527157\n",
      "116. ROI_139: -0.055738788495125605\n",
      "117. ROI_155: -0.05565841745508214\n",
      "118. ROI_34: -0.0551546775420932\n",
      "119. ROI_134: -0.054157460814159765\n",
      "120. ROI_185: -0.05399183597260092\n",
      "121. ROI_135: -0.05342355778750589\n",
      "122. ROI_176: -0.052823463824241294\n",
      "123. ROI_80: -0.051761127127522025\n",
      "124. ROI_60: -0.05157897563200012\n",
      "125. ROI_81: -0.051284682073594566\n",
      "126. ROI_122: 0.04982207035976456\n",
      "127. ROI_110: -0.049389240458118815\n",
      "128. ROI_82: -0.04872996316471794\n",
      "129. ROI_29: -0.048694078630434706\n",
      "130. ROI_30: -0.04830098440928952\n",
      "131. ROI_38: -0.04728785367288483\n",
      "132. ROI_5: -0.047141388655288934\n",
      "133. ROI_10: 0.04647680011695717\n",
      "134. ROI_21: 0.04629763876309633\n",
      "135. ROI_133: -0.04611436312551454\n",
      "136. ROI_178: -0.04589659686810491\n",
      "137. ROI_92: -0.0455660447422261\n",
      "138. ROI_197: -0.04451672182699514\n",
      "139. ROI_141: -0.04444152885719148\n",
      "140. ROI_41: -0.043390883717813\n",
      "141. ROI_78: -0.043249689919338655\n",
      "142. ROI_162: -0.0430864090736999\n",
      "143. ROI_109: -0.04304120327772683\n",
      "144. ROI_51: -0.0426075288673708\n",
      "145. ROI_1: -0.04224472268444729\n",
      "146. ROI_183: -0.04201458829083571\n",
      "147. ROI_17: 0.041567343469915516\n",
      "148. ROI_187: -0.04144162387720458\n",
      "149. ROI_28: -0.04115566888636285\n",
      "150. ROI_190: 0.04107415058410775\n",
      "151. ROI_85: 0.040730729849629506\n",
      "152. ROI_106: -0.039954386571268444\n",
      "153. ROI_153: 0.03958619508082235\n",
      "154. ROI_52: 0.039455351470709034\n",
      "155. ROI_4: -0.03902239715167953\n",
      "156. ROI_156: -0.03835604764694359\n",
      "157. ROI_146: -0.03833564070593566\n",
      "158. ROI_160: 0.037193742257315435\n",
      "159. ROI_150: 0.03520681944354397\n",
      "160. ROI_129: 0.03487759589546677\n",
      "161. ROI_118: -0.03392275754738785\n",
      "162. ROI_143: -0.03232567079496055\n",
      "163. ROI_40: 0.03227585613492988\n",
      "164. ROI_87: 0.03142166313295461\n",
      "165. ROI_163: 0.03102059147009275\n",
      "166. ROI_13: -0.03022510019263217\n",
      "167. ROI_27: -0.029922081069188193\n",
      "168. ROI_90: 0.029847736347014608\n",
      "169. ROI_79: -0.028760792906693956\n",
      "170. ROI_57: -0.02698395594077679\n",
      "171. ROI_9: -0.026312187804254476\n",
      "172. ROI_192: 0.025844911158758564\n",
      "173. ROI_157: 0.024924421158455706\n",
      "174. ROI_44: -0.02457202109542509\n",
      "175. ROI_6: -0.022916213097361155\n",
      "176. ROI_48: 0.021689996247062727\n",
      "177. ROI_114: -0.021269392940672285\n",
      "178. ROI_111: -0.020533490572760976\n",
      "179. ROI_7: 0.020400842110262773\n",
      "180. ROI_32: -0.019651935085987962\n",
      "181. ROI_2: -0.018685844773768376\n",
      "182. ROI_20: 0.018384068923244505\n",
      "183. ROI_108: -0.01817907950723731\n",
      "184. ROI_12: -0.01751043887386766\n",
      "185. ROI_149: -0.014881305603099323\n",
      "186. ROI_120: 0.01454531462951163\n",
      "187. ROI_161: -0.014535224933674526\n",
      "188. ROI_37: -0.014450228325546918\n",
      "189. ROI_86: -0.014047175284353676\n",
      "190. ROI_107: -0.013789161877309835\n",
      "191. ROI_112: 0.013756755920096972\n",
      "192. ROI_195: 0.013659834177258095\n",
      "193. ROI_184: -0.013549884151316523\n",
      "194. ROI_191: -0.012311635356161069\n",
      "195. ROI_3: -0.011779556745297206\n",
      "196. ROI_89: -0.011752881358068274\n",
      "197. ROI_56: 0.01172716686310024\n",
      "198. ROI_125: 0.011674983743170338\n",
      "199. ROI_45: -0.01135096217525013\n",
      "200. ROI_142: 0.010723013737373674\n",
      "201. ROI_115: 0.010239576428607466\n",
      "202. ROI_132: -0.007850258417072856\n",
      "203. ROI_117: 0.005612566155516362\n",
      "204. ROI_137: 0.004729265388895481\n",
      "205. ROI_145: -0.004592198718934076\n",
      "206. ROI_113: 0.0029781919253543724\n",
      "207. ROI_8: 0.0025686402942227704\n",
      "208. ROI_15: -0.0009547438738643659\n",
      "209. ROI_31: -0.0005009741379568345\n",
      "210. ROI_136: -0.0002653126122131617\n"
     ]
    }
   ],
   "source": [
    "u.print_results_model(importances_LR)"
   ]
  },
  {
   "cell_type": "markdown",
   "id": "2444363b-2795-4f63-9f09-08fd0282ee65",
   "metadata": {},
   "source": [
    "Plotting the results."
   ]
  },
  {
   "cell_type": "code",
   "execution_count": 18,
   "id": "1393e67e-0ffb-4862-9851-ef830f2dc2ea",
   "metadata": {},
   "outputs": [
    {
     "data": {
      "image/png": "[encoded data removed]",
      "text/plain": [
       "<Figure size 1500x600 with 1 Axes>"
      ]
     },
     "metadata": {},
     "output_type": "display_data"
    }
   ],
   "source": [
    "u.plot_results_model(coefficients, features)"
   ]
  },
  {
   "cell_type": "markdown",
   "id": "34e59471-a65e-4a7b-b6f7-347496c52867",
   "metadata": {},
   "source": [
    " "
   ]
  },
  {
   "cell_type": "code",
   "execution_count": 19,
   "id": "71cf7fd7-edb2-4e3e-9fb8-99f7f2082faf",
   "metadata": {},
   "outputs": [],
   "source": [
    "# Initialize the model\n",
    "LR = LogisticRegression(max_iter=1000)"
   ]
  },
  {
   "cell_type": "markdown",
   "id": "0c781173-f249-4c31-8ef9-89e11ff7c5fb",
   "metadata": {},
   "source": [
    "##### I. Recursive Feature Elimination (RFE)"
   ]
  },
  {
   "cell_type": "code",
   "execution_count": 20,
   "id": "54fc0173-2f16-47c1-8fbe-04803ccdf4ec",
   "metadata": {},
   "outputs": [],
   "source": [
    "#selected_features_RFE_LR = u.wrappers(LR, 'RFE', 50, X_train_norm, y_train_norm, features)"
   ]
  },
  {
   "cell_type": "code",
   "execution_count": 21,
   "id": "13b56b34-7b80-47b0-aed2-b28f5ee39969",
   "metadata": {},
   "outputs": [],
   "source": [
    "#u.wrappers_print(selected_features_RFE_LR, feature_positions_LR, importances_LR_sorted)"
   ]
  },
  {
   "cell_type": "markdown",
   "id": "efd9dd98-c8e1-470b-97f6-ae6f1923cd09",
   "metadata": {},
   "source": [
    "##### II. Forward Selection"
   ]
  },
  {
   "cell_type": "code",
   "execution_count": 22,
   "id": "bf33ed98-7c21-448d-a4e6-f51194a1a6f9",
   "metadata": {},
   "outputs": [],
   "source": [
    "#selected_features_FS_LR = u.wrappers(LR, 'FS', 50, X_train_norm, y_train_norm, features)"
   ]
  },
  {
   "cell_type": "code",
   "execution_count": 23,
   "id": "308ba28b-ea59-4ab4-9ae6-b97ace2b41d3",
   "metadata": {},
   "outputs": [],
   "source": [
    "#u.wrappers_print(selected_features_FS_LR, feature_positions_LR, importances_LR_sorted)"
   ]
  },
  {
   "cell_type": "markdown",
   "id": "4fce7aa1-86c3-4027-9029-87a193d4dac8",
   "metadata": {},
   "source": [
    "##### III. Backward Elimination"
   ]
  },
  {
   "cell_type": "code",
   "execution_count": 24,
   "id": "f8f14830-317d-4620-b633-be779943430b",
   "metadata": {},
   "outputs": [],
   "source": [
    "#selected_features_BE_LR = u.wrappers(LR, 'BE', 50, X_train_norm, y_train_norm, features)"
   ]
  },
  {
   "cell_type": "code",
   "execution_count": 25,
   "id": "69fe5da8-5d0f-437b-a1e2-9e69be5bbf70",
   "metadata": {},
   "outputs": [],
   "source": [
    "#u.wrappers_print(selected_features_BE_LR, feature_positions_LR, importances_LR_sorted)"
   ]
  },
  {
   "cell_type": "markdown",
   "id": "aafdad98-7ca6-440b-bb82-d577a66491f3",
   "metadata": {},
   "source": [
    " "
   ]
  },
  {
   "cell_type": "markdown",
   "id": "2bcc85ad-378e-48fd-98fe-45cfcdb4c335",
   "metadata": {},
   "source": [
    " "
   ]
  },
  {
   "cell_type": "markdown",
   "id": "0b9f30aa-e992-4d25-95b2-fc824a585c9a",
   "metadata": {},
   "source": [
    " "
   ]
  },
  {
   "cell_type": "markdown",
   "id": "c1c7734d-0946-4977-a365-4e3c62965476",
   "metadata": {},
   "source": [
    " "
   ]
  },
  {
   "cell_type": "markdown",
   "id": "710125c7-0c5d-48e2-be12-9cf917c721bf",
   "metadata": {},
   "source": [
    " "
   ]
  },
  {
   "cell_type": "markdown",
   "id": "bdc0bd7d-55ef-4e5c-a4e1-21607a6baf95",
   "metadata": {},
   "source": [
    "### 3.2. Tree-Based Models"
   ]
  },
  {
   "cell_type": "code",
   "execution_count": 26,
   "id": "abe9bbf5-044c-4da6-85d4-125701b86529",
   "metadata": {},
   "outputs": [],
   "source": [
    "TC = ExtraTreesClassifier(n_estimators=100, random_state=10)\n",
    "\n",
    "RF = RandomForestClassifier(n_estimators=100, random_state=42)\n",
    "\n",
    "GB = GradientBoostingClassifier(n_estimators=100, random_state=42)\n",
    "\n",
    "XG = XGBClassifier(n_estimators=100, random_state=42)"
   ]
  },
  {
   "cell_type": "markdown",
   "id": "5f7554c4-6f76-403d-b0b4-81c5bf492052",
   "metadata": {},
   "source": [
    " "
   ]
  },
  {
   "cell_type": "markdown",
   "id": "4b6c445d-7b7c-48f3-9af3-b3c22f82b501",
   "metadata": {},
   "source": [
    "#### 3.2.1. Tree Classifier for Feature Importance"
   ]
  },
  {
   "cell_type": "code",
   "execution_count": 27,
   "id": "4a0254e4-2dae-40ce-8d72-7eb79d17daaf",
   "metadata": {},
   "outputs": [],
   "source": [
    "# Store the importances regarding tree classifiers as well as the feature positions with respect them in two dictionaries\n",
    "importances_TC, feature_positions_TC = u.tree_model(TC, X_train, y_train, features)"
   ]
  },
  {
   "cell_type": "markdown",
   "id": "9ba78c10-b5c1-478a-bcc9-440747ef03c5",
   "metadata": {},
   "source": [
    "Showing the results."
   ]
  },
  {
   "cell_type": "code",
   "execution_count": 28,
   "id": "f5b9a9d7-2e94-4720-b870-e16eb872073d",
   "metadata": {
    "scrolled": true
   },
   "outputs": [
    {
     "name": "stdout",
     "output_type": "stream",
     "text": [
      "Feature - Importance\n",
      "1. ROI_130: 0.005510514293870033\n",
      "2. ROI_25: 0.005468269185410002\n",
      "3. ROI_88: 0.0054680866227907856\n",
      "4. ROI_196: 0.005433460353939522\n",
      "5. ROI_194: 0.0053898126824638935\n",
      "6. ROI_59: 0.005321405651741214\n",
      "7. ROI_163: 0.005298946099787514\n",
      "8. ROI_55: 0.00521726047652066\n",
      "9. ROI_128: 0.005214904568938623\n",
      "10. ROI_164: 0.005205541327419582\n",
      "11. ROI_193: 0.005184563966572309\n",
      "12. ROI_23: 0.005162915287913104\n",
      "13. ROI_91: 0.005150640534489869\n",
      "14. ROI_58: 0.005146069800429695\n",
      "15. ROI_160: 0.005119366346836423\n",
      "16. ROI_182: 0.005100993186549616\n",
      "17. ROI_94: 0.0050969834266101546\n",
      "18. ROI_77: 0.00507531966123296\n",
      "19. ROI_161: 0.005072051974073454\n",
      "20. ROI_99: 0.005053358169618474\n",
      "21. ROI_90: 0.005048982291948438\n",
      "22. ROI_157: 0.00504744553460528\n",
      "23. ROI_82: 0.0050417346351657845\n",
      "24. ROI_181: 0.005038770062039293\n",
      "25. ROI_89: 0.005036777020645935\n",
      "26. ROI_203: 0.005023965049715366\n",
      "27. ROI_57: 0.005021825414497047\n",
      "28. ROI_76: 0.00501807863323652\n",
      "29. ROI_140: 0.005014594262439148\n",
      "30. ROI_187: 0.005002079373513648\n",
      "31. ROI_159: 0.0049968485801429935\n",
      "32. ROI_95: 0.004978960639858079\n",
      "33. ROI_165: 0.0049736226461050866\n",
      "34. ROI_204: 0.0049659490660819115\n",
      "35. ROI_200: 0.00496336184245748\n",
      "36. ROI_60: 0.0049585842360183865\n",
      "37. ROI_151: 0.004954774736407897\n",
      "38. ROI_162: 0.0049545348175346945\n",
      "39. ROI_56: 0.004951172284297837\n",
      "40. ROI_206: 0.004946437393193665\n",
      "41. ROI_207: 0.004936794758765881\n",
      "42. ROI_54: 0.00492992557414798\n",
      "43. ROI_86: 0.0049263054504522985\n",
      "44. ROI_210: 0.004922676356263962\n",
      "45. ROI_101: 0.004911152713677894\n",
      "46. ROI_158: 0.004905807892456576\n",
      "47. ROI_127: 0.004904607427055883\n",
      "48. ROI_205: 0.004902621420846485\n",
      "49. ROI_123: 0.004899547688567514\n",
      "50. ROI_179: 0.004881186514436244\n",
      "51. ROI_150: 0.004879848553773463\n",
      "52. ROI_155: 0.004864351867472061\n",
      "53. ROI_154: 0.004861719346499827\n",
      "54. ROI_124: 0.004861634203503108\n",
      "55. ROI_198: 0.0048608022575195075\n",
      "56. ROI_98: 0.004859021432115197\n",
      "57. ROI_173: 0.004856372245711147\n",
      "58. ROI_148: 0.004855363662524076\n",
      "59. ROI_156: 0.0048488880061933\n",
      "60. ROI_195: 0.004846754744903069\n",
      "61. ROI_93: 0.00484137212858429\n",
      "62. ROI_152: 0.004837252738038525\n",
      "63. ROI_104: 0.004835383673881111\n",
      "64. ROI_176: 0.004832117126681013\n",
      "65. ROI_70: 0.004829285693434932\n",
      "66. ROI_209: 0.004828306417275517\n",
      "67. ROI_185: 0.004822809624123651\n",
      "68. ROI_84: 0.004821570854864808\n",
      "69. ROI_35: 0.004820073225830882\n",
      "70. ROI_202: 0.004819406232935295\n",
      "71. ROI_191: 0.004815204464419015\n",
      "72. ROI_168: 0.0048093190376979405\n",
      "73. ROI_201: 0.004807653607811811\n",
      "74. ROI_53: 0.004807533668727868\n",
      "75. ROI_16: 0.004807301452103252\n",
      "76. ROI_166: 0.004807104755898032\n",
      "77. ROI_138: 0.004806030991555874\n",
      "78. ROI_177: 0.00480464871865298\n",
      "79. ROI_14: 0.004802142613577206\n",
      "80. ROI_92: 0.004801749886228687\n",
      "81. ROI_121: 0.004800976166522374\n",
      "82. ROI_72: 0.0047973757255757865\n",
      "83. ROI_174: 0.004795515937102771\n",
      "84. ROI_169: 0.004794219758003376\n",
      "85. ROI_100: 0.004793424557831553\n",
      "86. ROI_68: 0.004786459070938776\n",
      "87. ROI_188: 0.004784019960948003\n",
      "88. ROI_64: 0.004782223460936531\n",
      "89. ROI_133: 0.004777008879481825\n",
      "90. ROI_10: 0.004775771753987132\n",
      "91. ROI_189: 0.004775251583068877\n",
      "92. ROI_52: 0.004773320218104983\n",
      "93. ROI_65: 0.00477242768648037\n",
      "94. ROI_102: 0.0047650011165477416\n",
      "95. ROI_172: 0.004760595424107853\n",
      "96. ROI_109: 0.004758598381797853\n",
      "97. ROI_103: 0.004758332543143515\n",
      "98. ROI_139: 0.004756140551968732\n",
      "99. ROI_22: 0.004752492085332059\n",
      "100. ROI_96: 0.0047424802325529\n",
      "101. ROI_24: 0.004742292538269203\n",
      "102. ROI_135: 0.004738542432671703\n",
      "103. ROI_119: 0.004736026411532252\n",
      "104. ROI_131: 0.004733445880466689\n",
      "105. ROI_208: 0.004730513179287858\n",
      "106. ROI_67: 0.004727901423688723\n",
      "107. ROI_43: 0.00472479484078657\n",
      "108. ROI_19: 0.004724669683184136\n",
      "109. ROI_80: 0.004721709350893933\n",
      "110. ROI_167: 0.004719467670024874\n",
      "111. ROI_175: 0.00471667912833779\n",
      "112. ROI_144: 0.004716555953093904\n",
      "113. ROI_81: 0.004713839907213141\n",
      "114. ROI_34: 0.004711468222244205\n",
      "115. ROI_111: 0.004711386135521654\n",
      "116. ROI_33: 0.004709481240616787\n",
      "117. ROI_147: 0.004707306837697783\n",
      "118. ROI_20: 0.004704084588949357\n",
      "119. ROI_74: 0.004703531929739549\n",
      "120. ROI_180: 0.004699687060725245\n",
      "121. ROI_108: 0.0046981459614775225\n",
      "122. ROI_18: 0.004694687950149553\n",
      "123. ROI_197: 0.00469435440666166\n",
      "124. ROI_105: 0.004692972607907698\n",
      "125. ROI_26: 0.004691472488629989\n",
      "126. ROI_32: 0.004691158547162966\n",
      "127. ROI_153: 0.004690789034794678\n",
      "128. ROI_112: 0.004689504251092453\n",
      "129. ROI_183: 0.004686642290795938\n",
      "130. ROI_171: 0.004684184463001862\n",
      "131. ROI_21: 0.004672147175449137\n",
      "132. ROI_134: 0.004668024266168607\n",
      "133. ROI_69: 0.004665087273390997\n",
      "134. ROI_45: 0.004663219613171583\n",
      "135. ROI_30: 0.004663010469539877\n",
      "136. ROI_129: 0.004661528622499284\n",
      "137. ROI_49: 0.004659076515702605\n",
      "138. ROI_141: 0.004655949188284555\n",
      "139. ROI_178: 0.0046556352291597805\n",
      "140. ROI_7: 0.004653003286961308\n",
      "141. ROI_3: 0.004651479065556813\n",
      "142. ROI_186: 0.004648060766730955\n",
      "143. ROI_170: 0.00464787775240335\n",
      "144. ROI_1: 0.004645127468337233\n",
      "145. ROI_75: 0.0046412985346658865\n",
      "146. ROI_12: 0.004633286758534814\n",
      "147. ROI_29: 0.004631136870804767\n",
      "148. ROI_110: 0.004628492536891398\n",
      "149. ROI_27: 0.004619824000507873\n",
      "150. ROI_36: 0.004617608784772013\n",
      "151. ROI_78: 0.00461300262757573\n",
      "152. ROI_66: 0.004611316808858308\n",
      "153. ROI_126: 0.0046102271202764274\n",
      "154. ROI_125: 0.004609111891776897\n",
      "155. ROI_97: 0.004607212794537456\n",
      "156. ROI_28: 0.0046032294572544725\n",
      "157. ROI_115: 0.004599799736677735\n",
      "158. ROI_13: 0.004596205435562431\n",
      "159. ROI_17: 0.004593127090275148\n",
      "160. ROI_114: 0.004586512956615236\n",
      "161. ROI_199: 0.004583916013247176\n",
      "162. ROI_46: 0.0045813311953737295\n",
      "163. ROI_83: 0.00458116604433733\n",
      "164. ROI_15: 0.004579337583428954\n",
      "165. ROI_107: 0.004576563042691851\n",
      "166. ROI_146: 0.004575119158017207\n",
      "167. ROI_116: 0.004574260451905096\n",
      "168. ROI_122: 0.004571878033202988\n",
      "169. ROI_79: 0.00457166382281851\n",
      "170. ROI_143: 0.004564725911489291\n",
      "171. ROI_63: 0.004562129766732192\n",
      "172. ROI_5: 0.004560307780121431\n",
      "173. ROI_39: 0.004558712917355868\n",
      "174. ROI_11: 0.004556513867935223\n",
      "175. ROI_106: 0.0045564492861313545\n",
      "176. ROI_4: 0.004554957642574146\n",
      "177. ROI_8: 0.004554944815703828\n",
      "178. ROI_62: 0.004554647198231247\n",
      "179. ROI_71: 0.004553502835057174\n",
      "180. ROI_2: 0.004550669916460527\n",
      "181. ROI_50: 0.0045493170374792365\n",
      "182. ROI_190: 0.004549057418112667\n",
      "183. ROI_120: 0.0045486621959165575\n",
      "184. ROI_117: 0.00454424276819158\n",
      "185. ROI_132: 0.004530952146490847\n",
      "186. ROI_136: 0.004530146795531022\n",
      "187. ROI_31: 0.004513661552074962\n",
      "188. ROI_149: 0.004511925170017499\n",
      "189. ROI_87: 0.004506484090421046\n",
      "190. ROI_9: 0.004499843521075012\n",
      "191. ROI_137: 0.004497270687733715\n",
      "192. ROI_47: 0.004496073310023867\n",
      "193. ROI_37: 0.0044955968969798525\n",
      "194. ROI_142: 0.004490656018239525\n",
      "195. ROI_51: 0.0044867864189495075\n",
      "196. ROI_6: 0.004483810100480774\n",
      "197. ROI_145: 0.004472468777436996\n",
      "198. ROI_61: 0.004469819281683449\n",
      "199. ROI_73: 0.004464767863869182\n",
      "200. ROI_184: 0.004460506040540533\n",
      "201. ROI_48: 0.004458879652402779\n",
      "202. ROI_113: 0.004455773011877057\n",
      "203. ROI_192: 0.004430332446961498\n",
      "204. ROI_118: 0.004420608939270982\n",
      "205. ROI_85: 0.004415937981495989\n",
      "206. ROI_40: 0.0044136538347557255\n",
      "207. ROI_38: 0.004408508024096967\n",
      "208. ROI_41: 0.0043851271408677376\n",
      "209. ROI_42: 0.004349258578035709\n",
      "210. ROI_44: 0.004316912239856686\n"
     ]
    }
   ],
   "source": [
    "u.print_results_model(importances_TC)"
   ]
  },
  {
   "cell_type": "markdown",
   "id": "c35c4c2d-3f75-4faf-971a-cd47b8898576",
   "metadata": {},
   "source": [
    "Plotting the results."
   ]
  },
  {
   "cell_type": "code",
   "execution_count": 29,
   "id": "8ffb94fa-9e94-41b4-9961-55e9338bd587",
   "metadata": {},
   "outputs": [
    {
     "data": {
      "image/png": "[encoded data removed]",
      "text/plain": [
       "<Figure size 1500x600 with 1 Axes>"
      ]
     },
     "metadata": {},
     "output_type": "display_data"
    }
   ],
   "source": [
    "u.plot_results_model(TC.feature_importances_, features)"
   ]
  },
  {
   "cell_type": "markdown",
   "id": "8541ab97-af08-4c76-aa53-283b2f930f22",
   "metadata": {},
   "source": [
    "##### I. Recursive Feature Elimination (RFE)"
   ]
  },
  {
   "cell_type": "code",
   "execution_count": 30,
   "id": "c192d1e6-fa01-4ef8-9abb-2c4409130196",
   "metadata": {},
   "outputs": [],
   "source": [
    "#selected_features_RFE_TC = u.wrappers(TC, 'RFE', 50, X_train, y_train, features)"
   ]
  },
  {
   "cell_type": "code",
   "execution_count": 31,
   "id": "644b1f07-5487-4799-9706-caaa52253bde",
   "metadata": {},
   "outputs": [],
   "source": [
    "#u.wrappers_print(selected_features_RFE_TC, feature_positions_TC, importances_TC)"
   ]
  },
  {
   "cell_type": "markdown",
   "id": "0e016339-713c-4226-bac0-c7db49611715",
   "metadata": {},
   "source": [
    "##### II. Forward Selection"
   ]
  },
  {
   "cell_type": "code",
   "execution_count": 32,
   "id": "0540816b-9451-477c-b803-3d66225769b7",
   "metadata": {},
   "outputs": [],
   "source": [
    "#selected_features_FS_TC = u.wrappers(TC, 'FS', 50, X_train, y_train, features)"
   ]
  },
  {
   "cell_type": "code",
   "execution_count": 33,
   "id": "8ebe3b0b-7d82-4186-b2cb-d1308759d950",
   "metadata": {},
   "outputs": [],
   "source": [
    "#u.wrappers_print(selected_features_FS_TC, feature_positions_TC, importances_TC)"
   ]
  },
  {
   "cell_type": "markdown",
   "id": "c0640f02-ece2-4fc4-9420-8364c6611b28",
   "metadata": {},
   "source": [
    "##### III. Backward Elimination"
   ]
  },
  {
   "cell_type": "code",
   "execution_count": 34,
   "id": "f926863f-b348-46ab-9138-41d849c6260b",
   "metadata": {},
   "outputs": [],
   "source": [
    "#selected_features_BE_TC = u.wrappers(TC, 'BE', 50, X_train, y_train, features)"
   ]
  },
  {
   "cell_type": "code",
   "execution_count": 35,
   "id": "8a2aa831-42c7-42e2-afab-263544e7313f",
   "metadata": {},
   "outputs": [],
   "source": [
    "#u.wrappers_print(selected_features_BE_TC, feature_positions_TC, importances_TC)"
   ]
  },
  {
   "cell_type": "markdown",
   "id": "38bac1e6-5de1-4ec9-8f65-ecc250c68a97",
   "metadata": {},
   "source": [
    " "
   ]
  },
  {
   "cell_type": "markdown",
   "id": "a63ce14a-8f36-45e4-a17c-d73003394a10",
   "metadata": {},
   "source": [
    " "
   ]
  },
  {
   "cell_type": "markdown",
   "id": "10dde3c8-7314-46d4-95fc-04c5b2a4e3a8",
   "metadata": {},
   "source": [
    "  "
   ]
  },
  {
   "cell_type": "markdown",
   "id": "8f8a222f-f75c-4500-b5ff-ee3bbfa2d7d5",
   "metadata": {},
   "source": [
    "#### 3.2.2. Random Forest for Feature Importance"
   ]
  },
  {
   "cell_type": "code",
   "execution_count": 36,
   "id": "219b706e-22e1-402b-9168-304aa41e284f",
   "metadata": {},
   "outputs": [],
   "source": [
    "# Store the importances regarding random forest as well as the feature positions with respect them in two dictionaries\n",
    "importances_RF, feature_positions_RF = u.tree_model(RF, X_train, y_train, features)"
   ]
  },
  {
   "cell_type": "markdown",
   "id": "a19f0bc0-4ceb-4955-ab10-cfda6e7161ca",
   "metadata": {},
   "source": [
    "Showing the results."
   ]
  },
  {
   "cell_type": "code",
   "execution_count": 37,
   "id": "10731398-6119-4142-a541-ff4e20d3168f",
   "metadata": {
    "scrolled": true
   },
   "outputs": [
    {
     "name": "stdout",
     "output_type": "stream",
     "text": [
      "Feature - Importance\n",
      "1. ROI_25: 0.006075020789204882\n",
      "2. ROI_130: 0.006023024769229192\n",
      "3. ROI_88: 0.005610421530018549\n",
      "4. ROI_193: 0.005567949549800428\n",
      "5. ROI_94: 0.00547176667196311\n",
      "6. ROI_194: 0.005361271297976045\n",
      "7. ROI_128: 0.00525487096745111\n",
      "8. ROI_196: 0.005254751325000307\n",
      "9. ROI_89: 0.005229957065690766\n",
      "10. ROI_59: 0.005219868587035314\n",
      "11. ROI_77: 0.005183301112085775\n",
      "12. ROI_82: 0.0051801325519123765\n",
      "13. ROI_163: 0.005170128093872065\n",
      "14. ROI_174: 0.005120993954396394\n",
      "15. ROI_177: 0.005114603404279061\n",
      "16. ROI_148: 0.005114384843344034\n",
      "17. ROI_90: 0.005109463615440073\n",
      "18. ROI_173: 0.00509027699156608\n",
      "19. ROI_91: 0.005088380913404214\n",
      "20. ROI_181: 0.0050659164372927135\n",
      "21. ROI_199: 0.005062765044494708\n",
      "22. ROI_164: 0.0050574732173381595\n",
      "23. ROI_201: 0.005046828175039382\n",
      "24. ROI_187: 0.005037649771627921\n",
      "25. ROI_204: 0.005034628634776969\n",
      "26. ROI_14: 0.005012930373474767\n",
      "27. ROI_167: 0.005011874854292207\n",
      "28. ROI_104: 0.005007411083140078\n",
      "29. ROI_198: 0.005004685187908763\n",
      "30. ROI_154: 0.0050041144697311425\n",
      "31. ROI_101: 0.004997295430498493\n",
      "32. ROI_76: 0.004988841441596456\n",
      "33. ROI_210: 0.004988059868838669\n",
      "34. ROI_7: 0.004986974786334297\n",
      "35. ROI_105: 0.004983265219845893\n",
      "36. ROI_121: 0.004977520088321279\n",
      "37. ROI_200: 0.0049743056741406635\n",
      "38. ROI_68: 0.004964552524186518\n",
      "39. ROI_175: 0.004958631546071481\n",
      "40. ROI_182: 0.004956763149878729\n",
      "41. ROI_58: 0.004954457108863018\n",
      "42. ROI_23: 0.004943365965716817\n",
      "43. ROI_99: 0.004935881961254226\n",
      "44. ROI_72: 0.004932774360078166\n",
      "45. ROI_206: 0.0049317202642538815\n",
      "46. ROI_112: 0.00493170267614957\n",
      "47. ROI_183: 0.0049165459524745094\n",
      "48. ROI_178: 0.004913553200142754\n",
      "49. ROI_126: 0.004906643659875042\n",
      "50. ROI_176: 0.004906547956454799\n",
      "51. ROI_100: 0.004905561028555005\n",
      "52. ROI_185: 0.004904821961299063\n",
      "53. ROI_172: 0.004902504748427308\n",
      "54. ROI_202: 0.00490218732950032\n",
      "55. ROI_107: 0.004882637849917822\n",
      "56. ROI_10: 0.0048784438693300295\n",
      "57. ROI_208: 0.004872671076759103\n",
      "58. ROI_12: 0.004872481032049472\n",
      "59. ROI_158: 0.0048698924029561145\n",
      "60. ROI_111: 0.00486630522024969\n",
      "61. ROI_116: 0.00486179450473607\n",
      "62. ROI_137: 0.004859741820700606\n",
      "63. ROI_205: 0.004858852556450808\n",
      "64. ROI_16: 0.004858543551160011\n",
      "65. ROI_80: 0.004856477417327779\n",
      "66. ROI_207: 0.0048554454613064305\n",
      "67. ROI_73: 0.004854084263944901\n",
      "68. ROI_78: 0.004846836497377271\n",
      "69. ROI_134: 0.004846815698553992\n",
      "70. ROI_166: 0.004842783956160438\n",
      "71. ROI_160: 0.004839188786647758\n",
      "72. ROI_70: 0.004837439213572197\n",
      "73. ROI_170: 0.004832716738885052\n",
      "74. ROI_97: 0.004832488187878315\n",
      "75. ROI_140: 0.004829096811733849\n",
      "76. ROI_55: 0.004825321015858703\n",
      "77. ROI_108: 0.004820767145478754\n",
      "78. ROI_79: 0.0048203204371099215\n",
      "79. ROI_11: 0.004818702806721585\n",
      "80. ROI_115: 0.004814151943650095\n",
      "81. ROI_120: 0.004813972652865023\n",
      "82. ROI_92: 0.004809552013747878\n",
      "83. ROI_15: 0.0048029599929721705\n",
      "84. ROI_102: 0.004802114268588961\n",
      "85. ROI_195: 0.004798556743670032\n",
      "86. ROI_113: 0.004798203863547075\n",
      "87. ROI_6: 0.004795097404702955\n",
      "88. ROI_156: 0.004794729814364056\n",
      "89. ROI_71: 0.004794433980440973\n",
      "90. ROI_27: 0.0047887882837859665\n",
      "91. ROI_32: 0.0047867022468143705\n",
      "92. ROI_53: 0.004779146914075728\n",
      "93. ROI_3: 0.004773107592553955\n",
      "94. ROI_161: 0.004772373396220384\n",
      "95. ROI_197: 0.004768001111453984\n",
      "96. ROI_122: 0.004763304081254155\n",
      "97. ROI_49: 0.004761652577282178\n",
      "98. ROI_127: 0.004761554595970867\n",
      "99. ROI_8: 0.004760745420324723\n",
      "100. ROI_29: 0.004759094285152217\n",
      "101. ROI_54: 0.004758413048423075\n",
      "102. ROI_81: 0.0047562055588357514\n",
      "103. ROI_118: 0.00475545732761971\n",
      "104. ROI_159: 0.004754078614435643\n",
      "105. ROI_86: 0.0047533281239405464\n",
      "106. ROI_95: 0.004752938652771191\n",
      "107. ROI_141: 0.0047522289450427704\n",
      "108. ROI_138: 0.004749854090528266\n",
      "109. ROI_21: 0.0047483697260764495\n",
      "110. ROI_69: 0.0047474092762073905\n",
      "111. ROI_64: 0.004747209927639318\n",
      "112. ROI_13: 0.00474530175442687\n",
      "113. ROI_24: 0.00474450880425884\n",
      "114. ROI_4: 0.004743399295056867\n",
      "115. ROI_150: 0.0047426887377055305\n",
      "116. ROI_43: 0.004739406239133744\n",
      "117. ROI_65: 0.004731628136351101\n",
      "118. ROI_152: 0.00472538658077781\n",
      "119. ROI_22: 0.004723969743889202\n",
      "120. ROI_169: 0.0047239575144497085\n",
      "121. ROI_188: 0.004721451504046283\n",
      "122. ROI_57: 0.0047209761973030576\n",
      "123. ROI_191: 0.0047174028327725106\n",
      "124. ROI_1: 0.004714236162805011\n",
      "125. ROI_151: 0.004707357594216581\n",
      "126. ROI_162: 0.0047045566274238095\n",
      "127. ROI_129: 0.00470024325991253\n",
      "128. ROI_96: 0.004699827409375258\n",
      "129. ROI_186: 0.004698125541382831\n",
      "130. ROI_119: 0.004698112703695907\n",
      "131. ROI_157: 0.00469156942353822\n",
      "132. ROI_35: 0.004685993964866918\n",
      "133. ROI_36: 0.004685877974080098\n",
      "134. ROI_28: 0.0046824805060506\n",
      "135. ROI_179: 0.004674857351131038\n",
      "136. ROI_66: 0.004673264355544637\n",
      "137. ROI_153: 0.004668575687748248\n",
      "138. ROI_103: 0.0046669702648373754\n",
      "139. ROI_117: 0.004652339217428704\n",
      "140. ROI_155: 0.004651851148164224\n",
      "141. ROI_93: 0.004646769195221285\n",
      "142. ROI_61: 0.004638814015029067\n",
      "143. ROI_146: 0.004638781583664384\n",
      "144. ROI_9: 0.004637371975305003\n",
      "145. ROI_52: 0.004634053912923201\n",
      "146. ROI_131: 0.004624294838636468\n",
      "147. ROI_60: 0.004623308059639061\n",
      "148. ROI_209: 0.004619344645647242\n",
      "149. ROI_203: 0.004616914652737028\n",
      "150. ROI_87: 0.0046163775757310085\n",
      "151. ROI_74: 0.004615779816142665\n",
      "152. ROI_114: 0.00461469055850678\n",
      "153. ROI_2: 0.004613522241536733\n",
      "154. ROI_67: 0.0046109547315417295\n",
      "155. ROI_143: 0.004601996862719881\n",
      "156. ROI_133: 0.0045950329586480375\n",
      "157. ROI_38: 0.004590011076977473\n",
      "158. ROI_17: 0.004587567998097342\n",
      "159. ROI_171: 0.004586901525322403\n",
      "160. ROI_33: 0.0045865402734123215\n",
      "161. ROI_165: 0.004583551484734435\n",
      "162. ROI_63: 0.004582647124677473\n",
      "163. ROI_123: 0.004582272563421926\n",
      "164. ROI_84: 0.004581809995392023\n",
      "165. ROI_56: 0.004565322188563194\n",
      "166. ROI_125: 0.004563547245794476\n",
      "167. ROI_109: 0.004561779310819895\n",
      "168. ROI_19: 0.004559335175113771\n",
      "169. ROI_136: 0.004552437642913202\n",
      "170. ROI_132: 0.00455129385874755\n",
      "171. ROI_189: 0.004549123849060463\n",
      "172. ROI_180: 0.00454498971324647\n",
      "173. ROI_18: 0.004540151466148284\n",
      "174. ROI_75: 0.004534052998935789\n",
      "175. ROI_26: 0.00453143178171794\n",
      "176. ROI_145: 0.004527671695805102\n",
      "177. ROI_192: 0.004519820716395602\n",
      "178. ROI_20: 0.004518992255757709\n",
      "179. ROI_62: 0.004518883234934507\n",
      "180. ROI_149: 0.00451202456081936\n",
      "181. ROI_139: 0.0045110785768852244\n",
      "182. ROI_45: 0.0045038147046486746\n",
      "183. ROI_106: 0.004502909931983369\n",
      "184. ROI_184: 0.004502400137779517\n",
      "185. ROI_41: 0.004500149214522351\n",
      "186. ROI_47: 0.004493425373087014\n",
      "187. ROI_83: 0.004481188180577652\n",
      "188. ROI_98: 0.00447396130155364\n",
      "189. ROI_50: 0.0044621811563076725\n",
      "190. ROI_124: 0.004457246006659692\n",
      "191. ROI_168: 0.004453786165302863\n",
      "192. ROI_46: 0.004437169952660522\n",
      "193. ROI_135: 0.004426635478131151\n",
      "194. ROI_37: 0.004380946436710679\n",
      "195. ROI_85: 0.004372236695398559\n",
      "196. ROI_190: 0.004366527041584607\n",
      "197. ROI_44: 0.004366015572663369\n",
      "198. ROI_48: 0.004334630997292683\n",
      "199. ROI_144: 0.004323042309886649\n",
      "200. ROI_51: 0.00432108700512154\n",
      "201. ROI_5: 0.004316180730895576\n",
      "202. ROI_147: 0.004307636034170227\n",
      "203. ROI_30: 0.00430577252234221\n",
      "204. ROI_142: 0.004260633990964343\n",
      "205. ROI_39: 0.004258096594636063\n",
      "206. ROI_110: 0.0042444531899340195\n",
      "207. ROI_34: 0.004218707209106411\n",
      "208. ROI_40: 0.00416812693543466\n",
      "209. ROI_42: 0.004136888207539486\n",
      "210. ROI_31: 0.004131680470039699\n"
     ]
    }
   ],
   "source": [
    "u.print_results_model(importances_RF)"
   ]
  },
  {
   "cell_type": "markdown",
   "id": "cd6b0b07-4a67-4db4-9bbf-b871666116ce",
   "metadata": {},
   "source": [
    "Plotting the results."
   ]
  },
  {
   "cell_type": "code",
   "execution_count": 38,
   "id": "e666a7e3-8b76-4f69-b71a-4b6b1ad447b8",
   "metadata": {},
   "outputs": [
    {
     "data": {
      "image/png": "[encoded data removed]",
      "text/plain": [
       "<Figure size 1500x600 with 1 Axes>"
      ]
     },
     "metadata": {},
     "output_type": "display_data"
    }
   ],
   "source": [
    "u.plot_results_model(RF.feature_importances_, features)"
   ]
  },
  {
   "cell_type": "markdown",
   "id": "77e9ad6c-d070-400c-b331-8fa31024b9a3",
   "metadata": {},
   "source": [
    " "
   ]
  },
  {
   "cell_type": "markdown",
   "id": "0a704143-7ac5-48c4-b87d-72340a855e26",
   "metadata": {},
   "source": [
    "##### I. Recursive Feature Elimination (RFE)"
   ]
  },
  {
   "cell_type": "code",
   "execution_count": 39,
   "id": "64bdf757-5a77-431b-9179-5bbcb5def921",
   "metadata": {},
   "outputs": [],
   "source": [
    "#selected_features_RFE_RF, feature_positions_RF = u.wrappers(RF, 'RFE', 50, X_train, y_train, features)"
   ]
  },
  {
   "cell_type": "code",
   "execution_count": 40,
   "id": "d5cc1a89-574e-4d8e-9d5c-de2f353eff13",
   "metadata": {},
   "outputs": [],
   "source": [
    "#u.wrappers_print(selected_features_RF, feature_positions_RF, importances_RF)"
   ]
  },
  {
   "cell_type": "markdown",
   "id": "be270580-5cb5-4536-a629-57198b11ac12",
   "metadata": {},
   "source": [
    "##### II. Forward Selection"
   ]
  },
  {
   "cell_type": "code",
   "execution_count": 41,
   "id": "619850d9-ae09-400e-a1ab-583dd87cd0bc",
   "metadata": {},
   "outputs": [],
   "source": [
    "#selected_features_FS_RF, feature_positions_RF = u.wrappers(RF, 'FS', 50, X_train, y_train, features)"
   ]
  },
  {
   "cell_type": "code",
   "execution_count": 42,
   "id": "599fab33-09da-444e-968d-a1c8ab368bf6",
   "metadata": {},
   "outputs": [],
   "source": [
    "#u.wrappers_print(selected_features_FS_RF, feature_positions_RF, importances_RF)"
   ]
  },
  {
   "cell_type": "markdown",
   "id": "da58e361-646e-4c81-8cc0-b74c98d886fe",
   "metadata": {},
   "source": [
    "##### III. Backward Elimination"
   ]
  },
  {
   "cell_type": "code",
   "execution_count": 43,
   "id": "c9484962-5566-4a6b-bdca-6c4eeba18674",
   "metadata": {},
   "outputs": [],
   "source": [
    "#selected_features_BE_RF, feature_positions_RF = u.wrappers(RF, 'BE', 50, X_train, y_train, features)"
   ]
  },
  {
   "cell_type": "code",
   "execution_count": 44,
   "id": "f397ff53-d076-43ed-95a2-0ff9e79ecf72",
   "metadata": {},
   "outputs": [],
   "source": [
    "#u.wrappers_print(selected_features_BE_RF, feature_positions_RF, importances_RF)"
   ]
  },
  {
   "cell_type": "markdown",
   "id": "6eb34b82-ffb3-418b-b3e7-7759b566959d",
   "metadata": {},
   "source": [
    " "
   ]
  },
  {
   "cell_type": "markdown",
   "id": "e2fcc95d-c5f8-4480-a7e4-1639548b66cb",
   "metadata": {},
   "source": [
    " "
   ]
  },
  {
   "cell_type": "markdown",
   "id": "7a23eade-c8d0-4ee7-a767-2ca71a31ef3f",
   "metadata": {},
   "source": [
    " "
   ]
  },
  {
   "cell_type": "markdown",
   "id": "06a15330-eac5-45b7-96f6-9fcad40a54b7",
   "metadata": {},
   "source": [
    "#### 3.2.3. Gradient Boosting for Feature Importance"
   ]
  },
  {
   "cell_type": "code",
   "execution_count": 45,
   "id": "5e7e3c64-1871-4da9-92e4-5bcae8716497",
   "metadata": {},
   "outputs": [],
   "source": [
    "# Store the importances regarding gradient boosting as well as the feature positions with respect them in two dictionaries\n",
    "importances_GB, feature_positions_GB = u.tree_model(GB, X_train, y_train, features)"
   ]
  },
  {
   "cell_type": "code",
   "execution_count": 46,
   "id": "a43ff7d6-c902-4d52-ae73-2abf4d0a622e",
   "metadata": {},
   "outputs": [],
   "source": [
    "# Obtain best features according to the Gradient Boosting model\n",
    "best_features_GB_50 = list(feature_positions_GB.keys())[:50]\n",
    "best_features_GB_100 = list(feature_positions_GB.keys())[:100]\n",
    "best_features_GB_150 = list(feature_positions_GB.keys())[:150]"
   ]
  },
  {
   "cell_type": "markdown",
   "id": "fe906f3c-933f-437a-8443-acee9a5de5bd",
   "metadata": {},
   "source": [
    "Showing the results."
   ]
  },
  {
   "cell_type": "code",
   "execution_count": 47,
   "id": "9d9242e8-7d68-4050-ad45-1633c292102e",
   "metadata": {
    "scrolled": true
   },
   "outputs": [
    {
     "name": "stdout",
     "output_type": "stream",
     "text": [
      "Feature - Importance\n",
      "1. ROI_130: 0.022241144668717718\n",
      "2. ROI_25: 0.019318137819588677\n",
      "3. ROI_88: 0.01422589849656904\n",
      "4. ROI_196: 0.010513078576472734\n",
      "5. ROI_194: 0.010186256030142846\n",
      "6. ROI_94: 0.009635275800971886\n",
      "7. ROI_193: 0.009594071336660164\n",
      "8. ROI_128: 0.009323269288729435\n",
      "9. ROI_206: 0.00891504379063528\n",
      "10. ROI_89: 0.008316310658321982\n",
      "11. ROI_103: 0.008194144109180925\n",
      "12. ROI_181: 0.007951720115014854\n",
      "13. ROI_72: 0.007569632174155017\n",
      "14. ROI_68: 0.007458671234354787\n",
      "15. ROI_182: 0.007245443447132326\n",
      "16. ROI_174: 0.007137960658812791\n",
      "17. ROI_29: 0.006726985430869372\n",
      "18. ROI_1: 0.006697070678622251\n",
      "19. ROI_98: 0.0066911215110510855\n",
      "20. ROI_203: 0.006667951762135262\n",
      "21. ROI_210: 0.0065669471902217915\n",
      "22. ROI_102: 0.006531360525101176\n",
      "23. ROI_23: 0.006486255658934556\n",
      "24. ROI_191: 0.006464943406046449\n",
      "25. ROI_129: 0.006443550810439242\n",
      "26. ROI_151: 0.006373223006946402\n",
      "27. ROI_90: 0.006350377626621601\n",
      "28. ROI_175: 0.006276313113742547\n",
      "29. ROI_8: 0.0062457585814963135\n",
      "30. ROI_164: 0.006228240661837141\n",
      "31. ROI_82: 0.006193754566621037\n",
      "32. ROI_146: 0.006168445014374017\n",
      "33. ROI_13: 0.006147475099143775\n",
      "34. ROI_148: 0.006124618992379494\n",
      "35. ROI_65: 0.006024009376797866\n",
      "36. ROI_14: 0.006018784884448305\n",
      "37. ROI_187: 0.006015374148491916\n",
      "38. ROI_122: 0.00600670597304476\n",
      "39. ROI_179: 0.0059935220650128174\n",
      "40. ROI_86: 0.0059848238114681655\n",
      "41. ROI_158: 0.005966243096166626\n",
      "42. ROI_204: 0.005893614957340814\n",
      "43. ROI_201: 0.005816845839745429\n",
      "44. ROI_81: 0.005732912015355739\n",
      "45. ROI_115: 0.005675644274255186\n",
      "46. ROI_76: 0.005672497176080167\n",
      "47. ROI_78: 0.005660100550653019\n",
      "48. ROI_104: 0.005619760131964793\n",
      "49. ROI_3: 0.005605014256735868\n",
      "50. ROI_173: 0.0055850154044242315\n",
      "51. ROI_59: 0.005581029227535115\n",
      "52. ROI_162: 0.005556751469975164\n",
      "53. ROI_186: 0.005549324192669123\n",
      "54. ROI_77: 0.005522733129218205\n",
      "55. ROI_27: 0.0054920053314493605\n",
      "56. ROI_114: 0.005452871159362871\n",
      "57. ROI_9: 0.005405613424551219\n",
      "58. ROI_100: 0.005384377424754081\n",
      "59. ROI_137: 0.005377627853512486\n",
      "60. ROI_124: 0.005367818126416803\n",
      "61. ROI_84: 0.005275705701768088\n",
      "62. ROI_15: 0.0052537382136784785\n",
      "63. ROI_143: 0.005194706820498655\n",
      "64. ROI_62: 0.0051554026149573905\n",
      "65. ROI_119: 0.0051487352614176364\n",
      "66. ROI_99: 0.005135200298446749\n",
      "67. ROI_112: 0.005131267100627732\n",
      "68. ROI_135: 0.005121750477947036\n",
      "69. ROI_161: 0.005095938648375134\n",
      "70. ROI_113: 0.005089123838244257\n",
      "71. ROI_92: 0.0050794308279600315\n",
      "72. ROI_109: 0.005078071444843745\n",
      "73. ROI_116: 0.005045678666333798\n",
      "74. ROI_177: 0.004930174572851142\n",
      "75. ROI_7: 0.0049296414835456595\n",
      "76. ROI_163: 0.004921453257502539\n",
      "77. ROI_57: 0.004914590218286828\n",
      "78. ROI_205: 0.004907852577935349\n",
      "79. ROI_2: 0.00487280507959953\n",
      "80. ROI_30: 0.0048544134683487245\n",
      "81. ROI_188: 0.004852075817698227\n",
      "82. ROI_32: 0.0048458742450703685\n",
      "83. ROI_95: 0.004835777734923901\n",
      "84. ROI_80: 0.00481885409011775\n",
      "85. ROI_121: 0.004816367271325621\n",
      "86. ROI_118: 0.0047622641578452685\n",
      "87. ROI_63: 0.004748897649062044\n",
      "88. ROI_139: 0.0047451428211440425\n",
      "89. ROI_184: 0.004739181410016243\n",
      "90. ROI_17: 0.0047391057306673525\n",
      "91. ROI_71: 0.004731817273898836\n",
      "92. ROI_93: 0.00465687890949612\n",
      "93. ROI_4: 0.004646260216570691\n",
      "94. ROI_156: 0.004637134370136982\n",
      "95. ROI_105: 0.004563704015369769\n",
      "96. ROI_70: 0.0045119820501054834\n",
      "97. ROI_74: 0.004497549993070657\n",
      "98. ROI_134: 0.004496030443660762\n",
      "99. ROI_133: 0.004477924197666326\n",
      "100. ROI_96: 0.004470691147945688\n",
      "101. ROI_75: 0.004466284527308104\n",
      "102. ROI_46: 0.004455434900622479\n",
      "103. ROI_165: 0.004433780539808716\n",
      "104. ROI_110: 0.004417560489254531\n",
      "105. ROI_101: 0.0043921781591952785\n",
      "106. ROI_45: 0.004374145267728861\n",
      "107. ROI_154: 0.0043451793708910854\n",
      "108. ROI_19: 0.004337688028654507\n",
      "109. ROI_22: 0.004319976399963855\n",
      "110. ROI_208: 0.0042925430859582355\n",
      "111. ROI_189: 0.004285389006221932\n",
      "112. ROI_166: 0.004277889014987305\n",
      "113. ROI_199: 0.00427220518429369\n",
      "114. ROI_209: 0.004249944866766156\n",
      "115. ROI_66: 0.00422965726150811\n",
      "116. ROI_207: 0.004227348057068007\n",
      "117. ROI_155: 0.004211505581174963\n",
      "118. ROI_91: 0.004211306901415069\n",
      "119. ROI_127: 0.004196753745250004\n",
      "120. ROI_170: 0.004195315412243909\n",
      "121. ROI_73: 0.004187981050474334\n",
      "122. ROI_64: 0.004173922532064493\n",
      "123. ROI_176: 0.00416351416979849\n",
      "124. ROI_136: 0.004099902517811203\n",
      "125. ROI_35: 0.004078188940599604\n",
      "126. ROI_131: 0.0040230063745339655\n",
      "127. ROI_108: 0.004012702167174218\n",
      "128. ROI_200: 0.00401088842514285\n",
      "129. ROI_117: 0.003981880208252914\n",
      "130. ROI_67: 0.003977366064812656\n",
      "131. ROI_28: 0.003924318946591644\n",
      "132. ROI_145: 0.003920817505850665\n",
      "133. ROI_31: 0.0039003131292891886\n",
      "134. ROI_87: 0.003871179044531482\n",
      "135. ROI_12: 0.0038537296413114646\n",
      "136. ROI_53: 0.003828427185299633\n",
      "137. ROI_190: 0.0038278587011957104\n",
      "138. ROI_202: 0.003823806573539526\n",
      "139. ROI_34: 0.003816099143300311\n",
      "140. ROI_79: 0.0038103901403748032\n",
      "141. ROI_36: 0.0038014463844004607\n",
      "142. ROI_167: 0.0037923054162458812\n",
      "143. ROI_123: 0.003782119146947159\n",
      "144. ROI_172: 0.003757688255570777\n",
      "145. ROI_141: 0.003753524998285063\n",
      "146. ROI_24: 0.0037303375620027137\n",
      "147. ROI_125: 0.0037193913481873373\n",
      "148. ROI_21: 0.0037183581998208675\n",
      "149. ROI_120: 0.003674999696414639\n",
      "150. ROI_157: 0.0036669428742368746\n",
      "151. ROI_6: 0.0036419742760339466\n",
      "152. ROI_85: 0.0036398162026596748\n",
      "153. ROI_180: 0.0036290225491573324\n",
      "154. ROI_171: 0.0036160763550006922\n",
      "155. ROI_49: 0.0035846746704006854\n",
      "156. ROI_56: 0.0035765608354517767\n",
      "157. ROI_126: 0.003553265631851474\n",
      "158. ROI_43: 0.0035401327855245825\n",
      "159. ROI_159: 0.0035305356266498275\n",
      "160. ROI_149: 0.003515498137821297\n",
      "161. ROI_11: 0.003489181971149371\n",
      "162. ROI_107: 0.0034812262927103456\n",
      "163. ROI_44: 0.003456481945227748\n",
      "164. ROI_54: 0.003434274390861429\n",
      "165. ROI_16: 0.0034182075252882148\n",
      "166. ROI_195: 0.0033744553153517427\n",
      "167. ROI_47: 0.003353222981044124\n",
      "168. ROI_10: 0.003315374212034016\n",
      "169. ROI_150: 0.0032781585852374832\n",
      "170. ROI_61: 0.0032649010049939\n",
      "171. ROI_198: 0.003262323611174107\n",
      "172. ROI_20: 0.0032449743077950324\n",
      "173. ROI_197: 0.0031289254371180543\n",
      "174. ROI_132: 0.0031147668484693683\n",
      "175. ROI_111: 0.0030631904152462258\n",
      "176. ROI_183: 0.0030115759504577336\n",
      "177. ROI_97: 0.0029962119711579157\n",
      "178. ROI_33: 0.0029884850515220483\n",
      "179. ROI_69: 0.0029660656290577702\n",
      "180. ROI_38: 0.002963594116870076\n",
      "181. ROI_58: 0.0029286074233689295\n",
      "182. ROI_168: 0.0029208850463503426\n",
      "183. ROI_153: 0.0029140581680852547\n",
      "184. ROI_140: 0.002906469805647745\n",
      "185. ROI_169: 0.00290599152285058\n",
      "186. ROI_55: 0.002882152713023049\n",
      "187. ROI_160: 0.0028609336775571505\n",
      "188. ROI_26: 0.002833932348450836\n",
      "189. ROI_185: 0.0028193548602648472\n",
      "190. ROI_106: 0.002783143255626033\n",
      "191. ROI_40: 0.002760563449322307\n",
      "192. ROI_50: 0.0026604596946448373\n",
      "193. ROI_60: 0.002645187651588583\n",
      "194. ROI_48: 0.0026431112979811823\n",
      "195. ROI_39: 0.0026258547697193737\n",
      "196. ROI_142: 0.002611040150177637\n",
      "197. ROI_178: 0.002540514525101717\n",
      "198. ROI_18: 0.0025062799084451808\n",
      "199. ROI_152: 0.002237866666652172\n",
      "200. ROI_138: 0.0021146466905932414\n",
      "201. ROI_52: 0.0020434006429325027\n",
      "202. ROI_144: 0.00201851452970804\n",
      "203. ROI_83: 0.0019907074270464407\n",
      "204. ROI_37: 0.0019353966375263293\n",
      "205. ROI_147: 0.0017934809744451954\n",
      "206. ROI_5: 0.0017429699203057776\n",
      "207. ROI_41: 0.001723304175526693\n",
      "208. ROI_192: 0.0016720008271645273\n",
      "209. ROI_51: 0.0012198591696380347\n",
      "210. ROI_42: 0.0005500000301270449\n"
     ]
    }
   ],
   "source": [
    "u.print_results_model(importances_GB)"
   ]
  },
  {
   "cell_type": "markdown",
   "id": "efb5d225-2a3c-4051-a082-29adbcd56220",
   "metadata": {},
   "source": [
    "Plotting the results."
   ]
  },
  {
   "cell_type": "code",
   "execution_count": 48,
   "id": "2370dd6b-d329-4e27-99b4-dc0ae448773a",
   "metadata": {},
   "outputs": [
    {
     "data": {
      "image/png": "[encoded data removed]",
      "text/plain": [
       "<Figure size 1500x600 with 1 Axes>"
      ]
     },
     "metadata": {},
     "output_type": "display_data"
    }
   ],
   "source": [
    "u.plot_results_model(GB.feature_importances_, features)"
   ]
  },
  {
   "cell_type": "markdown",
   "id": "8579a15e-dac1-41e2-acb7-3c7df410cd9c",
   "metadata": {},
   "source": [
    " "
   ]
  },
  {
   "cell_type": "markdown",
   "id": "abb09b4f-c409-4cfc-a43a-fc81b0c71b26",
   "metadata": {},
   "source": [
    "##### I. Recursive Feature Elimination (RFE)"
   ]
  },
  {
   "cell_type": "code",
   "execution_count": 49,
   "id": "6c534c91-f6b7-4ae0-abe7-febac1a55281",
   "metadata": {},
   "outputs": [],
   "source": [
    "#selected_features_RFE_GB = u.wrappers(GB, 'RFE', 50, X_train, y_train, features)"
   ]
  },
  {
   "cell_type": "code",
   "execution_count": 50,
   "id": "1ff7aed7-7a1e-401d-b722-d498998b1545",
   "metadata": {},
   "outputs": [],
   "source": [
    "#u.wrappers_print(selected_features_RFE_GB, feature_positions_GB, importances_GB)"
   ]
  },
  {
   "cell_type": "markdown",
   "id": "47acbbc8-c19b-4c14-b043-9badb5efc66b",
   "metadata": {},
   "source": [
    "##### II. Forward Selection"
   ]
  },
  {
   "cell_type": "code",
   "execution_count": 51,
   "id": "353e808a-98d7-457c-aaad-655664675619",
   "metadata": {},
   "outputs": [],
   "source": [
    "#selectedFS_features_FS_GB = u.wrappers(GB, 'FS', 50, X_train, y_train, features)"
   ]
  },
  {
   "cell_type": "code",
   "execution_count": 52,
   "id": "09b95b81-86d9-4343-b3ff-cedfd10512f8",
   "metadata": {},
   "outputs": [],
   "source": [
    "#u.wrappers_print(selectedFS_features_FS_GB, feature_positions_GB, importances_GB)"
   ]
  },
  {
   "cell_type": "markdown",
   "id": "23d58593-ee04-4417-bffb-13a1d0c18bab",
   "metadata": {},
   "source": [
    "##### III. Backward Elimination"
   ]
  },
  {
   "cell_type": "code",
   "execution_count": 53,
   "id": "9c05d806-e5ef-4e3f-ab5c-a44fdfb0ed1e",
   "metadata": {},
   "outputs": [],
   "source": [
    "#selected_features_BE_GB = u.wrappers(GB, 'BE', 50, X_train, y_train, features)"
   ]
  },
  {
   "cell_type": "code",
   "execution_count": 54,
   "id": "0e24168c-14df-4bba-b3bd-3eec091d6ff0",
   "metadata": {},
   "outputs": [],
   "source": [
    "#u.wrappers_print(selected_features_BE_GB, feature_positions_GB, importances_GB)"
   ]
  },
  {
   "cell_type": "markdown",
   "id": "c1e16c62-e2af-454b-b890-362218efde02",
   "metadata": {},
   "source": [
    " "
   ]
  },
  {
   "cell_type": "markdown",
   "id": "79d0b66c-cb17-412a-b4e6-30f39a39b2d5",
   "metadata": {},
   "source": [
    " "
   ]
  },
  {
   "cell_type": "markdown",
   "id": "66907e76-b672-4006-a23d-99b955a8d72b",
   "metadata": {},
   "source": [
    " "
   ]
  },
  {
   "cell_type": "markdown",
   "id": "3f1a46d1-91e6-4a0c-a14b-cb47bea51933",
   "metadata": {},
   "source": [
    "#### 3.2.4. XGBoost for Feature Importance"
   ]
  },
  {
   "cell_type": "code",
   "execution_count": 55,
   "id": "ed60014f-898a-4da8-ba70-4d3b8eff207b",
   "metadata": {},
   "outputs": [],
   "source": [
    "# Store the importances regarding xgboost as well as the feature positions with respect them in two dictionaries\n",
    "importances_XG, feature_positions_XG = u.tree_model(XG, X_train, y_train, features)"
   ]
  },
  {
   "cell_type": "markdown",
   "id": "e4eeb2c6-3b42-4388-9768-4eb2041aca28",
   "metadata": {},
   "source": [
    "Showing the results."
   ]
  },
  {
   "cell_type": "code",
   "execution_count": 56,
   "id": "90222602-84f1-4de3-9667-658be94b263a",
   "metadata": {
    "scrolled": true
   },
   "outputs": [
    {
     "name": "stdout",
     "output_type": "stream",
     "text": [
      "Feature - Importance\n",
      "1. ROI_25: 0.006253628525882959\n",
      "2. ROI_130: 0.006193106062710285\n",
      "3. ROI_196: 0.005984253715723753\n",
      "4. ROI_165: 0.005948422942310572\n",
      "5. ROI_162: 0.005928654223680496\n",
      "6. ROI_189: 0.005569238215684891\n",
      "7. ROI_191: 0.005563672631978989\n",
      "8. ROI_98: 0.005469195544719696\n",
      "9. ROI_88: 0.005434888880699873\n",
      "10. ROI_155: 0.005383561365306377\n",
      "11. ROI_103: 0.00537601625546813\n",
      "12. ROI_150: 0.005315947812050581\n",
      "13. ROI_204: 0.0053122215904295444\n",
      "14. ROI_163: 0.005309231113642454\n",
      "15. ROI_45: 0.0052688815630972385\n",
      "16. ROI_192: 0.005229381378740072\n",
      "17. ROI_56: 0.00521891238167882\n",
      "18. ROI_131: 0.005215947516262531\n",
      "19. ROI_158: 0.005212054122239351\n",
      "20. ROI_193: 0.005210841074585915\n",
      "21. ROI_53: 0.0051682512275874615\n",
      "22. ROI_102: 0.005158691667020321\n",
      "23. ROI_94: 0.005124526564031839\n",
      "24. ROI_202: 0.005119465757161379\n",
      "25. ROI_99: 0.005113818682730198\n",
      "26. ROI_24: 0.005111376754939556\n",
      "27. ROI_22: 0.005093834362924099\n",
      "28. ROI_101: 0.005093204788863659\n",
      "29. ROI_110: 0.005075311753898859\n",
      "30. ROI_48: 0.005069846287369728\n",
      "31. ROI_159: 0.00506621552631259\n",
      "32. ROI_58: 0.005063685122877359\n",
      "33. ROI_135: 0.005057692993432283\n",
      "34. ROI_83: 0.005050046369433403\n",
      "35. ROI_95: 0.005038675386458635\n",
      "36. ROI_26: 0.0050291563384234905\n",
      "37. ROI_82: 0.005027600098401308\n",
      "38. ROI_10: 0.005012525711208582\n",
      "39. ROI_188: 0.0050038364715874195\n",
      "40. ROI_91: 0.004998163785785437\n",
      "41. ROI_207: 0.004996089264750481\n",
      "42. ROI_209: 0.00498687569051981\n",
      "43. ROI_70: 0.004960273392498493\n",
      "44. ROI_11: 0.004953927826136351\n",
      "45. ROI_178: 0.004953894764184952\n",
      "46. ROI_86: 0.004949846304953098\n",
      "47. ROI_74: 0.004941300023347139\n",
      "48. ROI_170: 0.004929247312247753\n",
      "49. ROI_17: 0.004927150905132294\n",
      "50. ROI_144: 0.004922990687191486\n",
      "51. ROI_85: 0.004915131721645594\n",
      "52. ROI_151: 0.00491460831835866\n",
      "53. ROI_201: 0.004898590035736561\n",
      "54. ROI_161: 0.00489796930924058\n",
      "55. ROI_200: 0.004893571604043245\n",
      "56. ROI_157: 0.004890336189419031\n",
      "57. ROI_7: 0.004890333395451307\n",
      "58. ROI_148: 0.004888016730546951\n",
      "59. ROI_73: 0.004877681843936443\n",
      "60. ROI_106: 0.004873133730143309\n",
      "61. ROI_139: 0.004872683901339769\n",
      "62. ROI_111: 0.004863690584897995\n",
      "63. ROI_47: 0.004856522660702467\n",
      "64. ROI_80: 0.00485509866848588\n",
      "65. ROI_206: 0.00485272379592061\n",
      "66. ROI_76: 0.004851107951253653\n",
      "67. ROI_51: 0.004848833661526442\n",
      "68. ROI_210: 0.004848631098866463\n",
      "69. ROI_29: 0.0048454394564032555\n",
      "70. ROI_186: 0.004840062465518713\n",
      "71. ROI_116: 0.004839257337152958\n",
      "72. ROI_32: 0.004833793733268976\n",
      "73. ROI_39: 0.004830739926546812\n",
      "74. ROI_23: 0.004829328507184982\n",
      "75. ROI_195: 0.004828402306884527\n",
      "76. ROI_147: 0.004818055313080549\n",
      "77. ROI_121: 0.004812535829842091\n",
      "78. ROI_125: 0.004812335129827261\n",
      "79. ROI_63: 0.0048110103234648705\n",
      "80. ROI_89: 0.004810996353626251\n",
      "81. ROI_21: 0.0048103006556630135\n",
      "82. ROI_81: 0.004809112753719091\n",
      "83. ROI_124: 0.004807084798812866\n",
      "84. ROI_128: 0.004806677810847759\n",
      "85. ROI_149: 0.004804681986570358\n",
      "86. ROI_177: 0.00480283610522747\n",
      "87. ROI_197: 0.0047939918003976345\n",
      "88. ROI_182: 0.004790076520293951\n",
      "89. ROI_84: 0.004786917008459568\n",
      "90. ROI_109: 0.004782309290021658\n",
      "91. ROI_171: 0.004780501127243042\n",
      "92. ROI_169: 0.004775507841259241\n",
      "93. ROI_152: 0.004770781844854355\n",
      "94. ROI_77: 0.00476716598495841\n",
      "95. ROI_60: 0.0047667925246059895\n",
      "96. ROI_140: 0.0047661056742072105\n",
      "97. ROI_164: 0.004758319817483425\n",
      "98. ROI_129: 0.004756844136863947\n",
      "99. ROI_72: 0.004749971441924572\n",
      "100. ROI_66: 0.0047478992491960526\n",
      "101. ROI_190: 0.004747800529003143\n",
      "102. ROI_166: 0.004747570492327213\n",
      "103. ROI_167: 0.004746360704302788\n",
      "104. ROI_59: 0.0047463285736739635\n",
      "105. ROI_69: 0.0047423322685062885\n",
      "106. ROI_54: 0.00473988289013505\n",
      "107. ROI_118: 0.0047386521473526955\n",
      "108. ROI_3: 0.004726609215140343\n",
      "109. ROI_30: 0.004708802327513695\n",
      "110. ROI_208: 0.0046966802328825\n",
      "111. ROI_67: 0.0046926201321184635\n",
      "112. ROI_181: 0.004686316475272179\n",
      "113. ROI_172: 0.004683453124016523\n",
      "114. ROI_8: 0.004683063365519047\n",
      "115. ROI_52: 0.0046765063889324665\n",
      "116. ROI_194: 0.004676384385675192\n",
      "117. ROI_180: 0.004673017654567957\n",
      "118. ROI_78: 0.0046600173227488995\n",
      "119. ROI_71: 0.004650614224374294\n",
      "120. ROI_42: 0.004648800939321518\n",
      "121. ROI_154: 0.004646467976272106\n",
      "122. ROI_122: 0.004645763896405697\n",
      "123. ROI_41: 0.004642653279006481\n",
      "124. ROI_107: 0.004639761056751013\n",
      "125. ROI_126: 0.004631762392818928\n",
      "126. ROI_146: 0.004630998708307743\n",
      "127. ROI_112: 0.004630761221051216\n",
      "128. ROI_96: 0.0046278792433440685\n",
      "129. ROI_133: 0.004625434521585703\n",
      "130. ROI_44: 0.004621650092303753\n",
      "131. ROI_27: 0.0046184430830180645\n",
      "132. ROI_2: 0.004614841192960739\n",
      "133. ROI_31: 0.004614500794559717\n",
      "134. ROI_4: 0.00460725137963891\n",
      "135. ROI_14: 0.004604507703334093\n",
      "136. ROI_119: 0.004603171721100807\n",
      "137. ROI_175: 0.004602036904543638\n",
      "138. ROI_127: 0.004601558204740286\n",
      "139. ROI_97: 0.004600245971232653\n",
      "140. ROI_13: 0.004597826860845089\n",
      "141. ROI_93: 0.004595604725182056\n",
      "142. ROI_153: 0.004595071077346802\n",
      "143. ROI_105: 0.004594125784933567\n",
      "144. ROI_62: 0.004589811898767948\n",
      "145. ROI_179: 0.004582664463669062\n",
      "146. ROI_55: 0.004580594599246979\n",
      "147. ROI_137: 0.004579868167638779\n",
      "148. ROI_92: 0.004578349180519581\n",
      "149. ROI_1: 0.004574446938931942\n",
      "150. ROI_19: 0.004573226906359196\n",
      "151. ROI_90: 0.004571205470710993\n",
      "152. ROI_75: 0.0045683663338422775\n",
      "153. ROI_64: 0.004561709240078926\n",
      "154. ROI_57: 0.004560677334666252\n",
      "155. ROI_143: 0.0045502763241529465\n",
      "156. ROI_185: 0.004547215532511473\n",
      "157. ROI_50: 0.004538030829280615\n",
      "158. ROI_104: 0.004537452012300491\n",
      "159. ROI_16: 0.0045311786234378815\n",
      "160. ROI_176: 0.0045293173752725124\n",
      "161. ROI_173: 0.004527143202722073\n",
      "162. ROI_187: 0.004526685457676649\n",
      "163. ROI_156: 0.00451149046421051\n",
      "164. ROI_141: 0.004506863187998533\n",
      "165. ROI_184: 0.0045025283470749855\n",
      "166. ROI_174: 0.004497205372899771\n",
      "167. ROI_9: 0.004484356846660376\n",
      "168. ROI_43: 0.00448264554142952\n",
      "169. ROI_37: 0.004477642010897398\n",
      "170. ROI_123: 0.004474700894206762\n",
      "171. ROI_65: 0.004472944885492325\n",
      "172. ROI_183: 0.0044629997573792934\n",
      "173. ROI_87: 0.00446219090372324\n",
      "174. ROI_134: 0.0044579096138477325\n",
      "175. ROI_34: 0.004457786679267883\n",
      "176. ROI_35: 0.004447863902896643\n",
      "177. ROI_117: 0.004446058534085751\n",
      "178. ROI_33: 0.004444542340934277\n",
      "179. ROI_138: 0.004443584941327572\n",
      "180. ROI_203: 0.004441589117050171\n",
      "181. ROI_132: 0.00443873880431056\n",
      "182. ROI_40: 0.004432030022144318\n",
      "183. ROI_49: 0.00443008029833436\n",
      "184. ROI_100: 0.0044254413805902\n",
      "185. ROI_198: 0.004421277437359095\n",
      "186. ROI_18: 0.004420583602041006\n",
      "187. ROI_68: 0.00441379938274622\n",
      "188. ROI_160: 0.004407823551446199\n",
      "189. ROI_36: 0.004402825143188238\n",
      "190. ROI_205: 0.004402183461934328\n",
      "191. ROI_199: 0.004397159907966852\n",
      "192. ROI_120: 0.004394322633743286\n",
      "193. ROI_114: 0.004387214779853821\n",
      "194. ROI_142: 0.00437783682718873\n",
      "195. ROI_136: 0.004375484772026539\n",
      "196. ROI_20: 0.004372977651655674\n",
      "197. ROI_79: 0.00436285138130188\n",
      "198. ROI_168: 0.004343240987509489\n",
      "199. ROI_5: 0.004341495223343372\n",
      "200. ROI_46: 0.004326144233345985\n",
      "201. ROI_108: 0.004318101331591606\n",
      "202. ROI_115: 0.004291832447052002\n",
      "203. ROI_38: 0.004276849329471588\n",
      "204. ROI_15: 0.004255136474967003\n",
      "205. ROI_145: 0.004222945775836706\n",
      "206. ROI_61: 0.004214434884488583\n",
      "207. ROI_28: 0.004210415296256542\n",
      "208. ROI_12: 0.004203248303383589\n",
      "209. ROI_113: 0.004120204132050276\n",
      "210. ROI_6: 0.003936020191758871\n"
     ]
    }
   ],
   "source": [
    "u.print_results_model(importances_XG)"
   ]
  },
  {
   "cell_type": "markdown",
   "id": "0b55949a-6bfd-4bd2-a474-9ec8fc3ccb3c",
   "metadata": {},
   "source": [
    "Plotting the results."
   ]
  },
  {
   "cell_type": "code",
   "execution_count": 57,
   "id": "26978b4c-1271-4beb-bb2c-3885e762e70e",
   "metadata": {},
   "outputs": [
    {
     "data": {
      "image/png": "[encoded data removed]",
      "text/plain": [
       "<Figure size 1500x600 with 1 Axes>"
      ]
     },
     "metadata": {},
     "output_type": "display_data"
    }
   ],
   "source": [
    "u.plot_results_model(XG.feature_importances_, features)"
   ]
  },
  {
   "cell_type": "markdown",
   "id": "44046c30-d531-44b7-81b3-878fb8a76a0c",
   "metadata": {},
   "source": [
    " "
   ]
  },
  {
   "cell_type": "markdown",
   "id": "b031a35e-9bbc-448d-9a2c-f40567804296",
   "metadata": {},
   "source": [
    "##### I. Recursive Feature Elimination (RFE)"
   ]
  },
  {
   "cell_type": "code",
   "execution_count": 58,
   "id": "f4c9f15b-9c08-4fa7-8ca5-0b6fd2e82f43",
   "metadata": {},
   "outputs": [],
   "source": [
    "#selected_features_RFE_XG = u.wrappers(XG, 'RFE', 50, X_train, y_train, features)"
   ]
  },
  {
   "cell_type": "code",
   "execution_count": 59,
   "id": "8744efd7-a92f-4913-a9c9-c9f2d16a6faa",
   "metadata": {},
   "outputs": [],
   "source": [
    "#u.wrappers_print(selected_features_RFE_XG, feature_positions_XG, importances_XG)"
   ]
  },
  {
   "cell_type": "markdown",
   "id": "f0c2f745-4b5d-49a3-804b-d88d380be42c",
   "metadata": {},
   "source": [
    "##### II. Forward Selection"
   ]
  },
  {
   "cell_type": "code",
   "execution_count": 60,
   "id": "8f2cb9b0-8eba-4e3c-9a7b-e111adf36d68",
   "metadata": {},
   "outputs": [],
   "source": [
    "#selected_features_FS_XG = u.wrappers(XG, 'FS', 50, X_train, y_train, features)"
   ]
  },
  {
   "cell_type": "code",
   "execution_count": 61,
   "id": "589bc72f-41ba-4605-85aa-d501eb0580ff",
   "metadata": {},
   "outputs": [],
   "source": [
    "#u.wrappers_print(selected_features_FS_XG, feature_positions_XG, importances_XG)"
   ]
  },
  {
   "cell_type": "markdown",
   "id": "8000f826-22d8-4cc4-94fa-742ae6ec129d",
   "metadata": {},
   "source": [
    "##### III. Backward Elimination"
   ]
  },
  {
   "cell_type": "code",
   "execution_count": 62,
   "id": "29223c7c-d83e-4b6b-b7f4-74a9518bdb99",
   "metadata": {},
   "outputs": [],
   "source": [
    "#selected_features_BE_XG = u.wrappers(XG, 'BE', 50, X_train, y_train, features)"
   ]
  },
  {
   "cell_type": "code",
   "execution_count": 63,
   "id": "4002254a-c62e-415c-8334-078156ddac9b",
   "metadata": {},
   "outputs": [],
   "source": [
    "#u.wrappers_print(selected_features_BE_XG, feature_positions_XG, importances_XG)"
   ]
  },
  {
   "cell_type": "markdown",
   "id": "46903807-e4d9-45bf-a521-ad30a885ac14",
   "metadata": {},
   "source": [
    " "
   ]
  },
  {
   "cell_type": "markdown",
   "id": "e19dadaa-0ccd-4d9f-afb5-a9f0ffd28904",
   "metadata": {},
   "source": [
    " "
   ]
  },
  {
   "cell_type": "markdown",
   "id": "0339ad7f-65ec-44d0-bb23-6365fa04dcf3",
   "metadata": {},
   "source": [
    " "
   ]
  },
  {
   "cell_type": "markdown",
   "id": "7e934752-ddd3-42a9-82d2-f046eccd8089",
   "metadata": {},
   "source": [
    " "
   ]
  },
  {
   "cell_type": "markdown",
   "id": "9658b16b-d056-4afd-9fe7-05cecb53d189",
   "metadata": {},
   "source": [
    " "
   ]
  },
  {
   "cell_type": "markdown",
   "id": "b423eeda-8641-48bc-bc4e-d69c5dd2acd4",
   "metadata": {},
   "source": [
    "### 3.3. Filter Methods"
   ]
  },
  {
   "cell_type": "markdown",
   "id": "dc048b96-de16-4732-89e0-5407370877a9",
   "metadata": {},
   "source": [
    "#### 3.3.1. Variance Threshold"
   ]
  },
  {
   "cell_type": "code",
   "execution_count": 64,
   "id": "74359f51-3ab3-4ea1-81d8-496f14a23ca1",
   "metadata": {},
   "outputs": [],
   "source": [
    "# Calculate the variance of each feature\n",
    "v = np.var(X_train, axis=0)\n",
    "\n",
    "# Store the variance as well as the feature positions with respect them in two dictionaries\n",
    "importances_v, feature_positions_v = u.importances_model(features, v)"
   ]
  },
  {
   "cell_type": "markdown",
   "id": "3b3cb1d7-7634-4b30-a203-60c126778d4a",
   "metadata": {},
   "source": [
    "Showing the results."
   ]
  },
  {
   "cell_type": "code",
   "execution_count": 65,
   "id": "467b75f9-5854-4430-afd4-cc016ab04e45",
   "metadata": {
    "scrolled": true
   },
   "outputs": [
    {
     "name": "stdout",
     "output_type": "stream",
     "text": [
      "Feature - Importance\n",
      "1. ROI_99: 0.48315519808732177\n",
      "2. ROI_204: 0.4793778525767905\n",
      "3. ROI_201: 0.47528870203600404\n",
      "4. ROI_96: 0.461618242951244\n",
      "5. ROI_40: 0.4541752482738213\n",
      "6. ROI_181: 0.44984712954660555\n",
      "7. ROI_202: 0.4422441031769554\n",
      "8. ROI_207: 0.4401572772382518\n",
      "9. ROI_76: 0.43964664576590684\n",
      "10. ROI_102: 0.4392319577505504\n",
      "11. ROI_203: 0.43654789716827413\n",
      "12. ROI_97: 0.43498609968289503\n",
      "13. ROI_205: 0.4333488544711293\n",
      "14. ROI_100: 0.4308518752606204\n",
      "15. ROI_44: 0.4276354817276172\n",
      "16. ROI_98: 0.42605229065510053\n",
      "17. ROI_208: 0.4242685976570715\n",
      "18. ROI_200: 0.42017329471818027\n",
      "19. ROI_42: 0.4188730244647862\n",
      "20. ROI_95: 0.4179434548126383\n",
      "21. ROI_91: 0.4140966162870398\n",
      "22. ROI_41: 0.41399768515572977\n",
      "23. ROI_129: 0.41375876617960733\n",
      "24. ROI_158: 0.41155781419924437\n",
      "25. ROI_39: 0.4114338803701478\n",
      "26. ROI_69: 0.40647290757510796\n",
      "27. ROI_38: 0.4048148404905091\n",
      "28. ROI_67: 0.4047173580996158\n",
      "29. ROI_64: 0.4035145721020738\n",
      "30. ROI_196: 0.40084340592885204\n",
      "31. ROI_103: 0.3976248409555181\n",
      "32. ROI_105: 0.39493459096958455\n",
      "33. ROI_53: 0.39339958300042416\n",
      "34. ROI_119: 0.39265473473425666\n",
      "35. ROI_14: 0.3906746810839547\n",
      "36. ROI_177: 0.389242872881234\n",
      "37. ROI_26: 0.3891263678089683\n",
      "38. ROI_18: 0.38654573821954163\n",
      "39. ROI_209: 0.38271325427007646\n",
      "40. ROI_21: 0.38220975939274027\n",
      "41. ROI_104: 0.38138306975203157\n",
      "42. ROI_48: 0.3806597098595604\n",
      "43. ROI_173: 0.3801685135421006\n",
      "44. ROI_179: 0.38010846145311367\n",
      "45. ROI_74: 0.380060717013387\n",
      "46. ROI_37: 0.38005030400797474\n",
      "47. ROI_24: 0.3783315390671457\n",
      "48. ROI_143: 0.37815636982683026\n",
      "49. ROI_149: 0.37799959374014863\n",
      "50. ROI_63: 0.375378026020816\n",
      "51. ROI_61: 0.37522272512570704\n",
      "52. ROI_206: 0.37468812614469293\n",
      "53. ROI_145: 0.37408248568810376\n",
      "54. ROI_50: 0.3736787935674998\n",
      "55. ROI_117: 0.37318462784752643\n",
      "56. ROI_159: 0.3723712730923006\n",
      "57. ROI_31: 0.3720897813210532\n",
      "58. ROI_167: 0.37180202179194666\n",
      "59. ROI_126: 0.3713880648091576\n",
      "60. ROI_85: 0.3713166757106516\n",
      "61. ROI_169: 0.3710640026289463\n",
      "62. ROI_60: 0.3708228627388263\n",
      "63. ROI_165: 0.36945991040865844\n",
      "64. ROI_68: 0.3693933577558357\n",
      "65. ROI_72: 0.36752993341951173\n",
      "66. ROI_22: 0.36641543905945595\n",
      "67. ROI_77: 0.3639613425719441\n",
      "68. ROI_178: 0.36268180039998227\n",
      "69. ROI_66: 0.35994851974705083\n",
      "70. ROI_84: 0.3598502988194621\n",
      "71. ROI_182: 0.35960765757178187\n",
      "72. ROI_51: 0.3586468481059606\n",
      "73. ROI_171: 0.35837652218841476\n",
      "74. ROI_83: 0.35615962281202657\n",
      "75. ROI_151: 0.3556724286720639\n",
      "76. ROI_176: 0.3556035487161585\n",
      "77. ROI_54: 0.35462152033814376\n",
      "78. ROI_114: 0.35173473508897296\n",
      "79. ROI_168: 0.35164468390987685\n",
      "80. ROI_81: 0.3513591295587822\n",
      "81. ROI_137: 0.35078648334917345\n",
      "82. ROI_46: 0.3497714820025095\n",
      "83. ROI_120: 0.3486363253166921\n",
      "84. ROI_118: 0.34861336272731985\n",
      "85. ROI_162: 0.34842812842924725\n",
      "86. ROI_19: 0.3479799968168574\n",
      "87. ROI_57: 0.34715832965059196\n",
      "88. ROI_101: 0.3466339683860023\n",
      "89. ROI_75: 0.3463521330168176\n",
      "90. ROI_146: 0.34524138143114164\n",
      "91. ROI_79: 0.34476749326337\n",
      "92. ROI_154: 0.34456946325461646\n",
      "93. ROI_43: 0.34328759442776663\n",
      "94. ROI_113: 0.3431885507151575\n",
      "95. ROI_148: 0.34228232738470715\n",
      "96. ROI_142: 0.3420933288252772\n",
      "97. ROI_136: 0.34134240027025714\n",
      "98. ROI_210: 0.3405372390690822\n",
      "99. ROI_49: 0.339525271798836\n",
      "100. ROI_186: 0.3393216794902941\n",
      "101. ROI_180: 0.3388430977045113\n",
      "102. ROI_30: 0.33745327500166217\n",
      "103. ROI_4: 0.33713072731669247\n",
      "104. ROI_34: 0.336069808209543\n",
      "105. ROI_127: 0.3353941909562066\n",
      "106. ROI_107: 0.334880848015325\n",
      "107. ROI_23: 0.33309394354836513\n",
      "108. ROI_36: 0.3328741574857828\n",
      "109. ROI_94: 0.33235995865544904\n",
      "110. ROI_45: 0.3322825413831659\n",
      "111. ROI_62: 0.3322137406863111\n",
      "112. ROI_71: 0.3321364489495712\n",
      "113. ROI_47: 0.331866675413866\n",
      "114. ROI_155: 0.3310277309909248\n",
      "115. ROI_131: 0.33061801411945824\n",
      "116. ROI_33: 0.3293418229526938\n",
      "117. ROI_65: 0.32719067045110894\n",
      "118. ROI_170: 0.3266469923196327\n",
      "119. ROI_141: 0.3266257776725533\n",
      "120. ROI_166: 0.3263962489247552\n",
      "121. ROI_139: 0.3258695957934166\n",
      "122. ROI_20: 0.3255900080339351\n",
      "123. ROI_87: 0.32551425232358516\n",
      "124. ROI_174: 0.3252394421805178\n",
      "125. ROI_184: 0.3249186536438739\n",
      "126. ROI_109: 0.32373203489564295\n",
      "127. ROI_80: 0.32368746753190064\n",
      "128. ROI_132: 0.3226164963158493\n",
      "129. ROI_29: 0.32238910579040864\n",
      "130. ROI_56: 0.3220974053864927\n",
      "131. ROI_121: 0.32186774259784035\n",
      "132. ROI_73: 0.3217433592140971\n",
      "133. ROI_172: 0.3210270845431677\n",
      "134. ROI_35: 0.32097427630555053\n",
      "135. ROI_5: 0.3207869515480412\n",
      "136. ROI_123: 0.3203905063167942\n",
      "137. ROI_130: 0.32007684485872884\n",
      "138. ROI_161: 0.318994523072956\n",
      "139. ROI_70: 0.3187061163018929\n",
      "140. ROI_153: 0.3172628334673363\n",
      "141. ROI_10: 0.3169308169552418\n",
      "142. ROI_144: 0.3165085996482154\n",
      "143. ROI_25: 0.31590759388741674\n",
      "144. ROI_88: 0.3154581597557687\n",
      "145. ROI_110: 0.31545479209203253\n",
      "146. ROI_128: 0.3133477962234006\n",
      "147. ROI_78: 0.31258391642062217\n",
      "148. ROI_138: 0.3123066686143422\n",
      "149. ROI_189: 0.3121934096693571\n",
      "150. ROI_135: 0.31213239284228866\n",
      "151. ROI_190: 0.31143388794141275\n",
      "152. ROI_156: 0.3112442502632031\n",
      "153. ROI_86: 0.31092341531723655\n",
      "154. ROI_93: 0.30898199673185917\n",
      "155. ROI_198: 0.3087417689143116\n",
      "156. ROI_52: 0.3072007255210071\n",
      "157. ROI_28: 0.30655144012777197\n",
      "158. ROI_125: 0.3058113661527124\n",
      "159. ROI_16: 0.30475134862639264\n",
      "160. ROI_116: 0.3043997756770083\n",
      "161. ROI_147: 0.3039908628029472\n",
      "162. ROI_8: 0.30310883948354556\n",
      "163. ROI_11: 0.30219596526482395\n",
      "164. ROI_192: 0.3018510304322682\n",
      "165. ROI_124: 0.30172009220495094\n",
      "166. ROI_188: 0.301669715380435\n",
      "167. ROI_193: 0.2983655174105229\n",
      "168. ROI_13: 0.29828637317667245\n",
      "169. ROI_27: 0.29763475646451165\n",
      "170. ROI_133: 0.29752903968050165\n",
      "171. ROI_17: 0.2965100206250231\n",
      "172. ROI_82: 0.29524110809853293\n",
      "173. ROI_187: 0.2935264415745357\n",
      "174. ROI_2: 0.291492737384933\n",
      "175. ROI_58: 0.29061702161843667\n",
      "176. ROI_163: 0.2901699913086523\n",
      "177. ROI_157: 0.28985649997708873\n",
      "178. ROI_150: 0.28611210010238414\n",
      "179. ROI_7: 0.285607077248884\n",
      "180. ROI_106: 0.2855229537370273\n",
      "181. ROI_183: 0.2851741878419287\n",
      "182. ROI_175: 0.2849066985744484\n",
      "183. ROI_122: 0.2840979386966599\n",
      "184. ROI_191: 0.28336386440869454\n",
      "185. ROI_112: 0.2829731637857979\n",
      "186. ROI_134: 0.28241354900558296\n",
      "187. ROI_115: 0.2815902496302169\n",
      "188. ROI_55: 0.2811627237346548\n",
      "189. ROI_199: 0.2805702877118084\n",
      "190. ROI_59: 0.2770241291844944\n",
      "191. ROI_160: 0.27660523667558506\n",
      "192. ROI_12: 0.2751057662514361\n",
      "193. ROI_140: 0.2750808445333884\n",
      "194. ROI_32: 0.27273689459288014\n",
      "195. ROI_1: 0.2721999371797279\n",
      "196. ROI_15: 0.2720016678816659\n",
      "197. ROI_152: 0.27010586071413883\n",
      "198. ROI_9: 0.2680776815875922\n",
      "199. ROI_6: 0.2666813312394799\n",
      "200. ROI_197: 0.26621736876171725\n",
      "201. ROI_164: 0.2647027948546339\n",
      "202. ROI_108: 0.260727370442014\n",
      "203. ROI_89: 0.2578449827393353\n",
      "204. ROI_92: 0.25745389829457305\n",
      "205. ROI_185: 0.2572555859921749\n",
      "206. ROI_3: 0.25518610653573065\n",
      "207. ROI_194: 0.2550770449014453\n",
      "208. ROI_111: 0.23798644135786456\n",
      "209. ROI_195: 0.21506998148674916\n",
      "210. ROI_90: 0.19823498810660964\n"
     ]
    }
   ],
   "source": [
    "u.print_results_model(importances_v)"
   ]
  },
  {
   "cell_type": "markdown",
   "id": "5aab1736-2177-4df4-808a-fca9b377815b",
   "metadata": {},
   "source": [
    "Finally, the **Variance Threshold** Filtering Method is implemented."
   ]
  },
  {
   "cell_type": "code",
   "execution_count": 66,
   "id": "20463a49-0c2e-4641-b129-4858e6f38223",
   "metadata": {},
   "outputs": [
    {
     "name": "stdout",
     "output_type": "stream",
     "text": [
      "\n",
      "Selected Features:\n",
      "189\n"
     ]
    }
   ],
   "source": [
    "# Calculate variance and set the threshold\n",
    "threshold = np.percentile(v, 10)\n",
    "\n",
    "# Features with variance below 0.1 will be removed\n",
    "selector = VarianceThreshold(threshold=threshold)\n",
    "X_selected = selector.fit_transform(X_train)\n",
    "\n",
    "# Get the indices of the selected features\n",
    "selected_indices = selector.get_support(indices=True)\n",
    "selected_features = np.array(features)[selected_indices]\n",
    "\n",
    "print(\"\\nSelected Features:\")\n",
    "print(len(selected_features))"
   ]
  },
  {
   "cell_type": "code",
   "execution_count": 67,
   "id": "219ea3de-91fa-4b52-ba23-4d322d7bfb3b",
   "metadata": {},
   "outputs": [
    {
     "data": {
      "image/png": "[encoded data removed]",
      "text/plain": [
       "<Figure size 1800x600 with 1 Axes>"
      ]
     },
     "metadata": {},
     "output_type": "display_data"
    }
   ],
   "source": [
    "# Create a bar plot of feature variances\n",
    "plt.figure(figsize=(18, 6))\n",
    "plt.bar(features, v, color='b', alpha=0.7)\n",
    "\n",
    "# Add a horizontal line for the threshold\n",
    "plt.axhline(y=threshold, color='r', linestyle='--', label=f'Threshold = {round(threshold, 3)}')\n",
    "\n",
    "# Add labels and title\n",
    "plt.xlabel('Features')\n",
    "plt.ylabel('Variance')\n",
    "plt.title('Feature Variance')\n",
    "\n",
    "# Add xticks with smaller font size and rotation\n",
    "plt.xticks(rotation=90, fontsize=8)\n",
    "\n",
    "# Add a legend\n",
    "plt.legend()\n",
    "\n",
    "# Show the plot\n",
    "plt.show()"
   ]
  },
  {
   "cell_type": "markdown",
   "id": "861f6a9c-1634-41ff-9fc0-2d5937e5d2a8",
   "metadata": {},
   "source": [
    " "
   ]
  },
  {
   "cell_type": "markdown",
   "id": "f90c37e0-af6d-4721-9bc7-84d9bb2d815e",
   "metadata": {},
   "source": [
    " "
   ]
  },
  {
   "cell_type": "markdown",
   "id": "8854076f-065e-4907-8fcc-c92d88c43717",
   "metadata": {},
   "source": [
    " "
   ]
  },
  {
   "cell_type": "markdown",
   "id": "7863eba5-c585-4f6b-b23f-c08104146e3b",
   "metadata": {},
   "source": [
    "#### 3.3.2. Mutual Information"
   ]
  },
  {
   "cell_type": "code",
   "execution_count": 68,
   "id": "555849c1-86dc-48a2-80bf-e059618ca31b",
   "metadata": {},
   "outputs": [],
   "source": [
    "# Calculate Mutual Information\n",
    "mi = mutual_info_classif(X_train, y_train)\n",
    "\n",
    "# Store the mutual information as well as the feature positions with respect them in two dictionaries\n",
    "importances_mi, feature_positions_mi = u.importances_model(features, mi)"
   ]
  },
  {
   "cell_type": "markdown",
   "id": "e2fad878-cad4-4f13-bfb4-122f80b5d4ff",
   "metadata": {},
   "source": [
    "The best features according to mutual information are obtained."
   ]
  },
  {
   "cell_type": "code",
   "execution_count": 69,
   "id": "8de71c66-0584-4fab-85fd-d081cee80821",
   "metadata": {},
   "outputs": [],
   "source": [
    "# Filter dictionary to remove entries with values lower than the 75% percentile\n",
    "pruned_mi = {k: v for k, v in importances_mi.items() if v > np.percentile(mi, 75)}\n",
    "\n",
    "# Filter dictionary to remove entries with values of 0\n",
    "#pruned_mi = {k: v for k, v in importances_mi.items() if v != 0}\n",
    "\n",
    "# Obtain best features according to mutual information\n",
    "best_features_mi = list(pruned_mi.keys())"
   ]
  },
  {
   "cell_type": "markdown",
   "id": "7285d9ff-6204-4e4d-982e-e17a73e74275",
   "metadata": {},
   "source": [
    "Showing the results."
   ]
  },
  {
   "cell_type": "code",
   "execution_count": 70,
   "id": "25865c73-97c1-4ba3-8281-acdc5c742c1f",
   "metadata": {
    "scrolled": true
   },
   "outputs": [
    {
     "name": "stdout",
     "output_type": "stream",
     "text": [
      "Feature - Importance\n",
      "1. ROI_180: 0.01863129491560711\n",
      "2. ROI_86: 0.01405113603484498\n",
      "3. ROI_70: 0.01336914773126141\n",
      "4. ROI_167: 0.01322898755334423\n",
      "5. ROI_35: 0.013220654909836593\n",
      "6. ROI_124: 0.011935237665933407\n",
      "7. ROI_94: 0.011635265299786202\n",
      "8. ROI_209: 0.011032558065076525\n",
      "9. ROI_191: 0.010938388442408797\n",
      "10. ROI_130: 0.01076927566081487\n",
      "11. ROI_121: 0.010371377762064427\n",
      "12. ROI_14: 0.010030509624683326\n",
      "13. ROI_15: 0.010017531070432906\n",
      "14. ROI_152: 0.009895620110353054\n",
      "15. ROI_174: 0.00971286510369529\n",
      "16. ROI_22: 0.009605794975877657\n",
      "17. ROI_92: 0.00957664606754749\n",
      "18. ROI_23: 0.00953155588333221\n",
      "19. ROI_157: 0.009342545804571056\n",
      "20. ROI_37: 0.009193680292685968\n",
      "21. ROI_77: 0.008878124319736447\n",
      "22. ROI_96: 0.008552596706112414\n",
      "23. ROI_185: 0.008441108666215502\n",
      "24. ROI_25: 0.008272826273807876\n",
      "25. ROI_64: 0.008144121317453124\n",
      "26. ROI_187: 0.008012362241226256\n",
      "27. ROI_43: 0.00801212053575151\n",
      "28. ROI_166: 0.007936483559114027\n",
      "29. ROI_60: 0.007818831466638088\n",
      "30. ROI_17: 0.007652393920056788\n",
      "31. ROI_19: 0.007564259873809043\n",
      "32. ROI_122: 0.0075393384103312755\n",
      "33. ROI_54: 0.007345922169347485\n",
      "34. ROI_158: 0.007147952532458923\n",
      "35. ROI_155: 0.007027420236131565\n",
      "36. ROI_91: 0.006935976716577308\n",
      "37. ROI_72: 0.006875868669890206\n",
      "38. ROI_61: 0.006863293509083768\n",
      "39. ROI_40: 0.006824837712817722\n",
      "40. ROI_93: 0.006778613356910768\n",
      "41. ROI_74: 0.006768344782389857\n",
      "42. ROI_62: 0.00661519374936681\n",
      "43. ROI_73: 0.006530230976697027\n",
      "44. ROI_189: 0.006311094944115414\n",
      "45. ROI_169: 0.006190337497369747\n",
      "46. ROI_208: 0.006110858316752843\n",
      "47. ROI_82: 0.006038407360304809\n",
      "48. ROI_149: 0.005995616343883459\n",
      "49. ROI_144: 0.0058956289894500635\n",
      "50. ROI_163: 0.005726590711870649\n",
      "51. ROI_178: 0.005653333260379867\n",
      "52. ROI_148: 0.005501657322548592\n",
      "53. ROI_109: 0.005460947679232664\n",
      "54. ROI_33: 0.005268210135235485\n",
      "55. ROI_24: 0.005045312367597976\n",
      "56. ROI_192: 0.005019484027860788\n",
      "57. ROI_132: 0.0050193368331235\n",
      "58. ROI_5: 0.00500335626272852\n",
      "59. ROI_67: 0.004958132970366069\n",
      "60. ROI_128: 0.004839059931819545\n",
      "61. ROI_101: 0.00471130505650752\n",
      "62. ROI_141: 0.004678580891251283\n",
      "63. ROI_106: 0.004632492249347475\n",
      "64. ROI_6: 0.00445715730604368\n",
      "65. ROI_57: 0.004433932111179928\n",
      "66. ROI_146: 0.004346160043019687\n",
      "67. ROI_75: 0.004280593436350788\n",
      "68. ROI_204: 0.00410666468214238\n",
      "69. ROI_100: 0.003996318287844858\n",
      "70. ROI_98: 0.003966627219771368\n",
      "71. ROI_63: 0.0038014510958617187\n",
      "72. ROI_78: 0.00376980670252669\n",
      "73. ROI_196: 0.0037497087868150203\n",
      "74. ROI_99: 0.003625297166519381\n",
      "75. ROI_140: 0.0036226120852123067\n",
      "76. ROI_181: 0.003461191753148185\n",
      "77. ROI_179: 0.0034610914878374643\n",
      "78. ROI_156: 0.00340464546792818\n",
      "79. ROI_115: 0.003339428840084313\n",
      "80. ROI_16: 0.0032755715742776026\n",
      "81. ROI_127: 0.0031396497187126116\n",
      "82. ROI_162: 0.0031109101408466344\n",
      "83. ROI_47: 0.0030484775947892118\n",
      "84. ROI_210: 0.0029573622247034415\n",
      "85. ROI_182: 0.002873431870823673\n",
      "86. ROI_20: 0.0027378681154908158\n",
      "87. ROI_29: 0.0026493802815381606\n",
      "88. ROI_110: 0.0026223869039014858\n",
      "89. ROI_95: 0.002599010701986426\n",
      "90. ROI_13: 0.0025305013345819916\n",
      "91. ROI_104: 0.002448233674510636\n",
      "92. ROI_49: 0.002269281154499314\n",
      "93. ROI_103: 0.002226255561338597\n",
      "94. ROI_190: 0.002149947547410491\n",
      "95. ROI_36: 0.0019555922563343486\n",
      "96. ROI_123: 0.001949589837200616\n",
      "97. ROI_198: 0.0019442670604568058\n",
      "98. ROI_80: 0.0017570536090700806\n",
      "99. ROI_116: 0.0015715244751790536\n",
      "100. ROI_59: 0.0014500149856595534\n",
      "101. ROI_79: 0.001385411303475692\n",
      "102. ROI_88: 0.0009155758764172184\n",
      "103. ROI_171: 0.0009118158481111749\n",
      "104. ROI_173: 0.0009090558966473594\n",
      "105. ROI_154: 0.0008063297479732334\n",
      "106. ROI_139: 0.0006186214974506221\n",
      "107. ROI_66: 0.0005931678596651224\n",
      "108. ROI_56: 0.0004743081746583222\n",
      "109. ROI_194: 0.00044302488689895725\n",
      "110. ROI_89: 0.0003356825052334145\n",
      "111. ROI_76: 0.0003139855763545363\n",
      "112. ROI_176: 0.0002520195088679955\n",
      "113. ROI_7: 0.00021949827973744007\n",
      "114. ROI_205: 0.0002181587437397603\n",
      "115. ROI_159: 2.242761540394156e-05\n",
      "116. ROI_1: 0.0\n",
      "117. ROI_2: 0.0\n",
      "118. ROI_3: 0.0\n",
      "119. ROI_4: 0.0\n",
      "120. ROI_8: 0.0\n",
      "121. ROI_9: 0.0\n",
      "122. ROI_10: 0.0\n",
      "123. ROI_11: 0.0\n",
      "124. ROI_12: 0.0\n",
      "125. ROI_18: 0.0\n",
      "126. ROI_21: 0.0\n",
      "127. ROI_26: 0.0\n",
      "128. ROI_27: 0.0\n",
      "129. ROI_28: 0.0\n",
      "130. ROI_30: 0.0\n",
      "131. ROI_31: 0.0\n",
      "132. ROI_32: 0.0\n",
      "133. ROI_34: 0.0\n",
      "134. ROI_38: 0.0\n",
      "135. ROI_39: 0.0\n",
      "136. ROI_41: 0.0\n",
      "137. ROI_42: 0.0\n",
      "138. ROI_44: 0.0\n",
      "139. ROI_45: 0.0\n",
      "140. ROI_46: 0.0\n",
      "141. ROI_48: 0.0\n",
      "142. ROI_50: 0.0\n",
      "143. ROI_51: 0.0\n",
      "144. ROI_52: 0.0\n",
      "145. ROI_53: 0.0\n",
      "146. ROI_55: 0.0\n",
      "147. ROI_58: 0.0\n",
      "148. ROI_65: 0.0\n",
      "149. ROI_68: 0.0\n",
      "150. ROI_69: 0.0\n",
      "151. ROI_71: 0.0\n",
      "152. ROI_81: 0.0\n",
      "153. ROI_83: 0.0\n",
      "154. ROI_84: 0.0\n",
      "155. ROI_85: 0.0\n",
      "156. ROI_87: 0.0\n",
      "157. ROI_90: 0.0\n",
      "158. ROI_97: 0.0\n",
      "159. ROI_102: 0.0\n",
      "160. ROI_105: 0.0\n",
      "161. ROI_107: 0.0\n",
      "162. ROI_108: 0.0\n",
      "163. ROI_111: 0.0\n",
      "164. ROI_112: 0.0\n",
      "165. ROI_113: 0.0\n",
      "166. ROI_114: 0.0\n",
      "167. ROI_117: 0.0\n",
      "168. ROI_118: 0.0\n",
      "169. ROI_119: 0.0\n",
      "170. ROI_120: 0.0\n",
      "171. ROI_125: 0.0\n",
      "172. ROI_126: 0.0\n",
      "173. ROI_129: 0.0\n",
      "174. ROI_131: 0.0\n",
      "175. ROI_133: 0.0\n",
      "176. ROI_134: 0.0\n",
      "177. ROI_135: 0.0\n",
      "178. ROI_136: 0.0\n",
      "179. ROI_137: 0.0\n",
      "180. ROI_138: 0.0\n",
      "181. ROI_142: 0.0\n",
      "182. ROI_143: 0.0\n",
      "183. ROI_145: 0.0\n",
      "184. ROI_147: 0.0\n",
      "185. ROI_150: 0.0\n",
      "186. ROI_151: 0.0\n",
      "187. ROI_153: 0.0\n",
      "188. ROI_160: 0.0\n",
      "189. ROI_161: 0.0\n",
      "190. ROI_164: 0.0\n",
      "191. ROI_165: 0.0\n",
      "192. ROI_168: 0.0\n",
      "193. ROI_170: 0.0\n",
      "194. ROI_172: 0.0\n",
      "195. ROI_175: 0.0\n",
      "196. ROI_177: 0.0\n",
      "197. ROI_183: 0.0\n",
      "198. ROI_184: 0.0\n",
      "199. ROI_186: 0.0\n",
      "200. ROI_188: 0.0\n",
      "201. ROI_193: 0.0\n",
      "202. ROI_195: 0.0\n",
      "203. ROI_197: 0.0\n",
      "204. ROI_199: 0.0\n",
      "205. ROI_200: 0.0\n",
      "206. ROI_201: 0.0\n",
      "207. ROI_202: 0.0\n",
      "208. ROI_203: 0.0\n",
      "209. ROI_206: 0.0\n",
      "210. ROI_207: 0.0\n"
     ]
    }
   ],
   "source": [
    "u.print_results_model(importances_mi)"
   ]
  },
  {
   "cell_type": "markdown",
   "id": "bf112714-d5f5-4088-a1f9-f49c4fab6357",
   "metadata": {},
   "source": [
    " "
   ]
  },
  {
   "cell_type": "markdown",
   "id": "18634751-7c72-4d88-b80d-b1ab324f2259",
   "metadata": {},
   "source": [
    " "
   ]
  },
  {
   "cell_type": "markdown",
   "id": "f1293b10-348a-43eb-bb36-910e72a48807",
   "metadata": {},
   "source": [
    " "
   ]
  },
  {
   "cell_type": "markdown",
   "id": "6ba78a83-d766-4773-93bb-1e31633acf79",
   "metadata": {},
   "source": [
    "#### 3.3.3. Correlation Coefficient"
   ]
  },
  {
   "cell_type": "markdown",
   "id": "193c18f6-a3f4-49f5-8130-1c15d67c8533",
   "metadata": {},
   "source": [
    "##### I. Correlation with respect to the target variable"
   ]
  },
  {
   "cell_type": "markdown",
   "id": "7613eeba-4474-45d9-802e-7a820d04bb87",
   "metadata": {},
   "source": [
    "###### Spearman's Rank Correlation"
   ]
  },
  {
   "cell_type": "code",
   "execution_count": 71,
   "id": "2170b323-6bdf-462e-93b4-2041340ab47a",
   "metadata": {},
   "outputs": [],
   "source": [
    "# Compute Spearman's Rank Correlation\n",
    "\n",
    "correlation_results_all = []\n",
    "correlation_results_pval = {}\n",
    "\n",
    "for feature in features:\n",
    "    rho, p_value = stats.spearmanr(df_X_train[feature], y_train)\n",
    "    correlation_results_all.append(rho)\n",
    "    if p_value < 0.05:\n",
    "        correlation_results_pval[feature] = rho\n",
    "\n",
    "# Sort the correlation dictionary (the one with respect the p_value) by correlation coefficient (first value in the tuple)\n",
    "correlation_results_pval = dict(sorted(correlation_results_pval.items(), key=lambda item: abs(item[1]), reverse=True))\n",
    "\n",
    "# Store the Spearman's Rank Correlation as well as the feature positions with respect them in two dictionaries\n",
    "importances_scc, feature_positions_scc = u.importances_model(features, correlation_results_all)"
   ]
  },
  {
   "cell_type": "markdown",
   "id": "dc3ff6bd-450c-46ef-b8fb-5f8da0952ecb",
   "metadata": {},
   "source": [
    "###### Pearson's Correlation"
   ]
  },
  {
   "cell_type": "code",
   "execution_count": 72,
   "id": "41f4feb5-78bd-493c-96d1-bbb19035ae20",
   "metadata": {},
   "outputs": [],
   "source": [
    "# Compute the correlation matrix\n",
    "correlation_matrix = df_train.corr()\n",
    "\n",
    "# Obtain correlations with the target variable\n",
    "cc = list(correlation_matrix['MicrostateTransition'])[1:]\n",
    "\n",
    "# Store the mutual information as well as the feature positions with respect them in two dictionaries\n",
    "importances_cc, feature_positions_cc = u.importances_model(features, cc)"
   ]
  },
  {
   "cell_type": "markdown",
   "id": "f2b35752-1c6e-4dea-83ca-d94cd316df5c",
   "metadata": {},
   "source": [
    "The best features according to correlation coefficient are obtained."
   ]
  },
  {
   "cell_type": "code",
   "execution_count": 73,
   "id": "e73c3c9e-c486-47f9-b676-008b771bc9be",
   "metadata": {},
   "outputs": [],
   "source": [
    "# Obtain best features according to correlation coefficient\n",
    "best_features_cc = list(feature_positions_cc.keys())[:len(best_features_mi)]"
   ]
  },
  {
   "cell_type": "markdown",
   "id": "6a42dd24-dcfd-470d-ad92-3d6cd14a3ae1",
   "metadata": {},
   "source": [
    "Showing the results."
   ]
  },
  {
   "cell_type": "code",
   "execution_count": 74,
   "id": "4112ab10-d720-4db8-810a-176c946e5070",
   "metadata": {
    "scrolled": true
   },
   "outputs": [
    {
     "name": "stdout",
     "output_type": "stream",
     "text": [
      "Feature - Importance\n",
      "1. ROI_25: -0.049939032602832875\n",
      "2. ROI_130: -0.049689580462459984\n",
      "3. ROI_128: -0.047019311816723995\n",
      "4. ROI_23: -0.04670741592174614\n",
      "5. ROI_22: -0.03796600776206009\n",
      "6. ROI_94: -0.037368728784365285\n",
      "7. ROI_35: -0.03689386296875571\n",
      "8. ROI_83: -0.03640434160892839\n",
      "9. ROI_84: -0.03638401482192621\n",
      "10. ROI_127: -0.03611435512666155\n",
      "11. ROI_140: -0.03599723899210895\n",
      "12. ROI_59: -0.035172891804337914\n",
      "13. ROI_189: -0.03505114366626401\n",
      "14. ROI_131: -0.033845253879951596\n",
      "15. ROI_19: -0.03360323241709624\n",
      "16. ROI_188: -0.03305003440049171\n",
      "17. ROI_26: -0.03262490690499759\n",
      "18. ROI_123: -0.03159507913302601\n",
      "19. ROI_18: -0.029834074605270416\n",
      "20. ROI_11: -0.0290017485922339\n",
      "21. ROI_164: -0.02876955285434428\n",
      "22. ROI_124: -0.028508283210550288\n",
      "23. ROI_194: -0.028291838462121237\n",
      "24. ROI_16: -0.028182175777542947\n",
      "25. ROI_116: -0.02696192034471269\n",
      "26. ROI_47: -0.02677225277411396\n",
      "27. ROI_14: -0.02659468641050929\n",
      "28. ROI_126: -0.02650835412155038\n",
      "29. ROI_55: -0.025826275566412663\n",
      "30. ROI_152: -0.025556628807016077\n",
      "31. ROI_24: -0.025210102491692914\n",
      "32. ROI_121: -0.024959886979713415\n",
      "33. ROI_39: -0.024836700462853176\n",
      "34. ROI_199: -0.02396824481640642\n",
      "35. ROI_144: -0.023868369472613588\n",
      "36. ROI_10: -0.02380429064042614\n",
      "37. ROI_147: -0.023740609904696248\n",
      "38. ROI_205: 0.02329367746084863\n",
      "39. ROI_204: 0.023041702618445986\n",
      "40. ROI_206: 0.02236807131800858\n",
      "41. ROI_181: 0.022324998793127073\n",
      "42. ROI_58: -0.02205587043433741\n",
      "43. ROI_173: 0.02204012513154719\n",
      "44. ROI_17: -0.02191875522183809\n",
      "45. ROI_122: -0.021756723152857982\n",
      "46. ROI_201: 0.02175144662032343\n",
      "47. ROI_119: -0.02153835505523269\n",
      "48. ROI_42: -0.021439868564662585\n",
      "49. ROI_21: -0.020828005382316894\n",
      "50. ROI_202: 0.020551045358291452\n",
      "51. ROI_207: 0.01988930517510043\n",
      "52. ROI_209: 0.019805043817002144\n",
      "53. ROI_90: -0.019714810621245513\n",
      "54. ROI_208: 0.01966231676002462\n",
      "55. ROI_203: 0.019555083908213103\n",
      "56. ROI_97: 0.019554258190567653\n",
      "57. ROI_101: 0.019508649951884983\n",
      "58. ROI_96: 0.01950381092076444\n",
      "59. ROI_182: 0.01942761533030524\n",
      "60. ROI_190: -0.019371175559889323\n",
      "61. ROI_196: 0.019007325495817892\n",
      "62. ROI_200: 0.0190062261945727\n",
      "63. ROI_100: 0.01858341587197096\n",
      "64. ROI_99: 0.018569061029786907\n",
      "65. ROI_158: 0.01830107580940098\n",
      "66. ROI_160: -0.018218059769845217\n",
      "67. ROI_177: 0.01818867931447148\n",
      "68. ROI_95: 0.018110093447945987\n",
      "69. ROI_102: 0.017914234761018312\n",
      "70. ROI_148: 0.017751705326184614\n",
      "71. ROI_76: 0.017561315538461023\n",
      "72. ROI_154: 0.017464131444785445\n",
      "73. ROI_85: -0.017256598692399053\n",
      "74. ROI_87: -0.017207829598519606\n",
      "75. ROI_210: 0.017168304162993073\n",
      "76. ROI_129: -0.01683073857018643\n",
      "77. ROI_98: 0.01655846836129232\n",
      "78. ROI_104: 0.016550830180733393\n",
      "79. ROI_77: 0.016546205718420203\n",
      "80. ROI_91: 0.016497688129733155\n",
      "81. ROI_150: -0.01638504055322041\n",
      "82. ROI_153: -0.01621004875451345\n",
      "83. ROI_192: -0.016125926974956732\n",
      "84. ROI_68: 0.016069046408299942\n",
      "85. ROI_103: 0.016041548701297738\n",
      "86. ROI_53: 0.016036198465676707\n",
      "87. ROI_88: 0.015979570097924396\n",
      "88. ROI_193: 0.015887495690265565\n",
      "89. ROI_52: -0.015740781777993814\n",
      "90. ROI_8: -0.015592140771652094\n",
      "91. ROI_163: -0.015288108255806563\n",
      "92. ROI_151: 0.01515571435857439\n",
      "93. ROI_166: 0.015072898440856363\n",
      "94. ROI_49: 0.01487185275789542\n",
      "95. ROI_46: 0.014558566853856755\n",
      "96. ROI_167: 0.01435226761822917\n",
      "97. ROI_62: 0.014247494232176871\n",
      "98. ROI_157: -0.014244414956376447\n",
      "99. ROI_72: 0.014202689892434074\n",
      "100. ROI_195: -0.014092811565647612\n",
      "101. ROI_7: -0.014089272878514037\n",
      "102. ROI_159: 0.013703812787759808\n",
      "103. ROI_43: 0.013666168876154697\n",
      "104. ROI_20: -0.013579308286744638\n",
      "105. ROI_54: 0.013192476487590598\n",
      "106. ROI_40: -0.013144171611865374\n",
      "107. ROI_155: 0.012602604673967916\n",
      "108. ROI_105: 0.01222722275730124\n",
      "109. ROI_61: 0.011765171876040372\n",
      "110. ROI_165: 0.011707893905932637\n",
      "111. ROI_125: -0.0116664235916011\n",
      "112. ROI_169: 0.011453979737910703\n",
      "113. ROI_50: 0.01093067657446185\n",
      "114. ROI_179: 0.010755779310726781\n",
      "115. ROI_15: -0.010682827161567517\n",
      "116. ROI_120: -0.010648825232570257\n",
      "117. ROI_138: 0.01063513627479803\n",
      "118. ROI_174: 0.010625550285342828\n",
      "119. ROI_3: -0.01049834641555983\n",
      "120. ROI_75: 0.010321898194483193\n",
      "121. ROI_142: -0.010293203149047917\n",
      "122. ROI_33: 0.010267551928036692\n",
      "123. ROI_180: 0.010163079694551274\n",
      "124. ROI_71: 0.010155045024178933\n",
      "125. ROI_112: -0.009902471472480343\n",
      "126. ROI_74: 0.009728159124124891\n",
      "127. ROI_115: -0.009682165068617814\n",
      "128. ROI_176: 0.00933931450733023\n",
      "129. ROI_48: -0.009167583550478491\n",
      "130. ROI_93: 0.00906420884278633\n",
      "131. ROI_198: 0.008859513442695246\n",
      "132. ROI_65: 0.008815653207347474\n",
      "133. ROI_60: 0.008795608121457162\n",
      "134. ROI_89: -0.008534079671156042\n",
      "135. ROI_66: 0.00852561843332579\n",
      "136. ROI_175: 0.008465173075651247\n",
      "137. ROI_73: 0.008444451537967603\n",
      "138. ROI_113: -0.008321074692577611\n",
      "139. ROI_36: 0.008254862185158475\n",
      "140. ROI_63: 0.008149009300369202\n",
      "141. ROI_64: 0.008143038708592086\n",
      "142. ROI_38: 0.007979292522799906\n",
      "143. ROI_67: 0.007975704066679652\n",
      "144. ROI_12: -0.007910055435418705\n",
      "145. ROI_69: 0.007822219253065485\n",
      "146. ROI_56: -0.007814889550845697\n",
      "147. ROI_185: 0.007813035956665097\n",
      "148. ROI_117: -0.007788556996491625\n",
      "149. ROI_186: 0.0077318565531647124\n",
      "150. ROI_81: 0.0077187647394218245\n",
      "151. ROI_136: -0.00750130615532251\n",
      "152. ROI_168: 0.007453147015856609\n",
      "153. ROI_137: -0.007446795268445924\n",
      "154. ROI_141: 0.0073567475838447185\n",
      "155. ROI_41: 0.007254882488902967\n",
      "156. ROI_172: 0.00718590716809472\n",
      "157. ROI_51: 0.007080236596894747\n",
      "158. ROI_139: 0.007074194700567078\n",
      "159. ROI_170: 0.006950484328191725\n",
      "160. ROI_135: 0.006857612667842287\n",
      "161. ROI_134: 0.006666158405962698\n",
      "162. ROI_31: -0.006660468023103834\n",
      "163. ROI_6: -0.006606448910133642\n",
      "164. ROI_171: 0.0065460947628362045\n",
      "165. ROI_70: 0.006492597348017125\n",
      "166. ROI_34: 0.006399096965478238\n",
      "167. ROI_110: 0.006177650057610707\n",
      "168. ROI_178: 0.006134639087158211\n",
      "169. ROI_191: -0.005914176755006895\n",
      "170. ROI_109: 0.005871935546004056\n",
      "171. ROI_111: -0.005650447001041613\n",
      "172. ROI_146: 0.005592438481327544\n",
      "173. ROI_29: 0.005554886901285824\n",
      "174. ROI_133: 0.005461103195648881\n",
      "175. ROI_9: -0.0054288799272928165\n",
      "176. ROI_86: -0.005414727160699139\n",
      "177. ROI_145: -0.005393495088973814\n",
      "178. ROI_32: -0.005336135239761691\n",
      "179. ROI_108: -0.005160377201901394\n",
      "180. ROI_156: 0.004759469801301101\n",
      "181. ROI_118: 0.004743853389143405\n",
      "182. ROI_183: 0.00473344147837519\n",
      "183. ROI_187: 0.004732479388401801\n",
      "184. ROI_80: 0.004674067090258675\n",
      "185. ROI_2: -0.004605318425919083\n",
      "186. ROI_162: 0.004601087362920308\n",
      "187. ROI_5: 0.004506603354377869\n",
      "188. ROI_106: 0.004423978440511806\n",
      "189. ROI_1: 0.004170674967586773\n",
      "190. ROI_132: -0.0040203774256325295\n",
      "191. ROI_184: -0.003983910280418569\n",
      "192. ROI_30: 0.003696778698496081\n",
      "193. ROI_27: -0.0035050081497524053\n",
      "194. ROI_161: -0.0034742762029376477\n",
      "195. ROI_107: -0.002776249467563359\n",
      "196. ROI_143: 0.002634760796145369\n",
      "197. ROI_57: 0.0026151989124635756\n",
      "198. ROI_4: 0.002481929481495391\n",
      "199. ROI_82: 0.0024582937980626397\n",
      "200. ROI_197: 0.002456015265618254\n",
      "201. ROI_37: -0.001893794440268066\n",
      "202. ROI_28: 0.0017070426382764302\n",
      "203. ROI_44: 0.0016856402365965938\n",
      "204. ROI_149: -0.0014778937922849762\n",
      "205. ROI_79: 0.0014081583123934486\n",
      "206. ROI_45: -0.0012363061844774383\n",
      "207. ROI_92: 0.0010619696516173973\n",
      "208. ROI_114: -0.0008241707475652531\n",
      "209. ROI_78: 0.0002806497620514321\n",
      "210. ROI_13: 5.278762103086332e-05\n"
     ]
    }
   ],
   "source": [
    "u.print_results_model(importances_cc)"
   ]
  },
  {
   "cell_type": "markdown",
   "id": "b235735a-575c-440c-824e-add856d65fa0",
   "metadata": {},
   "source": [
    " "
   ]
  },
  {
   "cell_type": "markdown",
   "id": "63c5811b-5039-46fd-a708-7aeec3ac9c8d",
   "metadata": {},
   "source": [
    "##### II. Correlation between features - grouping features with high correlation"
   ]
  },
  {
   "cell_type": "markdown",
   "id": "be37e978-bf68-498c-b9a4-ade57c21647f",
   "metadata": {},
   "source": [
    "Computing different groups of features which have high correletion between them."
   ]
  },
  {
   "cell_type": "code",
   "execution_count": 75,
   "id": "74fbbedd-2166-44df-9eb9-746cbca9636b",
   "metadata": {
    "scrolled": true
   },
   "outputs": [
    {
     "name": "stdout",
     "output_type": "stream",
     "text": [
      "\n",
      " Group 1: ['ROI_1', 'ROI_2', 'ROI_4', 'ROI_5', 'ROI_13', 'ROI_28', 'ROI_30', 'ROI_34', 'ROI_92', 'ROI_106', 'ROI_109', 'ROI_110', 'ROI_135', 'ROI_139', 'ROI_197']\n",
      "\n",
      " Group 2: ['ROI_3', 'ROI_6', 'ROI_108', 'ROI_111']\n",
      "\n",
      " Group 3: ['ROI_7', 'ROI_10', 'ROI_11', 'ROI_14', 'ROI_21', 'ROI_23', 'ROI_24', 'ROI_94', 'ROI_126', 'ROI_129', 'ROI_199']\n",
      "\n",
      " Group 4: ['ROI_8']\n",
      "\n",
      " Group 5: ['ROI_9', 'ROI_12']\n",
      "\n",
      " Group 6: ['ROI_15', 'ROI_16', 'ROI_17', 'ROI_19', 'ROI_20', 'ROI_22', 'ROI_26', 'ROI_35', 'ROI_39', 'ROI_42', 'ROI_47', 'ROI_59', 'ROI_83', 'ROI_84', 'ROI_85', 'ROI_87']\n",
      "\n",
      " Group 7: ['ROI_18']\n",
      "\n",
      " Group 8: ['ROI_25', 'ROI_55', 'ROI_56', 'ROI_57', 'ROI_58', 'ROI_60', 'ROI_82', 'ROI_161', 'ROI_162', 'ROI_163', 'ROI_165']\n",
      "\n",
      " Group 9: ['ROI_27', 'ROI_32', 'ROI_78']\n",
      "\n",
      " Group 10: ['ROI_29', 'ROI_33', 'ROI_65', 'ROI_66', 'ROI_67', 'ROI_74', 'ROI_75', 'ROI_81', 'ROI_138', 'ROI_168', 'ROI_171', 'ROI_179', 'ROI_180', 'ROI_186']\n",
      "\n",
      " Group 11: ['ROI_31', 'ROI_37', 'ROI_38', 'ROI_40', 'ROI_41', 'ROI_44', 'ROI_48', 'ROI_51', 'ROI_79', 'ROI_86']\n",
      "\n",
      " Group 12: ['ROI_36', 'ROI_45', 'ROI_46', 'ROI_49', 'ROI_50', 'ROI_54', 'ROI_61', 'ROI_62', 'ROI_101']\n",
      "\n",
      " Group 13: ['ROI_43']\n",
      "\n",
      " Group 14: ['ROI_52']\n",
      "\n",
      " Group 15: ['ROI_53', 'ROI_91', 'ROI_95', 'ROI_96', 'ROI_97', 'ROI_98', 'ROI_99', 'ROI_100', 'ROI_102', 'ROI_103', 'ROI_158', 'ROI_159', 'ROI_196', 'ROI_200', 'ROI_201', 'ROI_202', 'ROI_203', 'ROI_204', 'ROI_207', 'ROI_208']\n",
      "\n",
      " Group 16: ['ROI_63', 'ROI_64', 'ROI_69', 'ROI_105', 'ROI_169']\n",
      "\n",
      " Group 17: ['ROI_68', 'ROI_72']\n",
      "\n",
      " Group 18: ['ROI_70', 'ROI_71', 'ROI_80']\n",
      "\n",
      " Group 19: ['ROI_73']\n",
      "\n",
      " Group 20: ['ROI_76', 'ROI_77', 'ROI_88', 'ROI_104', 'ROI_181', 'ROI_182', 'ROI_193', 'ROI_209']\n",
      "\n",
      " Group 21: ['ROI_89', 'ROI_93', 'ROI_198']\n",
      "\n",
      " Group 22: ['ROI_90', 'ROI_195']\n",
      "\n",
      " Group 23: ['ROI_107', 'ROI_113', 'ROI_117']\n",
      "\n",
      " Group 24: ['ROI_112', 'ROI_115', 'ROI_119']\n",
      "\n",
      " Group 25: ['ROI_114', 'ROI_118', 'ROI_183']\n",
      "\n",
      " Group 26: ['ROI_116', 'ROI_121', 'ROI_122', 'ROI_123', 'ROI_124', 'ROI_127', 'ROI_128', 'ROI_131', 'ROI_140', 'ROI_144', 'ROI_147', 'ROI_152', 'ROI_188', 'ROI_189', 'ROI_190', 'ROI_192']\n",
      "\n",
      " Group 27: ['ROI_120', 'ROI_125', 'ROI_132', 'ROI_136', 'ROI_137', 'ROI_184']\n",
      "\n",
      " Group 28: ['ROI_130', 'ROI_164', 'ROI_194']\n",
      "\n",
      " Group 29: ['ROI_133', 'ROI_134', 'ROI_185']\n",
      "\n",
      " Group 30: ['ROI_141', 'ROI_143', 'ROI_145', 'ROI_146', 'ROI_149', 'ROI_153', 'ROI_191']\n",
      "\n",
      " Group 31: ['ROI_142', 'ROI_150', 'ROI_156', 'ROI_157', 'ROI_160', 'ROI_187']\n",
      "\n",
      " Group 32: ['ROI_148', 'ROI_151', 'ROI_154', 'ROI_155', 'ROI_166', 'ROI_206']\n",
      "\n",
      " Group 33: ['ROI_167', 'ROI_176', 'ROI_177', 'ROI_178']\n",
      "\n",
      " Group 34: ['ROI_170', 'ROI_172']\n",
      "\n",
      " Group 35: ['ROI_173', 'ROI_205']\n",
      "\n",
      " Group 36: ['ROI_174', 'ROI_210']\n",
      "\n",
      " Group 37: ['ROI_175']\n"
     ]
    }
   ],
   "source": [
    "correlation_groups = u.corr_groups(df_X_train, 0.8, print_=True)"
   ]
  },
  {
   "cell_type": "markdown",
   "id": "731d96ab-6335-4c9e-b6c6-bdb5acb20512",
   "metadata": {},
   "source": [
    " "
   ]
  },
  {
   "cell_type": "markdown",
   "id": "988e40aa-d964-4e11-bfd0-172d87fa1091",
   "metadata": {},
   "source": [
    " "
   ]
  },
  {
   "cell_type": "markdown",
   "id": "95f41ea7-1102-4cd3-9217-76bfcef0a93f",
   "metadata": {},
   "source": [
    " "
   ]
  },
  {
   "cell_type": "markdown",
   "id": "af1a3503-d557-4b94-a515-75c114594677",
   "metadata": {},
   "source": [
    " "
   ]
  },
  {
   "cell_type": "markdown",
   "id": "2a97b0ef-223a-4fd1-949d-f0a2b1c4954f",
   "metadata": {},
   "source": [
    " "
   ]
  },
  {
   "cell_type": "markdown",
   "id": "bc76466f-fc74-45d4-96a8-c1d3cb07ef10",
   "metadata": {},
   "source": [
    " "
   ]
  },
  {
   "cell_type": "markdown",
   "id": "d64fd4c6-79fd-4fc4-8c70-df4711d0b5c9",
   "metadata": {},
   "source": [
    "### 3.4. Mixing Feature Engineering Processes"
   ]
  },
  {
   "cell_type": "markdown",
   "id": "25782747-6630-4cf5-8e80-5124edada25e",
   "metadata": {},
   "source": [
    "#### 3.4.1. Method I: Correlation between features and their importance regarding the estimation of the target variable."
   ]
  },
  {
   "cell_type": "markdown",
   "id": "f844a3d7-87c7-47f5-bad3-448a41e649ef",
   "metadata": {},
   "source": [
    "With the two best models, Logistic Regression and Gradient Boosting, the importance of each feature is obtained in order to select one feature (ROI) per correlation group."
   ]
  },
  {
   "cell_type": "markdown",
   "id": "be14c0a4-6855-419b-828d-0c7c38fe1173",
   "metadata": {},
   "source": [
    "##### Logistic Regression"
   ]
  },
  {
   "cell_type": "code",
   "execution_count": 76,
   "id": "5a9a3f9a-3c1f-408d-9509-f8b50aa3cb9b",
   "metadata": {
    "scrolled": true
   },
   "outputs": [
    {
     "name": "stdout",
     "output_type": "stream",
     "text": [
      "Best feature for group 1: ROI_2\n",
      "Best feature for group 2: ROI_3\n",
      "Best feature for group 3: ROI_23\n",
      "Best feature for group 4: ROI_8\n",
      "Best feature for group 5: ROI_12\n",
      "Best feature for group 6: ROI_35\n",
      "Best feature for group 7: ROI_18\n",
      "Best feature for group 8: ROI_25\n",
      "Best feature for group 9: ROI_32\n",
      "Best feature for group 10: ROI_29\n",
      "Best feature for group 11: ROI_40\n",
      "Best feature for group 12: ROI_45\n",
      "Best feature for group 13: ROI_43\n",
      "Best feature for group 14: ROI_52\n",
      "Best feature for group 15: ROI_159\n",
      "Best feature for group 16: ROI_63\n",
      "Best feature for group 17: ROI_72\n",
      "Best feature for group 18: ROI_80\n",
      "Best feature for group 19: ROI_73\n",
      "Best feature for group 20: ROI_104\n",
      "Best feature for group 21: ROI_89\n",
      "Best feature for group 22: ROI_90\n",
      "Best feature for group 23: ROI_117\n",
      "Best feature for group 24: ROI_119\n",
      "Best feature for group 25: ROI_114\n",
      "Best feature for group 26: ROI_128\n",
      "Best feature for group 27: ROI_120\n",
      "Best feature for group 28: ROI_130\n",
      "Best feature for group 29: ROI_133\n",
      "Best feature for group 30: ROI_153\n",
      "Best feature for group 31: ROI_160\n",
      "Best feature for group 32: ROI_155\n",
      "Best feature for group 33: ROI_178\n",
      "Best feature for group 34: ROI_170\n",
      "Best feature for group 35: ROI_205\n",
      "Best feature for group 36: ROI_174\n",
      "Best feature for group 37: ROI_175\n"
     ]
    }
   ],
   "source": [
    "# With Logistic Regression\n",
    "best_features_LRcc = u.best_features_corr_groups(correlation_groups, importances_LR, print_=True)"
   ]
  },
  {
   "cell_type": "markdown",
   "id": "48b9eb93-610d-4ddf-b8a0-8272d8b0b99d",
   "metadata": {},
   "source": [
    "##### Gradient Boosting"
   ]
  },
  {
   "cell_type": "code",
   "execution_count": 77,
   "id": "c3f28819-845b-477d-ac03-3b6f96e2dc1b",
   "metadata": {
    "scrolled": true
   },
   "outputs": [
    {
     "name": "stdout",
     "output_type": "stream",
     "text": [
      "Best feature for group 1: ROI_1\n",
      "Best feature for group 2: ROI_3\n",
      "Best feature for group 3: ROI_94\n",
      "Best feature for group 4: ROI_8\n",
      "Best feature for group 5: ROI_9\n",
      "Best feature for group 6: ROI_59\n",
      "Best feature for group 7: ROI_18\n",
      "Best feature for group 8: ROI_25\n",
      "Best feature for group 9: ROI_78\n",
      "Best feature for group 10: ROI_29\n",
      "Best feature for group 11: ROI_86\n",
      "Best feature for group 12: ROI_62\n",
      "Best feature for group 13: ROI_43\n",
      "Best feature for group 14: ROI_52\n",
      "Best feature for group 15: ROI_196\n",
      "Best feature for group 16: ROI_63\n",
      "Best feature for group 17: ROI_72\n",
      "Best feature for group 18: ROI_80\n",
      "Best feature for group 19: ROI_73\n",
      "Best feature for group 20: ROI_88\n",
      "Best feature for group 21: ROI_89\n",
      "Best feature for group 22: ROI_90\n",
      "Best feature for group 23: ROI_113\n",
      "Best feature for group 24: ROI_115\n",
      "Best feature for group 25: ROI_114\n",
      "Best feature for group 26: ROI_128\n",
      "Best feature for group 27: ROI_137\n",
      "Best feature for group 28: ROI_130\n",
      "Best feature for group 29: ROI_134\n",
      "Best feature for group 30: ROI_191\n",
      "Best feature for group 31: ROI_187\n",
      "Best feature for group 32: ROI_206\n",
      "Best feature for group 33: ROI_177\n",
      "Best feature for group 34: ROI_170\n",
      "Best feature for group 35: ROI_173\n",
      "Best feature for group 36: ROI_174\n",
      "Best feature for group 37: ROI_175\n"
     ]
    }
   ],
   "source": [
    "# With Gradient Boosting\n",
    "best_features_GBcc = u.best_features_corr_groups(correlation_groups, importances_GB, print_=True)"
   ]
  },
  {
   "cell_type": "markdown",
   "id": "c8bcf64e-d0f6-4df1-bf75-5eea43affa02",
   "metadata": {},
   "source": [
    "##### Rest of models"
   ]
  },
  {
   "cell_type": "code",
   "execution_count": 78,
   "id": "277b2194-2a02-49cd-a9cf-18b42b2c9c86",
   "metadata": {},
   "outputs": [],
   "source": [
    "# With Tree Classifier\n",
    "best_features_TCcc = u.best_features_corr_groups(correlation_groups, importances_TC)\n",
    "\n",
    "# With Random Forest\n",
    "best_features_RFcc = u.best_features_corr_groups(correlation_groups, importances_RF)\n",
    "\n",
    "# With XGBoost\n",
    "best_features_XGcc = u.best_features_corr_groups(correlation_groups, importances_XG)"
   ]
  },
  {
   "cell_type": "markdown",
   "id": "25a83740-f2a6-44a5-ad34-fc2c5dcd665c",
   "metadata": {},
   "source": [
    " "
   ]
  },
  {
   "cell_type": "markdown",
   "id": "195f0419-b10d-4cce-bdd1-eb71fdb51a3a",
   "metadata": {},
   "source": [
    " "
   ]
  },
  {
   "cell_type": "markdown",
   "id": "bf4d30b1-0a68-4cc7-87d7-4028ee3d8030",
   "metadata": {},
   "source": [
    " "
   ]
  },
  {
   "cell_type": "markdown",
   "id": "fb7dcec7-6a51-49f0-a8c6-b504df8071f1",
   "metadata": {},
   "source": [
    "#### 3.4.2. Method II: Voting Engineering\n",
    "\n",
    "First of all, we create a dictionary to store every importance, coefficient or filter method results of each ROI."
   ]
  },
  {
   "cell_type": "code",
   "execution_count": 79,
   "id": "53c4f815-65dd-4b2b-86ae-2003878225f6",
   "metadata": {},
   "outputs": [],
   "source": [
    "# Initialize the combined dictionary\n",
    "feature_dict = {}\n",
    "\n",
    "# Build the combined dictionary\n",
    "for feature in features:\n",
    "    feature_dict[feature] = {\n",
    "        'models': {\n",
    "            'LR': (importances_LR.get(feature, None), feature_positions_LR.get(feature, None)),\n",
    "            'TC': (importances_TC.get(feature, None), feature_positions_TC.get(feature, None)),\n",
    "            'RF': (importances_RF.get(feature, None), feature_positions_RF.get(feature, None)),\n",
    "            'GB': (importances_GB.get(feature, None), feature_positions_GB.get(feature, None)),\n",
    "            'XG': (importances_XG.get(feature, None), feature_positions_XG.get(feature, None)),\n",
    "        },\n",
    "        'filters': {\n",
    "            'v': (importances_v.get(feature, None), feature_positions_v.get(feature, None)),\n",
    "            'mi': (importances_mi.get(feature, None), feature_positions_mi.get(feature, None)),\n",
    "            'cc': (importances_cc.get(feature, None), feature_positions_cc.get(feature, None)),\n",
    "        }\n",
    "    }"
   ]
  },
  {
   "cell_type": "code",
   "execution_count": 80,
   "id": "cc963e0f-b6a3-4fa5-89a8-b0ffa434c22c",
   "metadata": {},
   "outputs": [],
   "source": [
    "# Unpdate the feature dictionary with the scores\n",
    "feature_dict = u.calculate_feature_scores(feature_dict)\n",
    "\n",
    "# Store each of the scores in lists\n",
    "avg_scores, weighted_scores = u.extract_scores(feature_dict)\n",
    "\n",
    "# Store the average scores as well as the feature positions with respect them in two dictionaries\n",
    "importances_avg, feature_positions_avg = u.importances_model(features, avg_scores)\n",
    "\n",
    "# Store the weighted scores as well as the feature positions with respect them in two dictionaries\n",
    "importances_weighted, feature_positions_weighted = u.importances_model(features, weighted_scores)"
   ]
  },
  {
   "cell_type": "code",
   "execution_count": 81,
   "id": "340d0a1b-eb5d-441f-93df-a086d58476a5",
   "metadata": {},
   "outputs": [],
   "source": [
    "# Obtain best features according to the scores\n",
    "best_features_VE_50 = list(feature_positions_weighted.keys())[:50]\n",
    "best_features_VE_100 = list(feature_positions_weighted.keys())[:100]\n",
    "best_features_VE_150 = list(feature_positions_weighted.keys())[:150]"
   ]
  },
  {
   "cell_type": "code",
   "execution_count": 82,
   "id": "d0cb8b23-8abb-4c3d-9b9e-1b5f97e00d2c",
   "metadata": {
    "scrolled": true
   },
   "outputs": [
    {
     "name": "stdout",
     "output_type": "stream",
     "text": [
      "Best feature for group 1: ROI_92\n",
      "Best feature for group 2: ROI_3\n",
      "Best feature for group 3: ROI_23\n",
      "Best feature for group 4: ROI_8\n",
      "Best feature for group 5: ROI_9\n",
      "Best feature for group 6: ROI_35\n",
      "Best feature for group 7: ROI_18\n",
      "Best feature for group 8: ROI_25\n",
      "Best feature for group 9: ROI_78\n",
      "Best feature for group 10: ROI_180\n",
      "Best feature for group 11: ROI_40\n",
      "Best feature for group 12: ROI_61\n",
      "Best feature for group 13: ROI_43\n",
      "Best feature for group 14: ROI_52\n",
      "Best feature for group 15: ROI_99\n",
      "Best feature for group 16: ROI_69\n",
      "Best feature for group 17: ROI_72\n",
      "Best feature for group 18: ROI_70\n",
      "Best feature for group 19: ROI_73\n",
      "Best feature for group 20: ROI_181\n",
      "Best feature for group 21: ROI_89\n",
      "Best feature for group 22: ROI_90\n",
      "Best feature for group 23: ROI_117\n",
      "Best feature for group 24: ROI_119\n",
      "Best feature for group 25: ROI_114\n",
      "Best feature for group 26: ROI_128\n",
      "Best feature for group 27: ROI_137\n",
      "Best feature for group 28: ROI_130\n",
      "Best feature for group 29: ROI_185\n",
      "Best feature for group 30: ROI_191\n",
      "Best feature for group 31: ROI_157\n",
      "Best feature for group 32: ROI_206\n",
      "Best feature for group 33: ROI_167\n",
      "Best feature for group 34: ROI_170\n",
      "Best feature for group 35: ROI_205\n",
      "Best feature for group 36: ROI_174\n",
      "Best feature for group 37: ROI_175\n"
     ]
    }
   ],
   "source": [
    "# Obtain best features according to the correlation groups with respect weighted score\n",
    "best_features_VEcc = u.best_features_corr_groups(correlation_groups, importances_weighted, print_=True)"
   ]
  },
  {
   "cell_type": "markdown",
   "id": "1017c495-9e4d-4bed-9db3-d3ec899ddb95",
   "metadata": {},
   "source": [
    " "
   ]
  },
  {
   "cell_type": "markdown",
   "id": "3db20744-806b-4867-9891-d0a6e3197c2c",
   "metadata": {},
   "source": [
    " "
   ]
  },
  {
   "cell_type": "markdown",
   "id": "38cfb471-541a-4d64-a180-61f15fd20f05",
   "metadata": {},
   "source": [
    " "
   ]
  },
  {
   "cell_type": "markdown",
   "id": "589ddbf6-ed03-4d4b-9b17-8a72aad7e119",
   "metadata": {},
   "source": [
    " "
   ]
  },
  {
   "cell_type": "markdown",
   "id": "7c8ffdac-cffc-498b-afb2-5679dc4804b3",
   "metadata": {},
   "source": [
    " "
   ]
  },
  {
   "cell_type": "markdown",
   "id": "369effdc-ba95-4724-8729-8578d8f9ed7b",
   "metadata": {},
   "source": [
    "### 3.5. Method Comparissons"
   ]
  },
  {
   "cell_type": "markdown",
   "id": "080fbdb6-74e7-4a69-b291-b6accb224458",
   "metadata": {},
   "source": [
    "#### 3.5.1 Model Method Comparissons"
   ]
  },
  {
   "cell_type": "code",
   "execution_count": 83,
   "id": "493d2d76-6bae-43d3-bf0c-630b17f18e8b",
   "metadata": {
    "scrolled": true
   },
   "outputs": [
    {
     "name": "stdout",
     "output_type": "stream",
     "text": [
      "           Logistic Regression            Tree Classifiers               Random Forest             Gradient Boosting                 XGBoost                       \n",
      "Rank       Feature      Score           Feature      Score           Feature      Score           Feature      Score           Feature      Score          \n",
      "======================================================================================================================================================\n",
      "1          ROI_25       0.174           ROI_130      0.006           ROI_25       0.006           ROI_130      0.022           ROI_25       0.006          \n",
      "2          ROI_130      0.152           ROI_25       0.005           ROI_130      0.006           ROI_25       0.019           ROI_130      0.006          \n",
      "3          ROI_128      0.147           ROI_88       0.005           ROI_88       0.006           ROI_88       0.014           ROI_196      0.006          \n",
      "4          ROI_23       0.145           ROI_196      0.005           ROI_193      0.006           ROI_196      0.011           ROI_165      0.006          \n",
      "5          ROI_94       0.114           ROI_194      0.005           ROI_94       0.005           ROI_194      0.010           ROI_162      0.006          \n",
      "6          ROI_35       0.114           ROI_59       0.005           ROI_194      0.005           ROI_94       0.010           ROI_189      0.006          \n",
      "7          ROI_83       0.111           ROI_163      0.005           ROI_128      0.005           ROI_193      0.010           ROI_191      0.006          \n",
      "8          ROI_22       0.111           ROI_55       0.005           ROI_196      0.005           ROI_128      0.009           ROI_98       0.005          \n",
      "9          ROI_59       0.110           ROI_128      0.005           ROI_89       0.005           ROI_206      0.009           ROI_88       0.005          \n",
      "10         ROI_84       0.108           ROI_164      0.005           ROI_59       0.005           ROI_89       0.008           ROI_155      0.005          \n",
      "11         ROI_127      0.107           ROI_193      0.005           ROI_77       0.005           ROI_103      0.008           ROI_103      0.005          \n",
      "12         ROI_182      -0.106          ROI_23       0.005           ROI_82       0.005           ROI_181      0.008           ROI_150      0.005          \n",
      "13         ROI_193      -0.106          ROI_91       0.005           ROI_163      0.005           ROI_72       0.008           ROI_204      0.005          \n",
      "14         ROI_88       -0.103          ROI_58       0.005           ROI_174      0.005           ROI_68       0.007           ROI_163      0.005          \n",
      "15         ROI_181      -0.101          ROI_160      0.005           ROI_177      0.005           ROI_182      0.007           ROI_45       0.005          \n",
      "16         ROI_196      -0.098          ROI_182      0.005           ROI_148      0.005           ROI_174      0.007           ROI_192      0.005          \n",
      "17         ROI_209      -0.097          ROI_94       0.005           ROI_90       0.005           ROI_29       0.007           ROI_56       0.005          \n",
      "18         ROI_77       -0.097          ROI_77       0.005           ROI_173      0.005           ROI_1        0.007           ROI_131      0.005          \n",
      "19         ROI_140      0.097           ROI_161      0.005           ROI_91       0.005           ROI_98       0.007           ROI_158      0.005          \n",
      "20         ROI_131      0.095           ROI_99       0.005           ROI_181      0.005           ROI_203      0.007           ROI_193      0.005          \n",
      "21         ROI_189      0.094           ROI_90       0.005           ROI_199      0.005           ROI_210      0.007           ROI_53       0.005          \n",
      "22         ROI_19       0.092           ROI_157      0.005           ROI_164      0.005           ROI_102      0.007           ROI_102      0.005          \n",
      "23         ROI_68       -0.091          ROI_82       0.005           ROI_201      0.005           ROI_23       0.006           ROI_94       0.005          \n",
      "24         ROI_204      -0.090          ROI_181      0.005           ROI_187      0.005           ROI_191      0.006           ROI_202      0.005          \n",
      "25         ROI_101      -0.089          ROI_89       0.005           ROI_204      0.005           ROI_129      0.006           ROI_99       0.005          \n",
      "26         ROI_26       0.089           ROI_203      0.005           ROI_14       0.005           ROI_151      0.006           ROI_24       0.005          \n",
      "27         ROI_123      0.088           ROI_57       0.005           ROI_167      0.005           ROI_90       0.006           ROI_22       0.005          \n",
      "28         ROI_210      -0.088          ROI_76       0.005           ROI_104      0.005           ROI_175      0.006           ROI_101      0.005          \n",
      "29         ROI_76       -0.087          ROI_140      0.005           ROI_198      0.005           ROI_8        0.006           ROI_110      0.005          \n",
      "30         ROI_91       -0.087          ROI_187      0.005           ROI_154      0.005           ROI_164      0.006           ROI_48       0.005          \n",
      "31         ROI_188      0.086           ROI_159      0.005           ROI_101      0.005           ROI_82       0.006           ROI_159      0.005          \n",
      "32         ROI_201      -0.085          ROI_95       0.005           ROI_76       0.005           ROI_146      0.006           ROI_58       0.005          \n",
      "33         ROI_72       -0.085          ROI_165      0.005           ROI_210      0.005           ROI_13       0.006           ROI_135      0.005          \n",
      "34         ROI_202      -0.085          ROI_204      0.005           ROI_7        0.005           ROI_148      0.006           ROI_83       0.005          \n",
      "35         ROI_104      -0.084          ROI_200      0.005           ROI_105      0.005           ROI_65       0.006           ROI_95       0.005          \n",
      "36         ROI_100      -0.083          ROI_60       0.005           ROI_121      0.005           ROI_14       0.006           ROI_26       0.005          \n",
      "37         ROI_99       -0.082          ROI_151      0.005           ROI_200      0.005           ROI_187      0.006           ROI_82       0.005          \n",
      "38         ROI_203      -0.082          ROI_162      0.005           ROI_68       0.005           ROI_122      0.006           ROI_10       0.005          \n",
      "39         ROI_47       0.081           ROI_56       0.005           ROI_175      0.005           ROI_179      0.006           ROI_188      0.005          \n",
      "40         ROI_200      -0.081          ROI_206      0.005           ROI_182      0.005           ROI_86       0.006           ROI_91       0.005          \n",
      "41         ROI_62       -0.080          ROI_207      0.005           ROI_58       0.005           ROI_158      0.006           ROI_207      0.005          \n",
      "42         ROI_206      -0.080          ROI_54       0.005           ROI_23       0.005           ROI_204      0.006           ROI_209      0.005          \n",
      "43         ROI_169      -0.080          ROI_86       0.005           ROI_99       0.005           ROI_201      0.006           ROI_70       0.005          \n",
      "44         ROI_49       -0.080          ROI_210      0.005           ROI_72       0.005           ROI_81       0.006           ROI_11       0.005          \n",
      "45         ROI_207      -0.079          ROI_101      0.005           ROI_206      0.005           ROI_115      0.006           ROI_178      0.005          \n",
      "46         ROI_43       -0.079          ROI_158      0.005           ROI_112      0.005           ROI_76       0.006           ROI_86       0.005          \n",
      "47         ROI_194      0.079           ROI_127      0.005           ROI_183      0.005           ROI_78       0.006           ROI_74       0.005          \n",
      "48         ROI_173      -0.078          ROI_205      0.005           ROI_178      0.005           ROI_104      0.006           ROI_170      0.005          \n",
      "49         ROI_105      -0.078          ROI_123      0.005           ROI_126      0.005           ROI_3        0.006           ROI_17       0.005          \n",
      "50         ROI_205      -0.078          ROI_179      0.005           ROI_176      0.005           ROI_173      0.006           ROI_144      0.005          \n",
      "51         ROI_46       -0.077          ROI_150      0.005           ROI_100      0.005           ROI_59       0.006           ROI_85       0.005          \n",
      "52         ROI_179      -0.077          ROI_155      0.005           ROI_185      0.005           ROI_162      0.006           ROI_151      0.005          \n",
      "53         ROI_18       0.077           ROI_154      0.005           ROI_172      0.005           ROI_186      0.006           ROI_201      0.005          \n",
      "54         ROI_102      -0.076          ROI_124      0.005           ROI_202      0.005           ROI_77       0.006           ROI_161      0.005          \n",
      "55         ROI_98       -0.075          ROI_198      0.005           ROI_107      0.005           ROI_27       0.005           ROI_200      0.005          \n",
      "56         ROI_95       -0.075          ROI_98       0.005           ROI_10       0.005           ROI_114      0.005           ROI_157      0.005          \n",
      "57         ROI_97       -0.075          ROI_173      0.005           ROI_208      0.005           ROI_9        0.005           ROI_7        0.005          \n",
      "58         ROI_158      -0.075          ROI_148      0.005           ROI_12       0.005           ROI_100      0.005           ROI_148      0.005          \n",
      "59         ROI_180      -0.075          ROI_156      0.005           ROI_158      0.005           ROI_137      0.005           ROI_73       0.005          \n",
      "60         ROI_96       -0.075          ROI_195      0.005           ROI_111      0.005           ROI_124      0.005           ROI_106      0.005          \n",
      "61         ROI_198      -0.074          ROI_93       0.005           ROI_116      0.005           ROI_84       0.005           ROI_139      0.005          \n",
      "62         ROI_138      -0.074          ROI_152      0.005           ROI_137      0.005           ROI_15       0.005           ROI_111      0.005          \n",
      "63         ROI_103      -0.074          ROI_104      0.005           ROI_205      0.005           ROI_143      0.005           ROI_47       0.005          \n",
      "64         ROI_124      0.074           ROI_176      0.005           ROI_16       0.005           ROI_62       0.005           ROI_80       0.005          \n",
      "65         ROI_74       -0.074          ROI_70       0.005           ROI_80       0.005           ROI_119      0.005           ROI_206      0.005          \n",
      "66         ROI_53       -0.073          ROI_209      0.005           ROI_207      0.005           ROI_99       0.005           ROI_76       0.005          \n",
      "67         ROI_126      0.072           ROI_185      0.005           ROI_73       0.005           ROI_112      0.005           ROI_51       0.005          \n",
      "68         ROI_64       -0.072          ROI_84       0.005           ROI_78       0.005           ROI_135      0.005           ROI_210      0.005          \n",
      "69         ROI_177      -0.072          ROI_35       0.005           ROI_134      0.005           ROI_161      0.005           ROI_29       0.005          \n",
      "70         ROI_174      -0.072          ROI_202      0.005           ROI_166      0.005           ROI_113      0.005           ROI_186      0.005          \n",
      "71         ROI_154      -0.072          ROI_191      0.005           ROI_160      0.005           ROI_92       0.005           ROI_116      0.005          \n",
      "72         ROI_148      -0.072          ROI_168      0.005           ROI_70       0.005           ROI_109      0.005           ROI_32       0.005          \n",
      "73         ROI_172      -0.071          ROI_201      0.005           ROI_170      0.005           ROI_116      0.005           ROI_39       0.005          \n",
      "74         ROI_93       -0.071          ROI_53       0.005           ROI_97       0.005           ROI_177      0.005           ROI_23       0.005          \n",
      "75         ROI_164      0.071           ROI_16       0.005           ROI_140      0.005           ROI_7        0.005           ROI_195      0.005          \n",
      "76         ROI_116      0.071           ROI_166      0.005           ROI_55       0.005           ROI_163      0.005           ROI_147      0.005          \n",
      "77         ROI_69       -0.070          ROI_138      0.005           ROI_108      0.005           ROI_57       0.005           ROI_121      0.005          \n",
      "78         ROI_75       -0.070          ROI_177      0.005           ROI_79       0.005           ROI_205      0.005           ROI_125      0.005          \n",
      "79         ROI_67       -0.070          ROI_14       0.005           ROI_11       0.005           ROI_2        0.005           ROI_63       0.005          \n",
      "80         ROI_168      -0.070          ROI_92       0.005           ROI_115      0.005           ROI_30       0.005           ROI_89       0.005          \n",
      "81         ROI_55       0.069           ROI_121      0.005           ROI_120      0.005           ROI_188      0.005           ROI_21       0.005          \n",
      "82         ROI_165      -0.069          ROI_72       0.005           ROI_92       0.005           ROI_32       0.005           ROI_81       0.005          \n",
      "83         ROI_63       -0.069          ROI_174      0.005           ROI_15       0.005           ROI_95       0.005           ROI_124      0.005          \n",
      "84         ROI_39       0.069           ROI_169      0.005           ROI_102      0.005           ROI_80       0.005           ROI_128      0.005          \n",
      "85         ROI_71       -0.068          ROI_100      0.005           ROI_195      0.005           ROI_121      0.005           ROI_149      0.005          \n",
      "86         ROI_208      -0.068          ROI_68       0.005           ROI_113      0.005           ROI_118      0.005           ROI_177      0.005          \n",
      "87         ROI_199      0.068           ROI_188      0.005           ROI_6        0.005           ROI_63       0.005           ROI_197      0.005          \n",
      "88         ROI_54       -0.067          ROI_64       0.005           ROI_156      0.005           ROI_139      0.005           ROI_182      0.005          \n",
      "89         ROI_65       -0.067          ROI_133      0.005           ROI_71       0.005           ROI_184      0.005           ROI_84       0.005          \n",
      "90         ROI_61       -0.067          ROI_10       0.005           ROI_27       0.005           ROI_17       0.005           ROI_109      0.005          \n",
      "91         ROI_73       -0.066          ROI_189      0.005           ROI_32       0.005           ROI_71       0.005           ROI_171      0.005          \n",
      "92         ROI_42       0.064           ROI_52       0.005           ROI_53       0.005           ROI_93       0.005           ROI_169      0.005          \n",
      "93         ROI_33       -0.064          ROI_65       0.005           ROI_3        0.005           ROI_4        0.005           ROI_152      0.005          \n",
      "94         ROI_152      0.064           ROI_102      0.005           ROI_161      0.005           ROI_156      0.005           ROI_77       0.005          \n",
      "95         ROI_151      -0.064          ROI_172      0.005           ROI_197      0.005           ROI_105      0.005           ROI_60       0.005          \n",
      "96         ROI_121      0.063           ROI_109      0.005           ROI_122      0.005           ROI_70       0.005           ROI_140      0.005          \n",
      "97         ROI_159      -0.063          ROI_103      0.005           ROI_49       0.005           ROI_74       0.004           ROI_164      0.005          \n",
      "98         ROI_24       0.063           ROI_139      0.005           ROI_127      0.005           ROI_134      0.004           ROI_129      0.005          \n",
      "99         ROI_50       -0.061          ROI_22       0.005           ROI_8        0.005           ROI_133      0.004           ROI_72       0.005          \n",
      "100        ROI_147      0.061           ROI_96       0.005           ROI_29       0.005           ROI_96       0.004           ROI_66       0.005          \n",
      "101        ROI_70       -0.061          ROI_24       0.005           ROI_54       0.005           ROI_75       0.004           ROI_190      0.005          \n",
      "102        ROI_119      0.060           ROI_135      0.005           ROI_81       0.005           ROI_46       0.004           ROI_166      0.005          \n",
      "103        ROI_171      -0.060          ROI_119      0.005           ROI_118      0.005           ROI_165      0.004           ROI_167      0.005          \n",
      "104        ROI_144      0.060           ROI_131      0.005           ROI_159      0.005           ROI_110      0.004           ROI_59       0.005          \n",
      "105        ROI_186      -0.059          ROI_208      0.005           ROI_86       0.005           ROI_101      0.004           ROI_69       0.005          \n",
      "106        ROI_166      -0.059          ROI_67       0.005           ROI_95       0.005           ROI_45       0.004           ROI_54       0.005          \n",
      "107        ROI_58       0.059           ROI_43       0.005           ROI_141      0.005           ROI_154      0.004           ROI_118      0.005          \n",
      "108        ROI_170      -0.059          ROI_19       0.005           ROI_138      0.005           ROI_19       0.004           ROI_3        0.005          \n",
      "109        ROI_14       0.059           ROI_80       0.005           ROI_21       0.005           ROI_22       0.004           ROI_30       0.005          \n",
      "110        ROI_36       -0.058          ROI_167      0.005           ROI_69       0.005           ROI_208      0.004           ROI_208      0.005          \n",
      "111        ROI_66       -0.058          ROI_175      0.005           ROI_64       0.005           ROI_189      0.004           ROI_67       0.005          \n",
      "112        ROI_16       0.058           ROI_144      0.005           ROI_13       0.005           ROI_166      0.004           ROI_181      0.005          \n",
      "113        ROI_175      -0.057          ROI_81       0.005           ROI_24       0.005           ROI_199      0.004           ROI_172      0.005          \n",
      "114        ROI_167      -0.057          ROI_34       0.005           ROI_4        0.005           ROI_209      0.004           ROI_8        0.005          \n",
      "115        ROI_11       0.056           ROI_111      0.005           ROI_150      0.005           ROI_66       0.004           ROI_52       0.005          \n",
      "116        ROI_139      -0.056          ROI_33       0.005           ROI_43       0.005           ROI_207      0.004           ROI_194      0.005          \n",
      "117        ROI_155      -0.056          ROI_147      0.005           ROI_65       0.005           ROI_155      0.004           ROI_180      0.005          \n",
      "118        ROI_34       -0.055          ROI_20       0.005           ROI_152      0.005           ROI_91       0.004           ROI_78       0.005          \n",
      "119        ROI_134      -0.054          ROI_74       0.005           ROI_22       0.005           ROI_127      0.004           ROI_71       0.005          \n",
      "120        ROI_185      -0.054          ROI_180      0.005           ROI_169      0.005           ROI_170      0.004           ROI_42       0.005          \n",
      "121        ROI_135      -0.053          ROI_108      0.005           ROI_188      0.005           ROI_73       0.004           ROI_154      0.005          \n",
      "122        ROI_176      -0.053          ROI_18       0.005           ROI_57       0.005           ROI_64       0.004           ROI_122      0.005          \n",
      "123        ROI_80       -0.052          ROI_197      0.005           ROI_191      0.005           ROI_176      0.004           ROI_41       0.005          \n",
      "124        ROI_60       -0.052          ROI_105      0.005           ROI_1        0.005           ROI_136      0.004           ROI_107      0.005          \n",
      "125        ROI_81       -0.051          ROI_26       0.005           ROI_151      0.005           ROI_35       0.004           ROI_126      0.005          \n",
      "126        ROI_122      0.050           ROI_32       0.005           ROI_162      0.005           ROI_131      0.004           ROI_146      0.005          \n",
      "127        ROI_110      -0.049          ROI_153      0.005           ROI_129      0.005           ROI_108      0.004           ROI_112      0.005          \n",
      "128        ROI_82       -0.049          ROI_112      0.005           ROI_96       0.005           ROI_200      0.004           ROI_96       0.005          \n",
      "129        ROI_29       -0.049          ROI_183      0.005           ROI_186      0.005           ROI_117      0.004           ROI_133      0.005          \n",
      "130        ROI_30       -0.048          ROI_171      0.005           ROI_119      0.005           ROI_67       0.004           ROI_44       0.005          \n",
      "131        ROI_38       -0.047          ROI_21       0.005           ROI_157      0.005           ROI_28       0.004           ROI_27       0.005          \n",
      "132        ROI_5        -0.047          ROI_134      0.005           ROI_35       0.005           ROI_145      0.004           ROI_2        0.005          \n",
      "133        ROI_10       0.046           ROI_69       0.005           ROI_36       0.005           ROI_31       0.004           ROI_31       0.005          \n",
      "134        ROI_21       0.046           ROI_45       0.005           ROI_28       0.005           ROI_87       0.004           ROI_4        0.005          \n",
      "135        ROI_133      -0.046          ROI_30       0.005           ROI_179      0.005           ROI_12       0.004           ROI_14       0.005          \n",
      "136        ROI_178      -0.046          ROI_129      0.005           ROI_66       0.005           ROI_53       0.004           ROI_119      0.005          \n",
      "137        ROI_92       -0.046          ROI_49       0.005           ROI_153      0.005           ROI_190      0.004           ROI_175      0.005          \n",
      "138        ROI_197      -0.045          ROI_141      0.005           ROI_103      0.005           ROI_202      0.004           ROI_127      0.005          \n",
      "139        ROI_141      -0.044          ROI_178      0.005           ROI_117      0.005           ROI_34       0.004           ROI_97       0.005          \n",
      "140        ROI_41       -0.043          ROI_7        0.005           ROI_155      0.005           ROI_79       0.004           ROI_13       0.005          \n",
      "141        ROI_78       -0.043          ROI_3        0.005           ROI_93       0.005           ROI_36       0.004           ROI_93       0.005          \n",
      "142        ROI_162      -0.043          ROI_186      0.005           ROI_61       0.005           ROI_167      0.004           ROI_153      0.005          \n",
      "143        ROI_109      -0.043          ROI_170      0.005           ROI_146      0.005           ROI_123      0.004           ROI_105      0.005          \n",
      "144        ROI_51       -0.043          ROI_1        0.005           ROI_9        0.005           ROI_172      0.004           ROI_62       0.005          \n",
      "145        ROI_1        -0.042          ROI_75       0.005           ROI_52       0.005           ROI_141      0.004           ROI_179      0.005          \n",
      "146        ROI_183      -0.042          ROI_12       0.005           ROI_131      0.005           ROI_24       0.004           ROI_55       0.005          \n",
      "147        ROI_17       0.042           ROI_29       0.005           ROI_60       0.005           ROI_125      0.004           ROI_137      0.005          \n",
      "148        ROI_187      -0.041          ROI_110      0.005           ROI_209      0.005           ROI_21       0.004           ROI_92       0.005          \n",
      "149        ROI_28       -0.041          ROI_27       0.005           ROI_203      0.005           ROI_120      0.004           ROI_1        0.005          \n",
      "150        ROI_190      0.041           ROI_36       0.005           ROI_87       0.005           ROI_157      0.004           ROI_19       0.005          \n",
      "151        ROI_85       0.041           ROI_78       0.005           ROI_74       0.005           ROI_6        0.004           ROI_90       0.005          \n",
      "152        ROI_106      -0.040          ROI_66       0.005           ROI_114      0.005           ROI_85       0.004           ROI_75       0.005          \n",
      "153        ROI_153      0.040           ROI_126      0.005           ROI_2        0.005           ROI_180      0.004           ROI_64       0.005          \n",
      "154        ROI_52       0.039           ROI_125      0.005           ROI_67       0.005           ROI_171      0.004           ROI_57       0.005          \n",
      "155        ROI_4        -0.039          ROI_97       0.005           ROI_143      0.005           ROI_49       0.004           ROI_143      0.005          \n",
      "156        ROI_156      -0.038          ROI_28       0.005           ROI_133      0.005           ROI_56       0.004           ROI_185      0.005          \n",
      "157        ROI_146      -0.038          ROI_115      0.005           ROI_38       0.005           ROI_126      0.004           ROI_50       0.005          \n",
      "158        ROI_160      0.037           ROI_13       0.005           ROI_17       0.005           ROI_43       0.004           ROI_104      0.005          \n",
      "159        ROI_150      0.035           ROI_17       0.005           ROI_171      0.005           ROI_159      0.004           ROI_16       0.005          \n",
      "160        ROI_129      0.035           ROI_114      0.005           ROI_33       0.005           ROI_149      0.004           ROI_176      0.005          \n",
      "161        ROI_118      -0.034          ROI_199      0.005           ROI_165      0.005           ROI_11       0.003           ROI_173      0.005          \n",
      "162        ROI_143      -0.032          ROI_46       0.005           ROI_63       0.005           ROI_107      0.003           ROI_187      0.005          \n",
      "163        ROI_40       0.032           ROI_83       0.005           ROI_123      0.005           ROI_44       0.003           ROI_156      0.005          \n",
      "164        ROI_87       0.031           ROI_15       0.005           ROI_84       0.005           ROI_54       0.003           ROI_141      0.005          \n",
      "165        ROI_163      0.031           ROI_107      0.005           ROI_56       0.005           ROI_16       0.003           ROI_184      0.005          \n",
      "166        ROI_13       -0.030          ROI_146      0.005           ROI_125      0.005           ROI_195      0.003           ROI_174      0.004          \n",
      "167        ROI_27       -0.030          ROI_116      0.005           ROI_109      0.005           ROI_47       0.003           ROI_9        0.004          \n",
      "168        ROI_90       0.030           ROI_122      0.005           ROI_19       0.005           ROI_10       0.003           ROI_43       0.004          \n",
      "169        ROI_79       -0.029          ROI_79       0.005           ROI_136      0.005           ROI_150      0.003           ROI_37       0.004          \n",
      "170        ROI_57       -0.027          ROI_143      0.005           ROI_132      0.005           ROI_61       0.003           ROI_123      0.004          \n",
      "171        ROI_9        -0.026          ROI_63       0.005           ROI_189      0.005           ROI_198      0.003           ROI_65       0.004          \n",
      "172        ROI_192      0.026           ROI_5        0.005           ROI_180      0.005           ROI_20       0.003           ROI_183      0.004          \n",
      "173        ROI_157      0.025           ROI_39       0.005           ROI_18       0.005           ROI_197      0.003           ROI_87       0.004          \n",
      "174        ROI_44       -0.025          ROI_11       0.005           ROI_75       0.005           ROI_132      0.003           ROI_134      0.004          \n",
      "175        ROI_6        -0.023          ROI_106      0.005           ROI_26       0.005           ROI_111      0.003           ROI_34       0.004          \n",
      "176        ROI_48       0.022           ROI_4        0.005           ROI_145      0.005           ROI_183      0.003           ROI_35       0.004          \n",
      "177        ROI_114      -0.021          ROI_8        0.005           ROI_192      0.005           ROI_97       0.003           ROI_117      0.004          \n",
      "178        ROI_111      -0.021          ROI_62       0.005           ROI_20       0.005           ROI_33       0.003           ROI_33       0.004          \n",
      "179        ROI_7        0.020           ROI_71       0.005           ROI_62       0.005           ROI_69       0.003           ROI_138      0.004          \n",
      "180        ROI_32       -0.020          ROI_2        0.005           ROI_149      0.005           ROI_38       0.003           ROI_203      0.004          \n",
      "181        ROI_2        -0.019          ROI_50       0.005           ROI_139      0.005           ROI_58       0.003           ROI_132      0.004          \n",
      "182        ROI_20       0.018           ROI_190      0.005           ROI_45       0.005           ROI_168      0.003           ROI_40       0.004          \n",
      "183        ROI_108      -0.018          ROI_120      0.005           ROI_106      0.005           ROI_153      0.003           ROI_49       0.004          \n",
      "184        ROI_12       -0.018          ROI_117      0.005           ROI_184      0.005           ROI_140      0.003           ROI_100      0.004          \n",
      "185        ROI_149      -0.015          ROI_132      0.005           ROI_41       0.005           ROI_169      0.003           ROI_198      0.004          \n",
      "186        ROI_120      0.015           ROI_136      0.005           ROI_47       0.004           ROI_55       0.003           ROI_18       0.004          \n",
      "187        ROI_161      -0.015          ROI_31       0.005           ROI_83       0.004           ROI_160      0.003           ROI_68       0.004          \n",
      "188        ROI_37       -0.014          ROI_149      0.005           ROI_98       0.004           ROI_26       0.003           ROI_160      0.004          \n",
      "189        ROI_86       -0.014          ROI_87       0.005           ROI_50       0.004           ROI_185      0.003           ROI_36       0.004          \n",
      "190        ROI_107      -0.014          ROI_9        0.004           ROI_124      0.004           ROI_106      0.003           ROI_205      0.004          \n",
      "191        ROI_112      0.014           ROI_137      0.004           ROI_168      0.004           ROI_40       0.003           ROI_199      0.004          \n",
      "192        ROI_195      0.014           ROI_47       0.004           ROI_46       0.004           ROI_50       0.003           ROI_120      0.004          \n",
      "193        ROI_184      -0.014          ROI_37       0.004           ROI_135      0.004           ROI_60       0.003           ROI_114      0.004          \n",
      "194        ROI_191      -0.012          ROI_142      0.004           ROI_37       0.004           ROI_48       0.003           ROI_142      0.004          \n",
      "195        ROI_3        -0.012          ROI_51       0.004           ROI_85       0.004           ROI_39       0.003           ROI_136      0.004          \n",
      "196        ROI_89       -0.012          ROI_6        0.004           ROI_190      0.004           ROI_142      0.003           ROI_20       0.004          \n",
      "197        ROI_56       0.012           ROI_145      0.004           ROI_44       0.004           ROI_178      0.003           ROI_79       0.004          \n",
      "198        ROI_125      0.012           ROI_61       0.004           ROI_48       0.004           ROI_18       0.003           ROI_168      0.004          \n",
      "199        ROI_45       -0.011          ROI_73       0.004           ROI_144      0.004           ROI_152      0.002           ROI_5        0.004          \n",
      "200        ROI_142      0.011           ROI_184      0.004           ROI_51       0.004           ROI_138      0.002           ROI_46       0.004          \n",
      "201        ROI_115      0.010           ROI_48       0.004           ROI_5        0.004           ROI_52       0.002           ROI_108      0.004          \n",
      "202        ROI_132      -0.008          ROI_113      0.004           ROI_147      0.004           ROI_144      0.002           ROI_115      0.004          \n",
      "203        ROI_117      0.006           ROI_192      0.004           ROI_30       0.004           ROI_83       0.002           ROI_38       0.004          \n",
      "204        ROI_137      0.005           ROI_118      0.004           ROI_142      0.004           ROI_37       0.002           ROI_15       0.004          \n",
      "205        ROI_145      -0.005          ROI_85       0.004           ROI_39       0.004           ROI_147      0.002           ROI_145      0.004          \n",
      "206        ROI_113      0.003           ROI_40       0.004           ROI_110      0.004           ROI_5        0.002           ROI_61       0.004          \n",
      "207        ROI_8        0.003           ROI_38       0.004           ROI_34       0.004           ROI_41       0.002           ROI_28       0.004          \n",
      "208        ROI_15       -0.001          ROI_41       0.004           ROI_40       0.004           ROI_192      0.002           ROI_12       0.004          \n",
      "209        ROI_31       -0.001          ROI_42       0.004           ROI_42       0.004           ROI_51       0.001           ROI_113      0.004          \n",
      "210        ROI_136      -0.000          ROI_44       0.004           ROI_31       0.004           ROI_42       0.001           ROI_6        0.004          \n"
     ]
    }
   ],
   "source": [
    "# Combine model dictionaries\n",
    "model_importances = {\n",
    "    'LR': importances_LR,\n",
    "    'TC': importances_TC,\n",
    "    'RF': importances_RF,\n",
    "    'GB': importances_GB,\n",
    "    'XG': importances_XG\n",
    "}\n",
    "\n",
    "model_positions = {\n",
    "    'LR': feature_positions_LR,\n",
    "    'TC': feature_positions_TC,\n",
    "    'RF': feature_positions_RF,\n",
    "    'GB': feature_positions_GB,\n",
    "    'XG': feature_positions_XG\n",
    "}\n",
    "\n",
    "# Call the function to print the results\n",
    "u.print_model_comparison(model_positions, model_importances)"
   ]
  },
  {
   "cell_type": "markdown",
   "id": "b38b6ead-ead3-454a-ae04-10be46610004",
   "metadata": {},
   "source": [
    " "
   ]
  },
  {
   "cell_type": "markdown",
   "id": "6b6773ce-de83-46bb-a471-f035d8f4aea4",
   "metadata": {},
   "source": [
    "##### Comparisson between Logistic Regression and Gradient Boosting best features"
   ]
  },
  {
   "cell_type": "code",
   "execution_count": 84,
   "id": "ef9f4c10-798e-4d3e-99c2-527d1cab389e",
   "metadata": {
    "scrolled": true
   },
   "outputs": [
    {
     "name": "stdout",
     "output_type": "stream",
     "text": [
      "Rank      List 1                        List 2                        Common Features               \n",
      "=====================================================================================\n",
      "1         ROI_100                       ROI_1                         ROI_104                       \n",
      "2         ROI_101                       ROI_102                       ROI_128                       \n",
      "3         ROI_105                       ROI_103                       ROI_130                       \n",
      "4         ROI_123                       ROI_115                       ROI_173                       \n",
      "5         ROI_127                       ROI_122                       ROI_181                       \n",
      "6         ROI_131                       ROI_129                       ROI_182                       \n",
      "7         ROI_140                       ROI_13                        ROI_193                       \n",
      "8         ROI_169                       ROI_14                        ROI_194                       \n",
      "9         ROI_188                       ROI_146                       ROI_196                       \n",
      "10        ROI_189                       ROI_148                       ROI_201                       \n",
      "11        ROI_19                        ROI_151                       ROI_203                       \n",
      "12        ROI_200                       ROI_158                       ROI_204                       \n",
      "13        ROI_202                       ROI_164                       ROI_206                       \n",
      "14        ROI_205                       ROI_174                       ROI_210                       \n",
      "15        ROI_207                       ROI_175                       ROI_23                        \n",
      "16        ROI_209                       ROI_179                       ROI_25                        \n",
      "17        ROI_22                        ROI_187                       ROI_68                        \n",
      "18        ROI_26                        ROI_191                       ROI_72                        \n",
      "19        ROI_35                        ROI_29                        ROI_76                        \n",
      "20        ROI_43                        ROI_3                         ROI_88                        \n",
      "21        ROI_47                        ROI_65                        ROI_94                        \n",
      "22        ROI_49                        ROI_78                                                      \n",
      "23        ROI_59                        ROI_8                                                       \n",
      "24        ROI_62                        ROI_81                                                      \n",
      "25        ROI_77                        ROI_82                                                      \n",
      "26        ROI_83                        ROI_86                                                      \n",
      "27        ROI_84                        ROI_89                                                      \n",
      "28        ROI_91                        ROI_90                                                      \n",
      "29        ROI_99                        ROI_98                                                      \n"
     ]
    }
   ],
   "source": [
    "(unique_LR_50, unique_GB_50), common_LR_GB_50 = u.compare_best_features(best_features_LR_50, best_features_GB_50)"
   ]
  },
  {
   "cell_type": "code",
   "execution_count": 85,
   "id": "769f32db-1d1a-4b4c-bb05-52df198876b6",
   "metadata": {
    "scrolled": true
   },
   "outputs": [
    {
     "name": "stdout",
     "output_type": "stream",
     "text": [
      "Rank      List 1                        List 2                        Common Features               \n",
      "=====================================================================================\n",
      "1         ROI_101                       ROI_1                         ROI_100                       \n",
      "2         ROI_123                       ROI_109                       ROI_102                       \n",
      "3         ROI_126                       ROI_112                       ROI_103                       \n",
      "4         ROI_127                       ROI_113                       ROI_104                       \n",
      "5         ROI_131                       ROI_114                       ROI_105                       \n",
      "6         ROI_138                       ROI_115                       ROI_116                       \n",
      "7         ROI_140                       ROI_118                       ROI_121                       \n",
      "8         ROI_147                       ROI_119                       ROI_124                       \n",
      "9         ROI_152                       ROI_122                       ROI_128                       \n",
      "10        ROI_154                       ROI_129                       ROI_130                       \n",
      "11        ROI_159                       ROI_13                        ROI_148                       \n",
      "12        ROI_165                       ROI_133                       ROI_151                       \n",
      "13        ROI_168                       ROI_134                       ROI_158                       \n",
      "14        ROI_169                       ROI_135                       ROI_164                       \n",
      "15        ROI_172                       ROI_137                       ROI_173                       \n",
      "16        ROI_18                        ROI_139                       ROI_174                       \n",
      "17        ROI_180                       ROI_14                        ROI_177                       \n",
      "18        ROI_189                       ROI_143                       ROI_179                       \n",
      "19        ROI_19                        ROI_146                       ROI_181                       \n",
      "20        ROI_198                       ROI_15                        ROI_182                       \n",
      "21        ROI_199                       ROI_156                       ROI_188                       \n",
      "22        ROI_200                       ROI_161                       ROI_193                       \n",
      "23        ROI_202                       ROI_162                       ROI_194                       \n",
      "24        ROI_207                       ROI_163                       ROI_196                       \n",
      "25        ROI_208                       ROI_17                        ROI_201                       \n",
      "26        ROI_209                       ROI_175                       ROI_203                       \n",
      "27        ROI_22                        ROI_184                       ROI_204                       \n",
      "28        ROI_24                        ROI_186                       ROI_205                       \n",
      "29        ROI_26                        ROI_187                       ROI_206                       \n",
      "30        ROI_33                        ROI_191                       ROI_210                       \n",
      "31        ROI_35                        ROI_2                         ROI_23                        \n",
      "32        ROI_39                        ROI_27                        ROI_25                        \n",
      "33        ROI_42                        ROI_29                        ROI_59                        \n",
      "34        ROI_43                        ROI_3                         ROI_62                        \n",
      "35        ROI_46                        ROI_30                        ROI_63                        \n",
      "36        ROI_47                        ROI_32                        ROI_65                        \n",
      "37        ROI_49                        ROI_4                         ROI_68                        \n",
      "38        ROI_50                        ROI_57                        ROI_71                        \n",
      "39        ROI_53                        ROI_7                         ROI_72                        \n",
      "40        ROI_54                        ROI_70                        ROI_74                        \n",
      "41        ROI_55                        ROI_78                        ROI_76                        \n",
      "42        ROI_61                        ROI_8                         ROI_77                        \n",
      "43        ROI_64                        ROI_80                        ROI_84                        \n",
      "44        ROI_67                        ROI_81                        ROI_88                        \n",
      "45        ROI_69                        ROI_82                        ROI_93                        \n",
      "46        ROI_73                        ROI_86                        ROI_94                        \n",
      "47        ROI_75                        ROI_89                        ROI_95                        \n",
      "48        ROI_83                        ROI_9                         ROI_96                        \n",
      "49        ROI_91                        ROI_90                        ROI_98                        \n",
      "50        ROI_97                        ROI_92                        ROI_99                        \n"
     ]
    }
   ],
   "source": [
    "(unique_LR_100, unique_GB_100), common_LR_GB_100 = u.compare_best_features(best_features_LR_100, best_features_GB_100)"
   ]
  },
  {
   "cell_type": "code",
   "execution_count": 86,
   "id": "9b75d9eb-3c20-41bf-bdf1-f7fc423a0cf1",
   "metadata": {
    "scrolled": true
   },
   "outputs": [
    {
     "name": "stdout",
     "output_type": "stream",
     "text": [
      "Rank      List 1                        List 2                        Common Features               \n",
      "=====================================================================================\n",
      "1         ROI_10                        ROI_108                       ROI_1                         \n",
      "2         ROI_11                        ROI_112                       ROI_100                       \n",
      "3         ROI_126                       ROI_113                       ROI_101                       \n",
      "4         ROI_138                       ROI_114                       ROI_102                       \n",
      "5         ROI_140                       ROI_115                       ROI_103                       \n",
      "6         ROI_144                       ROI_117                       ROI_104                       \n",
      "7         ROI_147                       ROI_118                       ROI_105                       \n",
      "8         ROI_152                       ROI_12                        ROI_109                       \n",
      "9         ROI_159                       ROI_120                       ROI_110                       \n",
      "10        ROI_16                        ROI_125                       ROI_116                       \n",
      "11        ROI_168                       ROI_129                       ROI_119                       \n",
      "12        ROI_169                       ROI_13                        ROI_121                       \n",
      "13        ROI_171                       ROI_136                       ROI_122                       \n",
      "14        ROI_178                       ROI_137                       ROI_123                       \n",
      "15        ROI_18                        ROI_143                       ROI_124                       \n",
      "16        ROI_180                       ROI_145                       ROI_127                       \n",
      "17        ROI_183                       ROI_146                       ROI_128                       \n",
      "18        ROI_185                       ROI_15                        ROI_130                       \n",
      "19        ROI_197                       ROI_156                       ROI_131                       \n",
      "20        ROI_198                       ROI_157                       ROI_133                       \n",
      "21        ROI_26                        ROI_161                       ROI_134                       \n",
      "22        ROI_33                        ROI_163                       ROI_135                       \n",
      "23        ROI_38                        ROI_184                       ROI_139                       \n",
      "24        ROI_39                        ROI_191                       ROI_14                        \n",
      "25        ROI_41                        ROI_2                         ROI_141                       \n",
      "26        ROI_42                        ROI_27                        ROI_148                       \n",
      "27        ROI_43                        ROI_3                         ROI_151                       \n",
      "28        ROI_47                        ROI_31                        ROI_154                       \n",
      "29        ROI_49                        ROI_32                        ROI_155                       \n",
      "30        ROI_5                         ROI_4                         ROI_158                       \n",
      "31        ROI_50                        ROI_45                        ROI_162                       \n",
      "32        ROI_51                        ROI_57                        ROI_164                       \n",
      "33        ROI_54                        ROI_7                         ROI_165                       \n",
      "34        ROI_55                        ROI_79                        ROI_166                       \n",
      "35        ROI_58                        ROI_8                         ROI_167                       \n",
      "36        ROI_60                        ROI_86                        ROI_17                        \n",
      "37        ROI_61                        ROI_87                        ROI_170                       \n",
      "38        ROI_69                        ROI_89                        ROI_172                       \n",
      "39        ROI_83                        ROI_9                         ROI_173                       \n",
      "40        ROI_97                        ROI_90                        ROI_174                       \n",
      "41                                                                    ROI_175                       \n",
      "42                                                                    ROI_176                       \n",
      "43                                                                    ROI_177                       \n",
      "44                                                                    ROI_179                       \n",
      "45                                                                    ROI_181                       \n",
      "46                                                                    ROI_182                       \n",
      "47                                                                    ROI_186                       \n",
      "48                                                                    ROI_187                       \n",
      "49                                                                    ROI_188                       \n",
      "50                                                                    ROI_189                       \n",
      "51                                                                    ROI_19                        \n",
      "52                                                                    ROI_190                       \n",
      "53                                                                    ROI_193                       \n",
      "54                                                                    ROI_194                       \n",
      "55                                                                    ROI_196                       \n",
      "56                                                                    ROI_199                       \n",
      "57                                                                    ROI_200                       \n",
      "58                                                                    ROI_201                       \n",
      "59                                                                    ROI_202                       \n",
      "60                                                                    ROI_203                       \n",
      "61                                                                    ROI_204                       \n",
      "62                                                                    ROI_205                       \n",
      "63                                                                    ROI_206                       \n",
      "64                                                                    ROI_207                       \n",
      "65                                                                    ROI_208                       \n",
      "66                                                                    ROI_209                       \n",
      "67                                                                    ROI_21                        \n",
      "68                                                                    ROI_210                       \n",
      "69                                                                    ROI_22                        \n",
      "70                                                                    ROI_23                        \n",
      "71                                                                    ROI_24                        \n",
      "72                                                                    ROI_25                        \n",
      "73                                                                    ROI_28                        \n",
      "74                                                                    ROI_29                        \n",
      "75                                                                    ROI_30                        \n",
      "76                                                                    ROI_34                        \n",
      "77                                                                    ROI_35                        \n",
      "78                                                                    ROI_36                        \n",
      "79                                                                    ROI_46                        \n",
      "80                                                                    ROI_53                        \n",
      "81                                                                    ROI_59                        \n",
      "82                                                                    ROI_62                        \n",
      "83                                                                    ROI_63                        \n",
      "84                                                                    ROI_64                        \n",
      "85                                                                    ROI_65                        \n",
      "86                                                                    ROI_66                        \n",
      "87                                                                    ROI_67                        \n",
      "88                                                                    ROI_68                        \n",
      "89                                                                    ROI_70                        \n",
      "90                                                                    ROI_71                        \n",
      "91                                                                    ROI_72                        \n",
      "92                                                                    ROI_73                        \n",
      "93                                                                    ROI_74                        \n",
      "94                                                                    ROI_75                        \n",
      "95                                                                    ROI_76                        \n",
      "96                                                                    ROI_77                        \n",
      "97                                                                    ROI_78                        \n",
      "98                                                                    ROI_80                        \n",
      "99                                                                    ROI_81                        \n",
      "100                                                                   ROI_82                        \n",
      "101                                                                   ROI_84                        \n",
      "102                                                                   ROI_88                        \n",
      "103                                                                   ROI_91                        \n",
      "104                                                                   ROI_92                        \n",
      "105                                                                   ROI_93                        \n",
      "106                                                                   ROI_94                        \n",
      "107                                                                   ROI_95                        \n",
      "108                                                                   ROI_96                        \n",
      "109                                                                   ROI_98                        \n",
      "110                                                                   ROI_99                        \n"
     ]
    }
   ],
   "source": [
    "(unique_LR_150, unique_GB_150), common_LR_GB_150 = u.compare_best_features(best_features_LR_150, best_features_GB_150)"
   ]
  },
  {
   "cell_type": "markdown",
   "id": "3776d61d-5532-4738-bfa7-3a9c675a940e",
   "metadata": {},
   "source": [
    " "
   ]
  },
  {
   "cell_type": "markdown",
   "id": "2a486d5f-2051-4bcd-b55b-3e745ef5eae3",
   "metadata": {},
   "source": [
    " "
   ]
  },
  {
   "cell_type": "markdown",
   "id": "025ec276-4133-4f16-b6de-ff15d2cc2be8",
   "metadata": {},
   "source": [
    "#### 3.5.2. Filter Method Comparissons"
   ]
  },
  {
   "cell_type": "code",
   "execution_count": 87,
   "id": "3a4ca0dd-f483-4252-bb36-823ffbbbda06",
   "metadata": {
    "scrolled": true
   },
   "outputs": [
    {
     "name": "stdout",
     "output_type": "stream",
     "text": [
      "                        Variance                       Mutual Information                Correlation Coefficient                 \n",
      "Rank            Feature         Score                Feature         Score                Feature         Score               \n",
      "===================================================================================================================\n",
      "1               ROI_99          0.483                ROI_180         0.019                ROI_25          -0.050              \n",
      "2               ROI_204         0.479                ROI_86          0.014                ROI_130         -0.050              \n",
      "3               ROI_201         0.475                ROI_70          0.013                ROI_128         -0.047              \n",
      "4               ROI_96          0.462                ROI_167         0.013                ROI_23          -0.047              \n",
      "5               ROI_40          0.454                ROI_35          0.013                ROI_22          -0.038              \n",
      "6               ROI_181         0.450                ROI_124         0.012                ROI_94          -0.037              \n",
      "7               ROI_202         0.442                ROI_94          0.012                ROI_35          -0.037              \n",
      "8               ROI_207         0.440                ROI_209         0.011                ROI_83          -0.036              \n",
      "9               ROI_76          0.440                ROI_191         0.011                ROI_84          -0.036              \n",
      "10              ROI_102         0.439                ROI_130         0.011                ROI_127         -0.036              \n",
      "11              ROI_203         0.437                ROI_121         0.010                ROI_140         -0.036              \n",
      "12              ROI_97          0.435                ROI_14          0.010                ROI_59          -0.035              \n",
      "13              ROI_205         0.433                ROI_15          0.010                ROI_189         -0.035              \n",
      "14              ROI_100         0.431                ROI_152         0.010                ROI_131         -0.034              \n",
      "15              ROI_44          0.428                ROI_174         0.010                ROI_19          -0.034              \n",
      "16              ROI_98          0.426                ROI_22          0.010                ROI_188         -0.033              \n",
      "17              ROI_208         0.424                ROI_92          0.010                ROI_26          -0.033              \n",
      "18              ROI_200         0.420                ROI_23          0.010                ROI_123         -0.032              \n",
      "19              ROI_42          0.419                ROI_157         0.009                ROI_18          -0.030              \n",
      "20              ROI_95          0.418                ROI_37          0.009                ROI_11          -0.029              \n",
      "21              ROI_91          0.414                ROI_77          0.009                ROI_164         -0.029              \n",
      "22              ROI_41          0.414                ROI_96          0.009                ROI_124         -0.029              \n",
      "23              ROI_129         0.414                ROI_185         0.008                ROI_194         -0.028              \n",
      "24              ROI_158         0.412                ROI_25          0.008                ROI_16          -0.028              \n",
      "25              ROI_39          0.411                ROI_64          0.008                ROI_116         -0.027              \n",
      "26              ROI_69          0.406                ROI_187         0.008                ROI_47          -0.027              \n",
      "27              ROI_38          0.405                ROI_43          0.008                ROI_14          -0.027              \n",
      "28              ROI_67          0.405                ROI_166         0.008                ROI_126         -0.027              \n",
      "29              ROI_64          0.404                ROI_60          0.008                ROI_55          -0.026              \n",
      "30              ROI_196         0.401                ROI_17          0.008                ROI_152         -0.026              \n",
      "31              ROI_103         0.398                ROI_19          0.008                ROI_24          -0.025              \n",
      "32              ROI_105         0.395                ROI_122         0.008                ROI_121         -0.025              \n",
      "33              ROI_53          0.393                ROI_54          0.007                ROI_39          -0.025              \n",
      "34              ROI_119         0.393                ROI_158         0.007                ROI_199         -0.024              \n",
      "35              ROI_14          0.391                ROI_155         0.007                ROI_144         -0.024              \n",
      "36              ROI_177         0.389                ROI_91          0.007                ROI_10          -0.024              \n",
      "37              ROI_26          0.389                ROI_72          0.007                ROI_147         -0.024              \n",
      "38              ROI_18          0.387                ROI_61          0.007                ROI_205         0.023               \n",
      "39              ROI_209         0.383                ROI_40          0.007                ROI_204         0.023               \n",
      "40              ROI_21          0.382                ROI_93          0.007                ROI_206         0.022               \n",
      "41              ROI_104         0.381                ROI_74          0.007                ROI_181         0.022               \n",
      "42              ROI_48          0.381                ROI_62          0.007                ROI_58          -0.022              \n",
      "43              ROI_173         0.380                ROI_73          0.007                ROI_173         0.022               \n",
      "44              ROI_179         0.380                ROI_189         0.006                ROI_17          -0.022              \n",
      "45              ROI_74          0.380                ROI_169         0.006                ROI_122         -0.022              \n",
      "46              ROI_37          0.380                ROI_208         0.006                ROI_201         0.022               \n",
      "47              ROI_24          0.378                ROI_82          0.006                ROI_119         -0.022              \n",
      "48              ROI_143         0.378                ROI_149         0.006                ROI_42          -0.021              \n",
      "49              ROI_149         0.378                ROI_144         0.006                ROI_21          -0.021              \n",
      "50              ROI_63          0.375                ROI_163         0.006                ROI_202         0.021               \n",
      "51              ROI_61          0.375                ROI_178         0.006                ROI_207         0.020               \n",
      "52              ROI_206         0.375                ROI_148         0.006                ROI_209         0.020               \n",
      "53              ROI_145         0.374                ROI_109         0.005                ROI_90          -0.020              \n",
      "54              ROI_50          0.374                ROI_33          0.005                ROI_208         0.020               \n",
      "55              ROI_117         0.373                ROI_24          0.005                ROI_203         0.020               \n",
      "56              ROI_159         0.372                ROI_192         0.005                ROI_97          0.020               \n",
      "57              ROI_31          0.372                ROI_132         0.005                ROI_101         0.020               \n",
      "58              ROI_167         0.372                ROI_5           0.005                ROI_96          0.020               \n",
      "59              ROI_126         0.371                ROI_67          0.005                ROI_182         0.019               \n",
      "60              ROI_85          0.371                ROI_128         0.005                ROI_190         -0.019              \n",
      "61              ROI_169         0.371                ROI_101         0.005                ROI_196         0.019               \n",
      "62              ROI_60          0.371                ROI_141         0.005                ROI_200         0.019               \n",
      "63              ROI_165         0.369                ROI_106         0.005                ROI_100         0.019               \n",
      "64              ROI_68          0.369                ROI_6           0.004                ROI_99          0.019               \n",
      "65              ROI_72          0.368                ROI_57          0.004                ROI_158         0.018               \n",
      "66              ROI_22          0.366                ROI_146         0.004                ROI_160         -0.018              \n",
      "67              ROI_77          0.364                ROI_75          0.004                ROI_177         0.018               \n",
      "68              ROI_178         0.363                ROI_204         0.004                ROI_95          0.018               \n",
      "69              ROI_66          0.360                ROI_100         0.004                ROI_102         0.018               \n",
      "70              ROI_84          0.360                ROI_98          0.004                ROI_148         0.018               \n",
      "71              ROI_182         0.360                ROI_63          0.004                ROI_76          0.018               \n",
      "72              ROI_51          0.359                ROI_78          0.004                ROI_154         0.017               \n",
      "73              ROI_171         0.358                ROI_196         0.004                ROI_85          -0.017              \n",
      "74              ROI_83          0.356                ROI_99          0.004                ROI_87          -0.017              \n",
      "75              ROI_151         0.356                ROI_140         0.004                ROI_210         0.017               \n",
      "76              ROI_176         0.356                ROI_181         0.003                ROI_129         -0.017              \n",
      "77              ROI_54          0.355                ROI_179         0.003                ROI_98          0.017               \n",
      "78              ROI_114         0.352                ROI_156         0.003                ROI_104         0.017               \n",
      "79              ROI_168         0.352                ROI_115         0.003                ROI_77          0.017               \n",
      "80              ROI_81          0.351                ROI_16          0.003                ROI_91          0.016               \n",
      "81              ROI_137         0.351                ROI_127         0.003                ROI_150         -0.016              \n",
      "82              ROI_46          0.350                ROI_162         0.003                ROI_153         -0.016              \n",
      "83              ROI_120         0.349                ROI_47          0.003                ROI_192         -0.016              \n",
      "84              ROI_118         0.349                ROI_210         0.003                ROI_68          0.016               \n",
      "85              ROI_162         0.348                ROI_182         0.003                ROI_103         0.016               \n",
      "86              ROI_19          0.348                ROI_20          0.003                ROI_53          0.016               \n",
      "87              ROI_57          0.347                ROI_29          0.003                ROI_88          0.016               \n",
      "88              ROI_101         0.347                ROI_110         0.003                ROI_193         0.016               \n",
      "89              ROI_75          0.346                ROI_95          0.003                ROI_52          -0.016              \n",
      "90              ROI_146         0.345                ROI_13          0.003                ROI_8           -0.016              \n",
      "91              ROI_79          0.345                ROI_104         0.002                ROI_163         -0.015              \n",
      "92              ROI_154         0.345                ROI_49          0.002                ROI_151         0.015               \n",
      "93              ROI_43          0.343                ROI_103         0.002                ROI_166         0.015               \n",
      "94              ROI_113         0.343                ROI_190         0.002                ROI_49          0.015               \n",
      "95              ROI_148         0.342                ROI_36          0.002                ROI_46          0.015               \n",
      "96              ROI_142         0.342                ROI_123         0.002                ROI_167         0.014               \n",
      "97              ROI_136         0.341                ROI_198         0.002                ROI_62          0.014               \n",
      "98              ROI_210         0.341                ROI_80          0.002                ROI_157         -0.014              \n",
      "99              ROI_49          0.340                ROI_116         0.002                ROI_72          0.014               \n",
      "100             ROI_186         0.339                ROI_59          0.001                ROI_195         -0.014              \n",
      "101             ROI_180         0.339                ROI_79          0.001                ROI_7           -0.014              \n",
      "102             ROI_30          0.337                ROI_88          0.001                ROI_159         0.014               \n",
      "103             ROI_4           0.337                ROI_171         0.001                ROI_43          0.014               \n",
      "104             ROI_34          0.336                ROI_173         0.001                ROI_20          -0.014              \n",
      "105             ROI_127         0.335                ROI_154         0.001                ROI_54          0.013               \n",
      "106             ROI_107         0.335                ROI_139         0.001                ROI_40          -0.013              \n",
      "107             ROI_23          0.333                ROI_66          0.001                ROI_155         0.013               \n",
      "108             ROI_36          0.333                ROI_56          0.000                ROI_105         0.012               \n",
      "109             ROI_94          0.332                ROI_194         0.000                ROI_61          0.012               \n",
      "110             ROI_45          0.332                ROI_89          0.000                ROI_165         0.012               \n",
      "111             ROI_62          0.332                ROI_76          0.000                ROI_125         -0.012              \n",
      "112             ROI_71          0.332                ROI_176         0.000                ROI_169         0.011               \n",
      "113             ROI_47          0.332                ROI_7           0.000                ROI_50          0.011               \n",
      "114             ROI_155         0.331                ROI_205         0.000                ROI_179         0.011               \n",
      "115             ROI_131         0.331                ROI_159         0.000                ROI_15          -0.011              \n",
      "116             ROI_33          0.329                ROI_1           0.000                ROI_120         -0.011              \n",
      "117             ROI_65          0.327                ROI_2           0.000                ROI_138         0.011               \n",
      "118             ROI_170         0.327                ROI_3           0.000                ROI_174         0.011               \n",
      "119             ROI_141         0.327                ROI_4           0.000                ROI_3           -0.010              \n",
      "120             ROI_166         0.326                ROI_8           0.000                ROI_75          0.010               \n",
      "121             ROI_139         0.326                ROI_9           0.000                ROI_142         -0.010              \n",
      "122             ROI_20          0.326                ROI_10          0.000                ROI_33          0.010               \n",
      "123             ROI_87          0.326                ROI_11          0.000                ROI_180         0.010               \n",
      "124             ROI_174         0.325                ROI_12          0.000                ROI_71          0.010               \n",
      "125             ROI_184         0.325                ROI_18          0.000                ROI_112         -0.010              \n",
      "126             ROI_109         0.324                ROI_21          0.000                ROI_74          0.010               \n",
      "127             ROI_80          0.324                ROI_26          0.000                ROI_115         -0.010              \n",
      "128             ROI_132         0.323                ROI_27          0.000                ROI_176         0.009               \n",
      "129             ROI_29          0.322                ROI_28          0.000                ROI_48          -0.009              \n",
      "130             ROI_56          0.322                ROI_30          0.000                ROI_93          0.009               \n",
      "131             ROI_121         0.322                ROI_31          0.000                ROI_198         0.009               \n",
      "132             ROI_73          0.322                ROI_32          0.000                ROI_65          0.009               \n",
      "133             ROI_172         0.321                ROI_34          0.000                ROI_60          0.009               \n",
      "134             ROI_35          0.321                ROI_38          0.000                ROI_89          -0.009              \n",
      "135             ROI_5           0.321                ROI_39          0.000                ROI_66          0.009               \n",
      "136             ROI_123         0.320                ROI_41          0.000                ROI_175         0.008               \n",
      "137             ROI_130         0.320                ROI_42          0.000                ROI_73          0.008               \n",
      "138             ROI_161         0.319                ROI_44          0.000                ROI_113         -0.008              \n",
      "139             ROI_70          0.319                ROI_45          0.000                ROI_36          0.008               \n",
      "140             ROI_153         0.317                ROI_46          0.000                ROI_63          0.008               \n",
      "141             ROI_10          0.317                ROI_48          0.000                ROI_64          0.008               \n",
      "142             ROI_144         0.317                ROI_50          0.000                ROI_38          0.008               \n",
      "143             ROI_25          0.316                ROI_51          0.000                ROI_67          0.008               \n",
      "144             ROI_88          0.315                ROI_52          0.000                ROI_12          -0.008              \n",
      "145             ROI_110         0.315                ROI_53          0.000                ROI_69          0.008               \n",
      "146             ROI_128         0.313                ROI_55          0.000                ROI_56          -0.008              \n",
      "147             ROI_78          0.313                ROI_58          0.000                ROI_185         0.008               \n",
      "148             ROI_138         0.312                ROI_65          0.000                ROI_117         -0.008              \n",
      "149             ROI_189         0.312                ROI_68          0.000                ROI_186         0.008               \n",
      "150             ROI_135         0.312                ROI_69          0.000                ROI_81          0.008               \n",
      "151             ROI_190         0.311                ROI_71          0.000                ROI_136         -0.008              \n",
      "152             ROI_156         0.311                ROI_81          0.000                ROI_168         0.007               \n",
      "153             ROI_86          0.311                ROI_83          0.000                ROI_137         -0.007              \n",
      "154             ROI_93          0.309                ROI_84          0.000                ROI_141         0.007               \n",
      "155             ROI_198         0.309                ROI_85          0.000                ROI_41          0.007               \n",
      "156             ROI_52          0.307                ROI_87          0.000                ROI_172         0.007               \n",
      "157             ROI_28          0.307                ROI_90          0.000                ROI_51          0.007               \n",
      "158             ROI_125         0.306                ROI_97          0.000                ROI_139         0.007               \n",
      "159             ROI_16          0.305                ROI_102         0.000                ROI_170         0.007               \n",
      "160             ROI_116         0.304                ROI_105         0.000                ROI_135         0.007               \n",
      "161             ROI_147         0.304                ROI_107         0.000                ROI_134         0.007               \n",
      "162             ROI_8           0.303                ROI_108         0.000                ROI_31          -0.007              \n",
      "163             ROI_11          0.302                ROI_111         0.000                ROI_6           -0.007              \n",
      "164             ROI_192         0.302                ROI_112         0.000                ROI_171         0.007               \n",
      "165             ROI_124         0.302                ROI_113         0.000                ROI_70          0.006               \n",
      "166             ROI_188         0.302                ROI_114         0.000                ROI_34          0.006               \n",
      "167             ROI_193         0.298                ROI_117         0.000                ROI_110         0.006               \n",
      "168             ROI_13          0.298                ROI_118         0.000                ROI_178         0.006               \n",
      "169             ROI_27          0.298                ROI_119         0.000                ROI_191         -0.006              \n",
      "170             ROI_133         0.298                ROI_120         0.000                ROI_109         0.006               \n",
      "171             ROI_17          0.297                ROI_125         0.000                ROI_111         -0.006              \n",
      "172             ROI_82          0.295                ROI_126         0.000                ROI_146         0.006               \n",
      "173             ROI_187         0.294                ROI_129         0.000                ROI_29          0.006               \n",
      "174             ROI_2           0.291                ROI_131         0.000                ROI_133         0.005               \n",
      "175             ROI_58          0.291                ROI_133         0.000                ROI_9           -0.005              \n",
      "176             ROI_163         0.290                ROI_134         0.000                ROI_86          -0.005              \n",
      "177             ROI_157         0.290                ROI_135         0.000                ROI_145         -0.005              \n",
      "178             ROI_150         0.286                ROI_136         0.000                ROI_32          -0.005              \n",
      "179             ROI_7           0.286                ROI_137         0.000                ROI_108         -0.005              \n",
      "180             ROI_106         0.286                ROI_138         0.000                ROI_156         0.005               \n",
      "181             ROI_183         0.285                ROI_142         0.000                ROI_118         0.005               \n",
      "182             ROI_175         0.285                ROI_143         0.000                ROI_183         0.005               \n",
      "183             ROI_122         0.284                ROI_145         0.000                ROI_187         0.005               \n",
      "184             ROI_191         0.283                ROI_147         0.000                ROI_80          0.005               \n",
      "185             ROI_112         0.283                ROI_150         0.000                ROI_2           -0.005              \n",
      "186             ROI_134         0.282                ROI_151         0.000                ROI_162         0.005               \n",
      "187             ROI_115         0.282                ROI_153         0.000                ROI_5           0.005               \n",
      "188             ROI_55          0.281                ROI_160         0.000                ROI_106         0.004               \n",
      "189             ROI_199         0.281                ROI_161         0.000                ROI_1           0.004               \n",
      "190             ROI_59          0.277                ROI_164         0.000                ROI_132         -0.004              \n",
      "191             ROI_160         0.277                ROI_165         0.000                ROI_184         -0.004              \n",
      "192             ROI_12          0.275                ROI_168         0.000                ROI_30          0.004               \n",
      "193             ROI_140         0.275                ROI_170         0.000                ROI_27          -0.004              \n",
      "194             ROI_32          0.273                ROI_172         0.000                ROI_161         -0.003              \n",
      "195             ROI_1           0.272                ROI_175         0.000                ROI_107         -0.003              \n",
      "196             ROI_15          0.272                ROI_177         0.000                ROI_143         0.003               \n",
      "197             ROI_152         0.270                ROI_183         0.000                ROI_57          0.003               \n",
      "198             ROI_9           0.268                ROI_184         0.000                ROI_4           0.002               \n",
      "199             ROI_6           0.267                ROI_186         0.000                ROI_82          0.002               \n",
      "200             ROI_197         0.266                ROI_188         0.000                ROI_197         0.002               \n",
      "201             ROI_164         0.265                ROI_193         0.000                ROI_37          -0.002              \n",
      "202             ROI_108         0.261                ROI_195         0.000                ROI_28          0.002               \n",
      "203             ROI_89          0.258                ROI_197         0.000                ROI_44          0.002               \n",
      "204             ROI_92          0.257                ROI_199         0.000                ROI_149         -0.001              \n",
      "205             ROI_185         0.257                ROI_200         0.000                ROI_79          0.001               \n",
      "206             ROI_3           0.255                ROI_201         0.000                ROI_45          -0.001              \n",
      "207             ROI_194         0.255                ROI_202         0.000                ROI_92          0.001               \n",
      "208             ROI_111         0.238                ROI_203         0.000                ROI_114         -0.001              \n",
      "209             ROI_195         0.215                ROI_206         0.000                ROI_78          0.000               \n",
      "210             ROI_90          0.198                ROI_207         0.000                ROI_13          0.000               \n"
     ]
    }
   ],
   "source": [
    "# Combine filter dictionaries\n",
    "filter_importances = {\n",
    "    'v': importances_v,\n",
    "    'mi': importances_mi,\n",
    "    'cc': importances_cc\n",
    "}\n",
    "\n",
    "filter_positions = {\n",
    "    'v': feature_positions_v,\n",
    "    'mi': feature_positions_mi,\n",
    "    'cc': feature_positions_cc\n",
    "}\n",
    "\n",
    "# Call the function to print the results\n",
    "u.print_filter_comparison(filter_positions, filter_importances)"
   ]
  },
  {
   "cell_type": "markdown",
   "id": "3348ca6f-31b1-4542-84cd-8d5b5a7d667f",
   "metadata": {},
   "source": [
    " "
   ]
  },
  {
   "cell_type": "markdown",
   "id": "95010560-74ff-44d0-91dd-6a994e7df50c",
   "metadata": {},
   "source": [
    "##### Comparisson between Spearman's Rank Correlation with respect p_value and best results"
   ]
  },
  {
   "cell_type": "code",
   "execution_count": 88,
   "id": "b03357d1-b879-4a8e-9642-824bd1f6df63",
   "metadata": {
    "scrolled": true
   },
   "outputs": [
    {
     "name": "stdout",
     "output_type": "stream",
     "text": [
      "Rank      List 1                        List 2                        Common Features               \n",
      "=====================================================================================\n",
      "1                                                                     ROI_10                        \n",
      "2                                                                     ROI_100                       \n",
      "3                                                                     ROI_101                       \n",
      "4                                                                     ROI_102                       \n",
      "5                                                                     ROI_103                       \n",
      "6                                                                     ROI_104                       \n",
      "7                                                                     ROI_105                       \n",
      "8                                                                     ROI_11                        \n",
      "9                                                                     ROI_116                       \n",
      "10                                                                    ROI_119                       \n",
      "11                                                                    ROI_121                       \n",
      "12                                                                    ROI_122                       \n",
      "13                                                                    ROI_123                       \n",
      "14                                                                    ROI_124                       \n",
      "15                                                                    ROI_126                       \n",
      "16                                                                    ROI_127                       \n",
      "17                                                                    ROI_128                       \n",
      "18                                                                    ROI_130                       \n",
      "19                                                                    ROI_131                       \n",
      "20                                                                    ROI_138                       \n",
      "21                                                                    ROI_14                        \n",
      "22                                                                    ROI_140                       \n",
      "23                                                                    ROI_144                       \n",
      "24                                                                    ROI_147                       \n",
      "25                                                                    ROI_148                       \n",
      "26                                                                    ROI_151                       \n",
      "27                                                                    ROI_152                       \n",
      "28                                                                    ROI_154                       \n",
      "29                                                                    ROI_155                       \n",
      "30                                                                    ROI_158                       \n",
      "31                                                                    ROI_159                       \n",
      "32                                                                    ROI_16                        \n",
      "33                                                                    ROI_160                       \n",
      "34                                                                    ROI_164                       \n",
      "35                                                                    ROI_165                       \n",
      "36                                                                    ROI_166                       \n",
      "37                                                                    ROI_167                       \n",
      "38                                                                    ROI_169                       \n",
      "39                                                                    ROI_17                        \n",
      "40                                                                    ROI_173                       \n",
      "41                                                                    ROI_174                       \n",
      "42                                                                    ROI_177                       \n",
      "43                                                                    ROI_179                       \n",
      "44                                                                    ROI_18                        \n",
      "45                                                                    ROI_180                       \n",
      "46                                                                    ROI_181                       \n",
      "47                                                                    ROI_182                       \n",
      "48                                                                    ROI_188                       \n",
      "49                                                                    ROI_189                       \n",
      "50                                                                    ROI_19                        \n",
      "51                                                                    ROI_190                       \n",
      "52                                                                    ROI_193                       \n",
      "53                                                                    ROI_194                       \n",
      "54                                                                    ROI_196                       \n",
      "55                                                                    ROI_199                       \n",
      "56                                                                    ROI_200                       \n",
      "57                                                                    ROI_201                       \n",
      "58                                                                    ROI_202                       \n",
      "59                                                                    ROI_203                       \n",
      "60                                                                    ROI_204                       \n",
      "61                                                                    ROI_205                       \n",
      "62                                                                    ROI_206                       \n",
      "63                                                                    ROI_207                       \n",
      "64                                                                    ROI_208                       \n",
      "65                                                                    ROI_209                       \n",
      "66                                                                    ROI_21                        \n",
      "67                                                                    ROI_210                       \n",
      "68                                                                    ROI_22                        \n",
      "69                                                                    ROI_23                        \n",
      "70                                                                    ROI_24                        \n",
      "71                                                                    ROI_25                        \n",
      "72                                                                    ROI_26                        \n",
      "73                                                                    ROI_33                        \n",
      "74                                                                    ROI_35                        \n",
      "75                                                                    ROI_39                        \n",
      "76                                                                    ROI_42                        \n",
      "77                                                                    ROI_43                        \n",
      "78                                                                    ROI_46                        \n",
      "79                                                                    ROI_47                        \n",
      "80                                                                    ROI_49                        \n",
      "81                                                                    ROI_50                        \n",
      "82                                                                    ROI_53                        \n",
      "83                                                                    ROI_54                        \n",
      "84                                                                    ROI_55                        \n",
      "85                                                                    ROI_58                        \n",
      "86                                                                    ROI_59                        \n",
      "87                                                                    ROI_60                        \n",
      "88                                                                    ROI_61                        \n",
      "89                                                                    ROI_62                        \n",
      "90                                                                    ROI_68                        \n",
      "91                                                                    ROI_72                        \n",
      "92                                                                    ROI_74                        \n",
      "93                                                                    ROI_75                        \n",
      "94                                                                    ROI_76                        \n",
      "95                                                                    ROI_77                        \n",
      "96                                                                    ROI_83                        \n",
      "97                                                                    ROI_84                        \n",
      "98                                                                    ROI_88                        \n",
      "99                                                                    ROI_91                        \n",
      "100                                                                   ROI_94                        \n",
      "101                                                                   ROI_95                        \n",
      "102                                                                   ROI_96                        \n",
      "103                                                                   ROI_97                        \n",
      "104                                                                   ROI_98                        \n",
      "105                                                                   ROI_99                        \n"
     ]
    }
   ],
   "source": [
    "(unique_scc_pval, unique_scc), common_LR_GB_50 = u.compare_best_features(list(correlation_results_pval.keys()), \n",
    "                                                                        list(importances_scc.keys())[:len(list(correlation_results_pval.keys()))]\n",
    "                                                                                  )"
   ]
  },
  {
   "cell_type": "markdown",
   "id": "da4d279b-2619-49da-933d-7162223ec9c8",
   "metadata": {},
   "source": [
    "##### Comparisson between Spearman's Rank Correlation and Pearson's Correlation Coefficient best features"
   ]
  },
  {
   "cell_type": "code",
   "execution_count": 89,
   "id": "1d94c710-5fde-4458-b0be-93c303213cdf",
   "metadata": {},
   "outputs": [
    {
     "name": "stdout",
     "output_type": "stream",
     "text": [
      "Rank      List 1                        List 2                        Common Features               \n",
      "=====================================================================================\n",
      "1         ROI_100                       ROI_10                        ROI_11                        \n",
      "2         ROI_101                       ROI_116                       ROI_123                       \n",
      "3         ROI_104                       ROI_119                       ROI_124                       \n",
      "4         ROI_154                       ROI_121                       ROI_127                       \n",
      "5         ROI_158                       ROI_122                       ROI_128                       \n",
      "6         ROI_182                       ROI_126                       ROI_130                       \n",
      "7         ROI_196                       ROI_144                       ROI_131                       \n",
      "8         ROI_200                       ROI_147                       ROI_14                        \n",
      "9         ROI_203                       ROI_152                       ROI_140                       \n",
      "10        ROI_208                       ROI_17                        ROI_16                        \n",
      "11        ROI_210                       ROI_199                       ROI_164                       \n",
      "12        ROI_53                        ROI_21                        ROI_173                       \n",
      "13        ROI_76                        ROI_24                        ROI_18                        \n",
      "14        ROI_95                        ROI_39                        ROI_181                       \n",
      "15        ROI_96                        ROI_42                        ROI_188                       \n",
      "16        ROI_97                        ROI_58                        ROI_189                       \n",
      "17        ROI_99                        ROI_90                        ROI_19                        \n",
      "18                                                                    ROI_194                       \n",
      "19                                                                    ROI_201                       \n",
      "20                                                                    ROI_202                       \n",
      "21                                                                    ROI_204                       \n",
      "22                                                                    ROI_205                       \n",
      "23                                                                    ROI_206                       \n",
      "24                                                                    ROI_207                       \n",
      "25                                                                    ROI_209                       \n",
      "26                                                                    ROI_22                        \n",
      "27                                                                    ROI_23                        \n",
      "28                                                                    ROI_25                        \n",
      "29                                                                    ROI_26                        \n",
      "30                                                                    ROI_35                        \n",
      "31                                                                    ROI_47                        \n",
      "32                                                                    ROI_55                        \n",
      "33                                                                    ROI_59                        \n",
      "34                                                                    ROI_83                        \n",
      "35                                                                    ROI_84                        \n",
      "36                                                                    ROI_94                        \n"
     ]
    }
   ],
   "source": [
    "(unique_scc, unique_ccc), common_LR_GB_50 = u.compare_best_features(list(importances_scc.keys())[:len(best_features_cc)], \n",
    "                                                                                   best_features_cc\n",
    "                                                                                  )"
   ]
  },
  {
   "cell_type": "markdown",
   "id": "e07b67d7-6acb-4a52-aa28-dca5552be2ca",
   "metadata": {},
   "source": [
    " "
   ]
  },
  {
   "cell_type": "markdown",
   "id": "609d1ed4-3f68-4187-bada-d089dd61b7cb",
   "metadata": {},
   "source": [
    "##### Comparisson between Mutual Information and Spearman's Rank Correlation best features"
   ]
  },
  {
   "cell_type": "code",
   "execution_count": 90,
   "id": "14027009-637e-4252-8b44-dbfed6f7abeb",
   "metadata": {},
   "outputs": [
    {
     "name": "stdout",
     "output_type": "stream",
     "text": [
      "Rank      List 1                        List 2                        Common Features               \n",
      "=====================================================================================\n",
      "1         ROI_109                       ROI_100                       ROI_124                       \n",
      "2         ROI_121                       ROI_101                       ROI_130                       \n",
      "3         ROI_122                       ROI_104                       ROI_14                        \n",
      "4         ROI_144                       ROI_11                        ROI_158                       \n",
      "5         ROI_148                       ROI_123                       ROI_189                       \n",
      "6         ROI_149                       ROI_127                       ROI_19                        \n",
      "7         ROI_15                        ROI_128                       ROI_208                       \n",
      "8         ROI_152                       ROI_131                       ROI_209                       \n",
      "9         ROI_155                       ROI_140                       ROI_22                        \n",
      "10        ROI_157                       ROI_154                       ROI_23                        \n",
      "11        ROI_163                       ROI_16                        ROI_25                        \n",
      "12        ROI_166                       ROI_164                       ROI_35                        \n",
      "13        ROI_167                       ROI_173                       ROI_94                        \n",
      "14        ROI_169                       ROI_18                        ROI_96                        \n",
      "15        ROI_17                        ROI_181                                                     \n",
      "16        ROI_174                       ROI_182                                                     \n",
      "17        ROI_178                       ROI_188                                                     \n",
      "18        ROI_180                       ROI_194                                                     \n",
      "19        ROI_185                       ROI_196                                                     \n",
      "20        ROI_187                       ROI_200                                                     \n",
      "21        ROI_191                       ROI_201                                                     \n",
      "22        ROI_37                        ROI_202                                                     \n",
      "23        ROI_40                        ROI_203                                                     \n",
      "24        ROI_43                        ROI_204                                                     \n",
      "25        ROI_54                        ROI_205                                                     \n",
      "26        ROI_60                        ROI_206                                                     \n",
      "27        ROI_61                        ROI_207                                                     \n",
      "28        ROI_62                        ROI_210                                                     \n",
      "29        ROI_64                        ROI_26                                                      \n",
      "30        ROI_70                        ROI_47                                                      \n",
      "31        ROI_72                        ROI_53                                                      \n",
      "32        ROI_73                        ROI_55                                                      \n",
      "33        ROI_74                        ROI_59                                                      \n",
      "34        ROI_77                        ROI_76                                                      \n",
      "35        ROI_82                        ROI_83                                                      \n",
      "36        ROI_86                        ROI_84                                                      \n",
      "37        ROI_91                        ROI_95                                                      \n",
      "38        ROI_92                        ROI_97                                                      \n",
      "39        ROI_93                        ROI_99                                                      \n"
     ]
    }
   ],
   "source": [
    "(unique_mi, unique_scc), common_mi_cc = u.compare_best_features(best_features_mi, list(importances_scc.keys())[:len(best_features_mi)])"
   ]
  },
  {
   "cell_type": "markdown",
   "id": "82b12857-e097-46eb-86e0-9c2fcbb73d3e",
   "metadata": {},
   "source": [
    " "
   ]
  },
  {
   "cell_type": "markdown",
   "id": "70893281-299f-4c85-b49e-e0f9527e2247",
   "metadata": {},
   "source": [
    "##### Comparisson between Mutual Information and Pearson's Correlation Coefficient best features"
   ]
  },
  {
   "cell_type": "code",
   "execution_count": 91,
   "id": "0d3893fc-af31-4899-8cad-4778fd56b2d3",
   "metadata": {},
   "outputs": [
    {
     "name": "stdout",
     "output_type": "stream",
     "text": [
      "Rank      List 1                        List 2                        Common Features               \n",
      "=====================================================================================\n",
      "1         ROI_109                       ROI_10                        ROI_121                       \n",
      "2         ROI_148                       ROI_11                        ROI_122                       \n",
      "3         ROI_149                       ROI_116                       ROI_124                       \n",
      "4         ROI_15                        ROI_119                       ROI_130                       \n",
      "5         ROI_155                       ROI_123                       ROI_14                        \n",
      "6         ROI_157                       ROI_126                       ROI_144                       \n",
      "7         ROI_158                       ROI_127                       ROI_152                       \n",
      "8         ROI_163                       ROI_128                       ROI_17                        \n",
      "9         ROI_166                       ROI_131                       ROI_189                       \n",
      "10        ROI_167                       ROI_140                       ROI_19                        \n",
      "11        ROI_169                       ROI_147                       ROI_209                       \n",
      "12        ROI_174                       ROI_16                        ROI_22                        \n",
      "13        ROI_178                       ROI_164                       ROI_23                        \n",
      "14        ROI_180                       ROI_173                       ROI_25                        \n",
      "15        ROI_185                       ROI_18                        ROI_35                        \n",
      "16        ROI_187                       ROI_181                       ROI_94                        \n",
      "17        ROI_191                       ROI_188                                                     \n",
      "18        ROI_208                       ROI_194                                                     \n",
      "19        ROI_37                        ROI_199                                                     \n",
      "20        ROI_40                        ROI_201                                                     \n",
      "21        ROI_43                        ROI_202                                                     \n",
      "22        ROI_54                        ROI_204                                                     \n",
      "23        ROI_60                        ROI_205                                                     \n",
      "24        ROI_61                        ROI_206                                                     \n",
      "25        ROI_62                        ROI_207                                                     \n",
      "26        ROI_64                        ROI_21                                                      \n",
      "27        ROI_70                        ROI_24                                                      \n",
      "28        ROI_72                        ROI_26                                                      \n",
      "29        ROI_73                        ROI_39                                                      \n",
      "30        ROI_74                        ROI_42                                                      \n",
      "31        ROI_77                        ROI_47                                                      \n",
      "32        ROI_82                        ROI_55                                                      \n",
      "33        ROI_86                        ROI_58                                                      \n",
      "34        ROI_91                        ROI_59                                                      \n",
      "35        ROI_92                        ROI_83                                                      \n",
      "36        ROI_93                        ROI_84                                                      \n",
      "37        ROI_96                        ROI_90                                                      \n"
     ]
    }
   ],
   "source": [
    "(unique_mi, unique_cc), common_mi_cc = u.compare_best_features(best_features_mi, best_features_cc)"
   ]
  },
  {
   "cell_type": "markdown",
   "id": "4251b47d-f8c9-487a-9e43-bdeef8ccb949",
   "metadata": {},
   "source": [
    " "
   ]
  },
  {
   "cell_type": "markdown",
   "id": "8f279e6f-bf0e-4e34-8563-88ffcd6fe831",
   "metadata": {},
   "source": [
    " "
   ]
  },
  {
   "cell_type": "markdown",
   "id": "18d1479e-9e1c-4d69-bc44-8ad8531349ab",
   "metadata": {},
   "source": [
    "#### 3.5.3. Correlation Groups with respect Model Importance Comparisons (Method I)"
   ]
  },
  {
   "cell_type": "code",
   "execution_count": 92,
   "id": "dda7c987-46ec-4167-92a1-616fec6a2a16",
   "metadata": {},
   "outputs": [
    {
     "name": "stdout",
     "output_type": "stream",
     "text": [
      "               LR                      GB                      TC                     RF                       XG                      VE                            \n",
      "Group  Feature    Score        Feature    Score        Feature    Score        Feature    Score        Feature    Score        Feature    Score       \n",
      "======================================================================================================================================================\n",
      "1      ROI_2      -0.019       ROI_1      0.007        ROI_92     0.005        ROI_92     0.005        ROI_110    0.005        ROI_92     0.003       \n",
      "2      ROI_3      -0.012       ROI_3      0.006        ROI_111    0.005        ROI_111    0.005        ROI_111    0.005        ROI_3      0.002       \n",
      "3      ROI_23     0.145        ROI_94     0.010        ROI_23     0.005        ROI_94     0.005        ROI_94     0.005        ROI_23     0.106       \n",
      "4      ROI_8      0.003        ROI_8      0.006        ROI_8      0.005        ROI_8      0.005        ROI_8      0.005        ROI_8      0.003       \n",
      "5      ROI_12     -0.018       ROI_9      0.005        ROI_12     0.005        ROI_12     0.005        ROI_9      0.004        ROI_9      0.001       \n",
      "6      ROI_35     0.114        ROI_59     0.006        ROI_59     0.005        ROI_59     0.005        ROI_22     0.005        ROI_35     0.068       \n",
      "7      ROI_18     0.077        ROI_18     0.003        ROI_18     0.005        ROI_18     0.005        ROI_18     0.004        ROI_18     0.013       \n",
      "8      ROI_25     0.174        ROI_25     0.019        ROI_25     0.005        ROI_25     0.006        ROI_25     0.006        ROI_25     0.355       \n",
      "9      ROI_32     -0.020       ROI_78     0.006        ROI_32     0.005        ROI_78     0.005        ROI_32     0.005        ROI_78     0.002       \n",
      "10     ROI_29     -0.049       ROI_29     0.007        ROI_179    0.005        ROI_29     0.005        ROI_74     0.005        ROI_180    0.036       \n",
      "11     ROI_40     0.032        ROI_86     0.006        ROI_86     0.005        ROI_79     0.005        ROI_48     0.005        ROI_40     0.077       \n",
      "12     ROI_45     -0.011       ROI_62     0.005        ROI_54     0.005        ROI_101    0.005        ROI_45     0.005        ROI_61     0.005       \n",
      "13     ROI_43     -0.079       ROI_43     0.004        ROI_43     0.005        ROI_43     0.005        ROI_43     0.004        ROI_43     -0.001      \n",
      "14     ROI_52     0.039        ROI_52     0.002        ROI_52     0.005        ROI_52     0.005        ROI_52     0.005        ROI_52     0.003       \n",
      "15     ROI_159    -0.063       ROI_196    0.011        ROI_196    0.005        ROI_196    0.005        ROI_196    0.006        ROI_99     0.235       \n",
      "16     ROI_63     -0.069       ROI_63     0.005        ROI_169    0.005        ROI_105    0.005        ROI_63     0.005        ROI_69     0.012       \n",
      "17     ROI_72     -0.085       ROI_72     0.008        ROI_72     0.005        ROI_68     0.005        ROI_72     0.005        ROI_72     0.000       \n",
      "18     ROI_80     -0.052       ROI_80     0.005        ROI_70     0.005        ROI_80     0.005        ROI_70     0.005        ROI_70     0.014       \n",
      "19     ROI_73     -0.066       ROI_73     0.004        ROI_73     0.004        ROI_73     0.005        ROI_73     0.005        ROI_73     0.001       \n",
      "20     ROI_104    -0.084       ROI_88     0.014        ROI_88     0.005        ROI_88     0.006        ROI_88     0.005        ROI_181    0.045       \n",
      "21     ROI_89     -0.012       ROI_89     0.008        ROI_89     0.005        ROI_89     0.005        ROI_89     0.005        ROI_89     0.007       \n",
      "22     ROI_90     0.030        ROI_90     0.006        ROI_90     0.005        ROI_90     0.005        ROI_195    0.005        ROI_90     0.003       \n",
      "23     ROI_117    0.006        ROI_113    0.005        ROI_107    0.005        ROI_107    0.005        ROI_107    0.005        ROI_117    0.007       \n",
      "24     ROI_119    0.060        ROI_115    0.006        ROI_119    0.005        ROI_112    0.005        ROI_112    0.005        ROI_119    0.013       \n",
      "25     ROI_114    -0.021       ROI_114    0.005        ROI_183    0.005        ROI_183    0.005        ROI_118    0.005        ROI_114    0.005       \n",
      "26     ROI_128    0.147        ROI_128    0.009        ROI_128    0.005        ROI_128    0.005        ROI_189    0.006        ROI_128    0.135       \n",
      "27     ROI_120    0.015        ROI_137    0.005        ROI_125    0.005        ROI_137    0.005        ROI_125    0.005        ROI_137    0.005       \n",
      "28     ROI_130    0.152        ROI_130    0.022        ROI_130    0.006        ROI_130    0.006        ROI_130    0.006        ROI_130    0.256       \n",
      "29     ROI_133    -0.046       ROI_134    0.004        ROI_185    0.005        ROI_185    0.005        ROI_133    0.005        ROI_185    0.001       \n",
      "30     ROI_153    0.040        ROI_191    0.006        ROI_191    0.005        ROI_141    0.005        ROI_191    0.006        ROI_191    0.009       \n",
      "31     ROI_160    0.037        ROI_187    0.006        ROI_160    0.005        ROI_187    0.005        ROI_150    0.005        ROI_157    0.005       \n",
      "32     ROI_155    -0.056       ROI_206    0.009        ROI_151    0.005        ROI_148    0.005        ROI_155    0.005        ROI_206    0.007       \n",
      "33     ROI_178    -0.046       ROI_177    0.005        ROI_176    0.005        ROI_177    0.005        ROI_178    0.005        ROI_167    0.016       \n",
      "34     ROI_170    -0.059       ROI_170    0.004        ROI_172    0.005        ROI_172    0.005        ROI_170    0.005        ROI_170    0.001       \n",
      "35     ROI_205    -0.078       ROI_173    0.006        ROI_205    0.005        ROI_173    0.005        ROI_173    0.005        ROI_205    0.027       \n",
      "36     ROI_174    -0.072       ROI_174    0.007        ROI_210    0.005        ROI_174    0.005        ROI_210    0.005        ROI_174    0.005       \n",
      "37     ROI_175    -0.057       ROI_175    0.006        ROI_175    0.005        ROI_175    0.005        ROI_175    0.005        ROI_175    0.001       \n"
     ]
    }
   ],
   "source": [
    "# Define the list of importances dictionaries and corresponding feature lists\n",
    "importances_dict = {\n",
    "    'LR': importances_LR,\n",
    "    'TC': importances_TC,\n",
    "    'RF': importances_RF,\n",
    "    'GB': importances_GB,\n",
    "    'XG': importances_XG,\n",
    "    'V': importances_weighted\n",
    "}\n",
    "\n",
    "best_features_dict = {\n",
    "    'LR': best_features_LRcc,\n",
    "    'TC': best_features_TCcc,\n",
    "    'RF': best_features_RFcc,\n",
    "    'GB': best_features_GBcc,\n",
    "    'XG': best_features_XGcc,\n",
    "    'V': best_features_Vcc\n",
    "}\n",
    "\n",
    "# Call the function to print the results\n",
    "u.print_model_comparison_corr_groups(best_features_dict, importances_dict)"
   ]
  },
  {
   "cell_type": "markdown",
   "id": "aba3bc80-fe4c-4dbf-93ed-ec2eded1e105",
   "metadata": {},
   "source": [
    " "
   ]
  },
  {
   "cell_type": "markdown",
   "id": "d30115c3-58aa-4b96-8dd0-4a1c71585cf8",
   "metadata": {},
   "source": [
    "##### Comparisson between Logistic Regression and Gradient Boosting best features from correlation groups"
   ]
  },
  {
   "cell_type": "code",
   "execution_count": 93,
   "id": "2828c299-ccb4-4c4d-85a5-46a7752a93e7",
   "metadata": {},
   "outputs": [
    {
     "name": "stdout",
     "output_type": "stream",
     "text": [
      "Rank      List 1                        List 2                        Common Features               \n",
      "=====================================================================================\n",
      "1         ROI_104                       ROI_1                         ROI_114                       \n",
      "2         ROI_117                       ROI_113                       ROI_128                       \n",
      "3         ROI_119                       ROI_115                       ROI_130                       \n",
      "4         ROI_12                        ROI_134                       ROI_170                       \n",
      "5         ROI_120                       ROI_137                       ROI_174                       \n",
      "6         ROI_133                       ROI_173                       ROI_175                       \n",
      "7         ROI_153                       ROI_177                       ROI_18                        \n",
      "8         ROI_155                       ROI_187                       ROI_25                        \n",
      "9         ROI_159                       ROI_191                       ROI_29                        \n",
      "10        ROI_160                       ROI_196                       ROI_3                         \n",
      "11        ROI_178                       ROI_206                       ROI_43                        \n",
      "12        ROI_2                         ROI_59                        ROI_52                        \n",
      "13        ROI_205                       ROI_62                        ROI_63                        \n",
      "14        ROI_23                        ROI_78                        ROI_72                        \n",
      "15        ROI_32                        ROI_86                        ROI_73                        \n",
      "16        ROI_35                        ROI_88                        ROI_8                         \n",
      "17        ROI_40                        ROI_9                         ROI_80                        \n",
      "18        ROI_45                        ROI_94                        ROI_89                        \n",
      "19                                                                    ROI_90                        \n"
     ]
    }
   ],
   "source": [
    "(unique_LRcc, unique_GBcc), common_LR_GB_cc = u.compare_best_features(best_features_LRcc, best_features_GBcc)"
   ]
  },
  {
   "cell_type": "markdown",
   "id": "288c819c-7bde-4d87-9f3b-d65e530738f5",
   "metadata": {},
   "source": [
    " "
   ]
  },
  {
   "cell_type": "markdown",
   "id": "a40f0464-3104-446a-a047-7e31c7f72e33",
   "metadata": {},
   "source": [
    " "
   ]
  },
  {
   "cell_type": "markdown",
   "id": "23894bec-7e9d-4c05-83b3-bdc40494e4ff",
   "metadata": {},
   "source": [
    "#### 3.5.4. Voting Engineering Method Comparisons (Method II)"
   ]
  },
  {
   "cell_type": "code",
   "execution_count": 94,
   "id": "920543f5-4357-48ae-93a7-048f72f65b3e",
   "metadata": {},
   "outputs": [
    {
     "name": "stdout",
     "output_type": "stream",
     "text": [
      "                Average                        Weighted                      \n",
      "Rank       ROI        Score                ROI        Score               \n",
      "==============================================================\n",
      "1          ROI_25     0.027                ROI_25     0.355               \n",
      "2          ROI_130    0.020                ROI_130    0.256               \n",
      "3          ROI_99     0.018                ROI_99     0.235               \n",
      "4          ROI_204    0.011                ROI_204    0.149               \n",
      "5          ROI_128    0.010                ROI_128    0.135               \n",
      "6          ROI_201    0.009                ROI_201    0.111               \n",
      "7          ROI_23     0.008                ROI_23     0.106               \n",
      "8          ROI_96     0.007                ROI_96     0.090               \n",
      "9          ROI_94     0.007                ROI_94     0.085               \n",
      "10         ROI_40     0.006                ROI_40     0.077               \n",
      "11         ROI_35     0.005                ROI_35     0.068               \n",
      "12         ROI_83     0.004                ROI_83     0.053               \n",
      "13         ROI_202    0.004                ROI_202    0.047               \n",
      "14         ROI_22     0.003                ROI_22     0.045               \n",
      "15         ROI_181    0.003                ROI_181    0.045               \n",
      "16         ROI_207    0.003                ROI_207    0.044               \n",
      "17         ROI_59     0.003                ROI_59     0.043               \n",
      "18         ROI_84     0.003                ROI_84     0.038               \n",
      "19         ROI_102    0.003                ROI_102    0.037               \n",
      "20         ROI_180    0.003                ROI_180    0.036               \n",
      "21         ROI_76     0.003                ROI_76     0.034               \n",
      "22         ROI_127    0.003                ROI_127    0.033               \n",
      "23         ROI_203    0.002                ROI_203    0.031               \n",
      "24         ROI_97     0.002                ROI_97     0.029               \n",
      "25         ROI_205    0.002                ROI_205    0.027               \n",
      "26         ROI_44     0.002                ROI_44     0.026               \n",
      "27         ROI_98     0.002                ROI_98     0.024               \n",
      "28         ROI_182    -0.002               ROI_182    -0.023              \n",
      "29         ROI_42     0.002                ROI_42     0.023               \n",
      "30         ROI_208    0.002                ROI_208    0.022               \n",
      "31         ROI_86     0.002                ROI_86     0.022               \n",
      "32         ROI_100    0.002                ROI_100    0.021               \n",
      "33         ROI_26     0.002                ROI_26     0.020               \n",
      "34         ROI_129    0.001                ROI_129    0.019               \n",
      "35         ROI_194    0.001                ROI_194    0.019               \n",
      "36         ROI_39     0.001                ROI_39     0.018               \n",
      "37         ROI_131    0.001                ROI_131    0.017               \n",
      "38         ROI_193    -0.001               ROI_193    -0.017              \n",
      "39         ROI_19     0.001                ROI_19     0.017               \n",
      "40         ROI_41     0.001                ROI_41     0.017               \n",
      "41         ROI_189    0.001                ROI_189    0.017               \n",
      "42         ROI_95     0.001                ROI_95     0.016               \n",
      "43         ROI_167    0.001                ROI_167    0.016               \n",
      "44         ROI_200    0.001                ROI_200    0.016               \n",
      "45         ROI_14     0.001                ROI_14     0.016               \n",
      "46         ROI_140    0.001                ROI_140    0.016               \n",
      "47         ROI_158    0.001                ROI_158    0.015               \n",
      "48         ROI_70     0.001                ROI_70     0.014               \n",
      "49         ROI_103    0.001                ROI_103    0.013               \n",
      "50         ROI_38     0.001                ROI_38     0.013               \n",
      "51         ROI_119    0.001                ROI_119    0.013               \n",
      "52         ROI_18     0.001                ROI_18     0.013               \n",
      "53         ROI_123    0.001                ROI_123    0.012               \n",
      "54         ROI_69     0.001                ROI_69     0.012               \n",
      "55         ROI_124    0.001                ROI_124    0.012               \n",
      "56         ROI_67     0.001                ROI_67     0.011               \n",
      "57         ROI_64     0.001                ROI_64     0.011               \n",
      "58         ROI_77     -0.001               ROI_77     -0.011              \n",
      "59         ROI_91     0.001                ROI_91     0.010               \n",
      "60         ROI_21     0.001                ROI_21     0.010               \n",
      "61         ROI_24     0.001                ROI_24     0.010               \n",
      "62         ROI_37     0.001                ROI_37     0.010               \n",
      "63         ROI_48     0.001                ROI_48     0.010               \n",
      "64         ROI_196    0.001                ROI_196    0.010               \n",
      "65         ROI_47     0.001                ROI_47     0.010               \n",
      "66         ROI_188    0.001                ROI_188    0.009               \n",
      "67         ROI_126    0.001                ROI_126    0.009               \n",
      "68         ROI_191    0.001                ROI_191    0.009               \n",
      "69         ROI_53     0.001                ROI_53     0.008               \n",
      "70         ROI_177    0.001                ROI_177    0.008               \n",
      "71         ROI_149    0.001                ROI_149    0.008               \n",
      "72         ROI_121    0.001                ROI_121    0.008               \n",
      "73         ROI_101    -0.001               ROI_101    -0.008              \n",
      "74         ROI_143    0.001                ROI_143    0.008               \n",
      "75         ROI_85     0.001                ROI_85     0.007               \n",
      "76         ROI_145    0.001                ROI_145    0.007               \n",
      "77         ROI_117    0.001                ROI_117    0.007               \n",
      "78         ROI_89     0.001                ROI_89     0.007               \n",
      "79         ROI_206    0.001                ROI_206    0.007               \n",
      "80         ROI_105    0.001                ROI_105    0.007               \n",
      "81         ROI_31     0.001                ROI_31     0.007               \n",
      "82         ROI_162    0.000                ROI_162    0.006               \n",
      "83         ROI_60     0.000                ROI_60     0.006               \n",
      "84         ROI_209    -0.000               ROI_209    -0.006              \n",
      "85         ROI_68     -0.000               ROI_68     -0.006              \n",
      "86         ROI_163    0.000                ROI_163    0.006               \n",
      "87         ROI_165    0.000                ROI_165    0.006               \n",
      "88         ROI_210    -0.000               ROI_210    -0.006              \n",
      "89         ROI_61     0.000                ROI_61     0.005               \n",
      "90         ROI_152    0.000                ROI_152    0.005               \n",
      "91         ROI_74     0.000                ROI_74     0.005               \n",
      "92         ROI_164    0.000                ROI_164    0.005               \n",
      "93         ROI_137    0.000                ROI_137    0.005               \n",
      "94         ROI_159    0.000                ROI_159    0.005               \n",
      "95         ROI_178    0.000                ROI_178    0.005               \n",
      "96         ROI_63     0.000                ROI_63     0.005               \n",
      "97         ROI_50     0.000                ROI_50     0.005               \n",
      "98         ROI_15     0.000                ROI_15     0.005               \n",
      "99         ROI_173    0.000                ROI_173    0.005               \n",
      "100        ROI_114    0.000                ROI_114    0.005               \n",
      "101        ROI_120    0.000                ROI_120    0.005               \n",
      "102        ROI_157    0.000                ROI_157    0.005               \n",
      "103        ROI_55     0.000                ROI_55     0.005               \n",
      "104        ROI_174    0.000                ROI_174    0.005               \n",
      "105        ROI_57     0.000                ROI_57     0.004               \n",
      "106        ROI_146    0.000                ROI_146    0.004               \n",
      "107        ROI_116    0.000                ROI_116    0.004               \n",
      "108        ROI_151    0.000                ROI_151    0.004               \n",
      "109        ROI_122    0.000                ROI_122    0.004               \n",
      "110        ROI_179    0.000                ROI_179    0.004               \n",
      "111        ROI_113    0.000                ROI_113    0.004               \n",
      "112        ROI_58     0.000                ROI_58     0.004               \n",
      "113        ROI_51     0.000                ROI_51     0.004               \n",
      "114        ROI_144    0.000                ROI_144    0.004               \n",
      "115        ROI_199    0.000                ROI_199    0.004               \n",
      "116        ROI_81     0.000                ROI_81     0.004               \n",
      "117        ROI_118    0.000                ROI_118    0.004               \n",
      "118        ROI_142    0.000                ROI_142    0.004               \n",
      "119        ROI_45     0.000                ROI_45     0.004               \n",
      "120        ROI_136    0.000                ROI_136    0.004               \n",
      "121        ROI_29     0.000                ROI_29     0.004               \n",
      "122        ROI_66     0.000                ROI_66     0.004               \n",
      "123        ROI_176    0.000                ROI_176    0.004               \n",
      "124        ROI_56     0.000                ROI_56     0.004               \n",
      "125        ROI_187    0.000                ROI_187    0.004               \n",
      "126        ROI_79     0.000                ROI_79     0.004               \n",
      "127        ROI_17     0.000                ROI_17     0.003               \n",
      "128        ROI_155    0.000                ROI_155    0.003               \n",
      "129        ROI_82     0.000                ROI_82     0.003               \n",
      "130        ROI_90     0.000                ROI_90     0.003               \n",
      "131        ROI_147    0.000                ROI_147    0.003               \n",
      "132        ROI_150    0.000                ROI_150    0.003               \n",
      "133        ROI_87     0.000                ROI_87     0.003               \n",
      "134        ROI_107    0.000                ROI_107    0.003               \n",
      "135        ROI_20     0.000                ROI_20     0.003               \n",
      "136        ROI_153    0.000                ROI_153    0.003               \n",
      "137        ROI_54     0.000                ROI_54     0.003               \n",
      "138        ROI_161    0.000                ROI_161    0.003               \n",
      "139        ROI_192    0.000                ROI_192    0.003               \n",
      "140        ROI_62     -0.000               ROI_62     -0.003              \n",
      "141        ROI_88     0.000                ROI_88     0.003               \n",
      "142        ROI_8      0.000                ROI_8      0.003               \n",
      "143        ROI_171    0.000                ROI_171    0.003               \n",
      "144        ROI_10     0.000                ROI_10     0.003               \n",
      "145        ROI_190    0.000                ROI_190    0.003               \n",
      "146        ROI_52     0.000                ROI_52     0.003               \n",
      "147        ROI_49     -0.000               ROI_49     -0.003              \n",
      "148        ROI_132    0.000                ROI_132    0.003               \n",
      "149        ROI_92     0.000                ROI_92     0.003               \n",
      "150        ROI_4      0.000                ROI_4      0.003               \n",
      "151        ROI_160    0.000                ROI_160    0.003               \n",
      "152        ROI_184    0.000                ROI_184    0.003               \n",
      "153        ROI_7      0.000                ROI_7      0.003               \n",
      "154        ROI_115    0.000                ROI_115    0.003               \n",
      "155        ROI_1      0.000                ROI_1      0.003               \n",
      "156        ROI_148    0.000                ROI_148    0.003               \n",
      "157        ROI_109    0.000                ROI_109    0.003               \n",
      "158        ROI_166    0.000                ROI_166    0.002               \n",
      "159        ROI_112    0.000                ROI_112    0.002               \n",
      "160        ROI_13     0.000                ROI_13     0.002               \n",
      "161        ROI_30     0.000                ROI_30     0.002               \n",
      "162        ROI_125    0.000                ROI_125    0.002               \n",
      "163        ROI_16     0.000                ROI_16     0.002               \n",
      "164        ROI_141    0.000                ROI_141    0.002               \n",
      "165        ROI_138    -0.000               ROI_138    -0.002              \n",
      "166        ROI_186    0.000                ROI_186    0.002               \n",
      "167        ROI_78     0.000                ROI_78     0.002               \n",
      "168        ROI_198    -0.000               ROI_198    -0.002              \n",
      "169        ROI_156    0.000                ROI_156    0.002               \n",
      "170        ROI_27     0.000                ROI_27     0.002               \n",
      "171        ROI_34     0.000                ROI_34     0.002               \n",
      "172        ROI_2      0.000                ROI_2      0.002               \n",
      "173        ROI_3      0.000                ROI_3      0.002               \n",
      "174        ROI_80     0.000                ROI_80     0.002               \n",
      "175        ROI_32     0.000                ROI_32     0.002               \n",
      "176        ROI_195    0.000                ROI_195    0.002               \n",
      "177        ROI_11     0.000                ROI_11     0.002               \n",
      "178        ROI_5      0.000                ROI_5      0.002               \n",
      "179        ROI_110    0.000                ROI_110    0.002               \n",
      "180        ROI_104    0.000                ROI_104    0.002               \n",
      "181        ROI_139    0.000                ROI_139    0.002               \n",
      "182        ROI_36     0.000                ROI_36     0.001               \n",
      "183        ROI_185    0.000                ROI_185    0.001               \n",
      "184        ROI_9      0.000                ROI_9      0.001               \n",
      "185        ROI_12     0.000                ROI_12     0.001               \n",
      "186        ROI_168    0.000                ROI_168    0.001               \n",
      "187        ROI_175    0.000                ROI_175    0.001               \n",
      "188        ROI_6      0.000                ROI_6      0.001               \n",
      "189        ROI_43     -0.000               ROI_43     -0.001              \n",
      "190        ROI_135    0.000                ROI_135    0.001               \n",
      "191        ROI_170    0.000                ROI_170    0.001               \n",
      "192        ROI_108    0.000                ROI_108    0.001               \n",
      "193        ROI_106    0.000                ROI_106    0.001               \n",
      "194        ROI_28     0.000                ROI_28     0.001               \n",
      "195        ROI_65     0.000                ROI_65     0.001               \n",
      "196        ROI_75     0.000                ROI_75     0.001               \n",
      "197        ROI_111    0.000                ROI_111    0.001               \n",
      "198        ROI_154    0.000                ROI_154    0.001               \n",
      "199        ROI_46     -0.000               ROI_46     -0.001              \n",
      "200        ROI_133    0.000                ROI_133    0.001               \n",
      "201        ROI_33     0.000                ROI_33     0.001               \n",
      "202        ROI_183    0.000                ROI_183    0.001               \n",
      "203        ROI_172    -0.000               ROI_172    -0.001              \n",
      "204        ROI_73     0.000                ROI_73     0.001               \n",
      "205        ROI_71     0.000                ROI_71     0.000               \n",
      "206        ROI_197    0.000                ROI_197    0.000               \n",
      "207        ROI_93     -0.000               ROI_93     -0.000              \n",
      "208        ROI_134    0.000                ROI_134    0.000               \n",
      "209        ROI_72     0.000                ROI_72     0.000               \n",
      "210        ROI_169    -0.000               ROI_169    -0.000              \n"
     ]
    }
   ],
   "source": [
    "# Combine model dictionaries\n",
    "model_importances = {\n",
    "    'Average': importances_avg,\n",
    "    'Weighted': importances_weighted\n",
    "}\n",
    "\n",
    "model_positions = {\n",
    "    'Average': feature_positions_avg,\n",
    "    'Weighted': feature_positions_weighted\n",
    "}\n",
    "\n",
    "u.print_scores_comparison(model_positions, model_importances)"
   ]
  },
  {
   "cell_type": "markdown",
   "id": "72db087c-4eec-4b9e-89b9-7ddedf29bf85",
   "metadata": {},
   "source": [
    " "
   ]
  },
  {
   "cell_type": "markdown",
   "id": "50393fb1-662d-4153-9b75-c5041cfb3f90",
   "metadata": {},
   "source": [
    "##### Comparisson between Logistic Regression, Gradient Boosting and Voting Engineering best features"
   ]
  },
  {
   "cell_type": "code",
   "execution_count": 95,
   "id": "e57a491b-8080-47f7-ba4f-37f00d4b99f4",
   "metadata": {},
   "outputs": [
    {
     "name": "stdout",
     "output_type": "stream",
     "text": [
      "Rank      List 1                        List 2                        List 3                        Common Features               \n",
      "===================================================================================================================\n",
      "1         ROI_101                       ROI_1                         ROI_167                       ROI_128                       \n",
      "2         ROI_105                       ROI_115                       ROI_180                       ROI_130                       \n",
      "3         ROI_123                       ROI_122                       ROI_208                       ROI_181                       \n",
      "4         ROI_169                       ROI_13                        ROI_38                        ROI_182                       \n",
      "5         ROI_188                       ROI_146                       ROI_39                        ROI_193                       \n",
      "6         ROI_209                       ROI_148                       ROI_40                        ROI_194                       \n",
      "7         ROI_43                        ROI_151                       ROI_41                        ROI_201                       \n",
      "8         ROI_47                        ROI_164                       ROI_42                        ROI_203                       \n",
      "9         ROI_49                        ROI_174                       ROI_44                        ROI_204                       \n",
      "10        ROI_62                        ROI_175                       ROI_70                        ROI_23                        \n",
      "11        ROI_77                        ROI_179                       ROI_95                        ROI_25                        \n",
      "12        ROI_91                        ROI_187                       ROI_96                        ROI_76                        \n",
      "13                                      ROI_191                       ROI_97                        ROI_94                        \n",
      "14                                      ROI_29                                                                                    \n",
      "15                                      ROI_3                                                                                     \n",
      "16                                      ROI_65                                                                                    \n",
      "17                                      ROI_78                                                                                    \n",
      "18                                      ROI_8                                                                                     \n",
      "19                                      ROI_81                                                                                    \n",
      "20                                      ROI_82                                                                                    \n",
      "21                                      ROI_89                                                                                    \n",
      "22                                      ROI_90                                                                                    \n"
     ]
    }
   ],
   "source": [
    "(unique_LR_50, unique_GB_50, unique_V_50), common_LR_GB_V_50 = u.compare_best_features(best_features_LR_50, \n",
    "                                                                                     best_features_GB_50,\n",
    "                                                                                     best_features_V_50\n",
    "                                                                                     )"
   ]
  },
  {
   "cell_type": "code",
   "execution_count": 96,
   "id": "48751021-a3b2-4dd6-ba2c-530d46cb9357",
   "metadata": {},
   "outputs": [
    {
     "name": "stdout",
     "output_type": "stream",
     "text": [
      "Rank      List 1                        List 2                        List 3                        Common Features               \n",
      "===================================================================================================================\n",
      "1         ROI_138                       ROI_1                         ROI_117                       ROI_100                       \n",
      "2         ROI_147                       ROI_109                       ROI_145                       ROI_102                       \n",
      "3         ROI_154                       ROI_112                       ROI_149                       ROI_103                       \n",
      "4         ROI_168                       ROI_113                       ROI_167                       ROI_105                       \n",
      "5         ROI_169                       ROI_115                       ROI_178                       ROI_121                       \n",
      "6         ROI_172                       ROI_118                       ROI_21                        ROI_124                       \n",
      "7         ROI_198                       ROI_122                       ROI_31                        ROI_128                       \n",
      "8         ROI_199                       ROI_13                        ROI_37                        ROI_130                       \n",
      "9         ROI_33                        ROI_133                       ROI_38                        ROI_158                       \n",
      "10        ROI_43                        ROI_134                       ROI_40                        ROI_164                       \n",
      "11        ROI_46                        ROI_135                       ROI_41                        ROI_173                       \n",
      "12        ROI_49                        ROI_139                       ROI_44                        ROI_177                       \n",
      "13        ROI_54                        ROI_146                       ROI_48                        ROI_181                       \n",
      "14        ROI_55                        ROI_156                       ROI_60                        ROI_182                       \n",
      "15        ROI_73                        ROI_161                       ROI_85                        ROI_188                       \n",
      "16        ROI_75                        ROI_17                                                      ROI_193                       \n",
      "17                                      ROI_175                                                     ROI_194                       \n",
      "18                                      ROI_184                                                     ROI_196                       \n",
      "19                                      ROI_186                                                     ROI_201                       \n",
      "20                                      ROI_187                                                     ROI_203                       \n",
      "21                                      ROI_2                                                       ROI_204                       \n",
      "22                                      ROI_27                                                      ROI_205                       \n",
      "23                                      ROI_29                                                      ROI_206                       \n",
      "24                                      ROI_3                                                       ROI_210                       \n",
      "25                                      ROI_30                                                      ROI_23                        \n",
      "26                                      ROI_32                                                      ROI_25                        \n",
      "27                                      ROI_4                                                       ROI_59                        \n",
      "28                                      ROI_57                                                      ROI_63                        \n",
      "29                                      ROI_7                                                       ROI_68                        \n",
      "30                                      ROI_78                                                      ROI_74                        \n",
      "31                                      ROI_8                                                       ROI_76                        \n",
      "32                                      ROI_80                                                      ROI_77                        \n",
      "33                                      ROI_81                                                      ROI_84                        \n",
      "34                                      ROI_82                                                      ROI_94                        \n",
      "35                                      ROI_9                                                       ROI_95                        \n",
      "36                                      ROI_90                                                      ROI_96                        \n",
      "37                                      ROI_92                                                      ROI_98                        \n",
      "38                                                                                                  ROI_99                        \n"
     ]
    }
   ],
   "source": [
    "(unique_LR_100, unique_GB_100, unique_V_100), common_LR_GB_V_100 = u.compare_best_features(best_features_LR_100, \n",
    "                                                                                     best_features_GB_100,\n",
    "                                                                                     best_features_V_100\n",
    "                                                                                     )"
   ]
  },
  {
   "cell_type": "code",
   "execution_count": 97,
   "id": "463f777b-66d1-4ad9-9712-04dd7151cc89",
   "metadata": {},
   "outputs": [
    {
     "name": "stdout",
     "output_type": "stream",
     "text": [
      "Rank      List 1                        List 2                        List 3                        Common Features               \n",
      "===================================================================================================================\n",
      "1         ROI_11                        ROI_108                       ROI_107                       ROI_100                       \n",
      "2         ROI_138                       ROI_112                       ROI_132                       ROI_101                       \n",
      "3         ROI_16                        ROI_115                       ROI_142                       ROI_102                       \n",
      "4         ROI_168                       ROI_12                        ROI_149                       ROI_103                       \n",
      "5         ROI_169                       ROI_125                       ROI_150                       ROI_105                       \n",
      "6         ROI_183                       ROI_13                        ROI_153                       ROI_116                       \n",
      "7         ROI_185                       ROI_156                       ROI_192                       ROI_119                       \n",
      "8         ROI_197                       ROI_184                       ROI_20                        ROI_121                       \n",
      "9         ROI_198                       ROI_2                         ROI_37                        ROI_122                       \n",
      "10        ROI_33                        ROI_27                        ROI_40                        ROI_123                       \n",
      "11        ROI_43                        ROI_3                         ROI_44                        ROI_124                       \n",
      "12        ROI_5                         ROI_32                        ROI_48                        ROI_127                       \n",
      "13                                      ROI_7                         ROI_52                        ROI_128                       \n",
      "14                                      ROI_9                         ROI_56                        ROI_130                       \n",
      "15                                                                    ROI_85                        ROI_131                       \n",
      "16                                                                                                  ROI_14                        \n",
      "17                                                                                                  ROI_151                       \n",
      "18                                                                                                  ROI_155                       \n",
      "19                                                                                                  ROI_158                       \n",
      "20                                                                                                  ROI_162                       \n",
      "21                                                                                                  ROI_164                       \n",
      "22                                                                                                  ROI_165                       \n",
      "23                                                                                                  ROI_167                       \n",
      "24                                                                                                  ROI_17                        \n",
      "25                                                                                                  ROI_173                       \n",
      "26                                                                                                  ROI_174                       \n",
      "27                                                                                                  ROI_176                       \n",
      "28                                                                                                  ROI_177                       \n",
      "29                                                                                                  ROI_179                       \n",
      "30                                                                                                  ROI_181                       \n",
      "31                                                                                                  ROI_182                       \n",
      "32                                                                                                  ROI_187                       \n",
      "33                                                                                                  ROI_188                       \n",
      "34                                                                                                  ROI_189                       \n",
      "35                                                                                                  ROI_19                        \n",
      "36                                                                                                  ROI_190                       \n",
      "37                                                                                                  ROI_193                       \n",
      "38                                                                                                  ROI_194                       \n",
      "39                                                                                                  ROI_196                       \n",
      "40                                                                                                  ROI_199                       \n",
      "41                                                                                                  ROI_200                       \n",
      "42                                                                                                  ROI_201                       \n",
      "43                                                                                                  ROI_202                       \n",
      "44                                                                                                  ROI_203                       \n",
      "45                                                                                                  ROI_204                       \n",
      "46                                                                                                  ROI_205                       \n",
      "47                                                                                                  ROI_206                       \n",
      "48                                                                                                  ROI_207                       \n",
      "49                                                                                                  ROI_208                       \n",
      "50                                                                                                  ROI_209                       \n",
      "51                                                                                                  ROI_21                        \n",
      "52                                                                                                  ROI_210                       \n",
      "53                                                                                                  ROI_22                        \n",
      "54                                                                                                  ROI_23                        \n",
      "55                                                                                                  ROI_24                        \n",
      "56                                                                                                  ROI_25                        \n",
      "57                                                                                                  ROI_29                        \n",
      "58                                                                                                  ROI_35                        \n",
      "59                                                                                                  ROI_53                        \n",
      "60                                                                                                  ROI_59                        \n",
      "61                                                                                                  ROI_62                        \n",
      "62                                                                                                  ROI_63                        \n",
      "63                                                                                                  ROI_64                        \n",
      "64                                                                                                  ROI_66                        \n",
      "65                                                                                                  ROI_67                        \n",
      "66                                                                                                  ROI_68                        \n",
      "67                                                                                                  ROI_70                        \n",
      "68                                                                                                  ROI_74                        \n",
      "69                                                                                                  ROI_76                        \n",
      "70                                                                                                  ROI_77                        \n",
      "71                                                                                                  ROI_81                        \n",
      "72                                                                                                  ROI_82                        \n",
      "73                                                                                                  ROI_84                        \n",
      "74                                                                                                  ROI_88                        \n",
      "75                                                                                                  ROI_91                        \n",
      "76                                                                                                  ROI_92                        \n",
      "77                                                                                                  ROI_94                        \n",
      "78                                                                                                  ROI_95                        \n",
      "79                                                                                                  ROI_96                        \n",
      "80                                                                                                  ROI_98                        \n",
      "81                                                                                                  ROI_99                        \n"
     ]
    }
   ],
   "source": [
    "(unique_LR_150, unique_GB_150, unique_V_150), common_LR_GB_V_150 = u.compare_best_features(best_features_LR_150, \n",
    "                                                                                     best_features_GB_150,\n",
    "                                                                                     best_features_V_150\n",
    "                                                                                     )"
   ]
  },
  {
   "cell_type": "markdown",
   "id": "5e0ea019-a105-4460-a603-87cea4cd8e6a",
   "metadata": {},
   "source": [
    " "
   ]
  },
  {
   "cell_type": "markdown",
   "id": "eaa9ded8-fa69-490f-87b5-00a62d0651f6",
   "metadata": {},
   "source": [
    "##### Comparisson between Logistic Regression, Gradient Boosting and Voting Engineering best features from correlation groups"
   ]
  },
  {
   "cell_type": "code",
   "execution_count": 98,
   "id": "132a9720-67e7-4ceb-93b6-def04ef51fd7",
   "metadata": {},
   "outputs": [
    {
     "name": "stdout",
     "output_type": "stream",
     "text": [
      "Rank      List 1                        List 2                        List 3                        Common Features               \n",
      "===================================================================================================================\n",
      "1         ROI_104                       ROI_1                         ROI_157                       ROI_114                       \n",
      "2         ROI_12                        ROI_113                       ROI_167                       ROI_128                       \n",
      "3         ROI_120                       ROI_115                       ROI_180                       ROI_130                       \n",
      "4         ROI_133                       ROI_134                       ROI_181                       ROI_170                       \n",
      "5         ROI_153                       ROI_173                       ROI_185                       ROI_174                       \n",
      "6         ROI_155                       ROI_177                       ROI_61                        ROI_175                       \n",
      "7         ROI_159                       ROI_187                       ROI_69                        ROI_18                        \n",
      "8         ROI_160                       ROI_196                       ROI_70                        ROI_25                        \n",
      "9         ROI_178                       ROI_59                        ROI_92                        ROI_3                         \n",
      "10        ROI_2                         ROI_62                        ROI_99                        ROI_43                        \n",
      "11        ROI_32                        ROI_86                                                      ROI_52                        \n",
      "12        ROI_45                        ROI_88                                                      ROI_72                        \n",
      "13                                      ROI_94                                                      ROI_73                        \n",
      "14                                                                                                  ROI_8                         \n",
      "15                                                                                                  ROI_89                        \n",
      "16                                                                                                  ROI_90                        \n"
     ]
    }
   ],
   "source": [
    "(unique_LRcc, unique_GBcc, unique_Vcc), common_LR_V_GB_cc = u.compare_best_features(best_features_LRcc, \n",
    "                                                                        best_features_GBcc,\n",
    "                                                                        best_features_Vcc                                                                       \n",
    "                                                                       )"
   ]
  },
  {
   "cell_type": "markdown",
   "id": "0e989d7f-deba-42f0-aefe-31c12e24a398",
   "metadata": {},
   "source": [
    " "
   ]
  },
  {
   "cell_type": "markdown",
   "id": "b54325c1-737a-4736-82d6-d12755d1d82e",
   "metadata": {},
   "source": [
    " "
   ]
  },
  {
   "cell_type": "markdown",
   "id": "9bfd4412-4398-4997-b936-77b48b6e4249",
   "metadata": {},
   "source": [
    "#### 3.5.5. Method Top N features"
   ]
  },
  {
   "cell_type": "code",
   "execution_count": 99,
   "id": "af69960a-0ea7-4c0f-b554-fea98710aa7f",
   "metadata": {
    "scrolled": true
   },
   "outputs": [
    {
     "name": "stdout",
     "output_type": "stream",
     "text": [
      "\n",
      "Top 20 Features for Each Model:\n",
      "LR:\n",
      "  Rank 1: ROI_25\n",
      "  Rank 2: ROI_130\n",
      "  Rank 3: ROI_128\n",
      "  Rank 4: ROI_23\n",
      "  Rank 5: ROI_94\n",
      "  Rank 6: ROI_35\n",
      "  Rank 7: ROI_83\n",
      "  Rank 8: ROI_22\n",
      "  Rank 9: ROI_59\n",
      "  Rank 10: ROI_84\n",
      "  Rank 11: ROI_127\n",
      "  Rank 12: ROI_182\n",
      "  Rank 13: ROI_193\n",
      "  Rank 14: ROI_88\n",
      "  Rank 15: ROI_181\n",
      "  Rank 16: ROI_196\n",
      "  Rank 17: ROI_209\n",
      "  Rank 18: ROI_77\n",
      "  Rank 19: ROI_140\n",
      "  Rank 20: ROI_131\n",
      "TC:\n",
      "  Rank 1: ROI_130\n",
      "  Rank 2: ROI_25\n",
      "  Rank 3: ROI_88\n",
      "  Rank 4: ROI_196\n",
      "  Rank 5: ROI_194\n",
      "  Rank 6: ROI_59\n",
      "  Rank 7: ROI_163\n",
      "  Rank 8: ROI_55\n",
      "  Rank 9: ROI_128\n",
      "  Rank 10: ROI_164\n",
      "  Rank 11: ROI_193\n",
      "  Rank 12: ROI_23\n",
      "  Rank 13: ROI_91\n",
      "  Rank 14: ROI_58\n",
      "  Rank 15: ROI_160\n",
      "  Rank 16: ROI_182\n",
      "  Rank 17: ROI_94\n",
      "  Rank 18: ROI_77\n",
      "  Rank 19: ROI_161\n",
      "  Rank 20: ROI_99\n",
      "RF:\n",
      "  Rank 1: ROI_25\n",
      "  Rank 2: ROI_130\n",
      "  Rank 3: ROI_88\n",
      "  Rank 4: ROI_193\n",
      "  Rank 5: ROI_94\n",
      "  Rank 6: ROI_194\n",
      "  Rank 7: ROI_128\n",
      "  Rank 8: ROI_196\n",
      "  Rank 9: ROI_89\n",
      "  Rank 10: ROI_59\n",
      "  Rank 11: ROI_77\n",
      "  Rank 12: ROI_82\n",
      "  Rank 13: ROI_163\n",
      "  Rank 14: ROI_174\n",
      "  Rank 15: ROI_177\n",
      "  Rank 16: ROI_148\n",
      "  Rank 17: ROI_90\n",
      "  Rank 18: ROI_173\n",
      "  Rank 19: ROI_91\n",
      "  Rank 20: ROI_181\n",
      "GB:\n",
      "  Rank 1: ROI_130\n",
      "  Rank 2: ROI_25\n",
      "  Rank 3: ROI_88\n",
      "  Rank 4: ROI_196\n",
      "  Rank 5: ROI_194\n",
      "  Rank 6: ROI_94\n",
      "  Rank 7: ROI_193\n",
      "  Rank 8: ROI_128\n",
      "  Rank 9: ROI_206\n",
      "  Rank 10: ROI_89\n",
      "  Rank 11: ROI_103\n",
      "  Rank 12: ROI_181\n",
      "  Rank 13: ROI_72\n",
      "  Rank 14: ROI_68\n",
      "  Rank 15: ROI_182\n",
      "  Rank 16: ROI_174\n",
      "  Rank 17: ROI_29\n",
      "  Rank 18: ROI_1\n",
      "  Rank 19: ROI_98\n",
      "  Rank 20: ROI_203\n",
      "XG:\n",
      "  Rank 1: ROI_25\n",
      "  Rank 2: ROI_130\n",
      "  Rank 3: ROI_196\n",
      "  Rank 4: ROI_165\n",
      "  Rank 5: ROI_162\n",
      "  Rank 6: ROI_189\n",
      "  Rank 7: ROI_191\n",
      "  Rank 8: ROI_98\n",
      "  Rank 9: ROI_88\n",
      "  Rank 10: ROI_155\n",
      "  Rank 11: ROI_103\n",
      "  Rank 12: ROI_150\n",
      "  Rank 13: ROI_204\n",
      "  Rank 14: ROI_163\n",
      "  Rank 15: ROI_45\n",
      "  Rank 16: ROI_192\n",
      "  Rank 17: ROI_56\n",
      "  Rank 18: ROI_131\n",
      "  Rank 19: ROI_158\n",
      "  Rank 20: ROI_193\n",
      "v:\n",
      "  Rank 1: ROI_99\n",
      "  Rank 2: ROI_204\n",
      "  Rank 3: ROI_201\n",
      "  Rank 4: ROI_96\n",
      "  Rank 5: ROI_40\n",
      "  Rank 6: ROI_181\n",
      "  Rank 7: ROI_202\n",
      "  Rank 8: ROI_207\n",
      "  Rank 9: ROI_76\n",
      "  Rank 10: ROI_102\n",
      "  Rank 11: ROI_203\n",
      "  Rank 12: ROI_97\n",
      "  Rank 13: ROI_205\n",
      "  Rank 14: ROI_100\n",
      "  Rank 15: ROI_44\n",
      "  Rank 16: ROI_98\n",
      "  Rank 17: ROI_208\n",
      "  Rank 18: ROI_200\n",
      "  Rank 19: ROI_42\n",
      "  Rank 20: ROI_95\n",
      "mi:\n",
      "  Rank 1: ROI_180\n",
      "  Rank 2: ROI_86\n",
      "  Rank 3: ROI_70\n",
      "  Rank 4: ROI_167\n",
      "  Rank 5: ROI_35\n",
      "  Rank 6: ROI_124\n",
      "  Rank 7: ROI_94\n",
      "  Rank 8: ROI_209\n",
      "  Rank 9: ROI_191\n",
      "  Rank 10: ROI_130\n",
      "  Rank 11: ROI_121\n",
      "  Rank 12: ROI_14\n",
      "  Rank 13: ROI_15\n",
      "  Rank 14: ROI_152\n",
      "  Rank 15: ROI_174\n",
      "  Rank 16: ROI_22\n",
      "  Rank 17: ROI_92\n",
      "  Rank 18: ROI_23\n",
      "  Rank 19: ROI_157\n",
      "  Rank 20: ROI_37\n",
      "cc:\n",
      "  Rank 1: ROI_25\n",
      "  Rank 2: ROI_130\n",
      "  Rank 3: ROI_128\n",
      "  Rank 4: ROI_23\n",
      "  Rank 5: ROI_22\n",
      "  Rank 6: ROI_94\n",
      "  Rank 7: ROI_35\n",
      "  Rank 8: ROI_83\n",
      "  Rank 9: ROI_84\n",
      "  Rank 10: ROI_127\n",
      "  Rank 11: ROI_140\n",
      "  Rank 12: ROI_59\n",
      "  Rank 13: ROI_189\n",
      "  Rank 14: ROI_131\n",
      "  Rank 15: ROI_19\n",
      "  Rank 16: ROI_188\n",
      "  Rank 17: ROI_26\n",
      "  Rank 18: ROI_123\n",
      "  Rank 19: ROI_18\n",
      "  Rank 20: ROI_11\n",
      "\n",
      "Feature Comparison Across Models:\n",
      "Rank                  LR                    TC                    RF                    GB                    XG                    v                     mi                    cc                  \n",
      "====================================================================================================================================================================================================\n",
      " 1                    ROI_25                ROI_130               ROI_25                ROI_130               ROI_25                ROI_99                ROI_180               ROI_25              \n",
      " 2                    ROI_130               ROI_25                ROI_130               ROI_25                ROI_130               ROI_204               ROI_86                ROI_130             \n",
      " 3                    ROI_128               ROI_88                ROI_88                ROI_88                ROI_196               ROI_201               ROI_70                ROI_128             \n",
      " 4                    ROI_23                ROI_196               ROI_193               ROI_196               ROI_165               ROI_96                ROI_167               ROI_23              \n",
      " 5                    ROI_94                ROI_194               ROI_94                ROI_194               ROI_162               ROI_40                ROI_35                ROI_22              \n",
      " 6                    ROI_35                ROI_59                ROI_194               ROI_94                ROI_189               ROI_181               ROI_124               ROI_94              \n",
      " 7                    ROI_83                ROI_163               ROI_128               ROI_193               ROI_191               ROI_202               ROI_94                ROI_35              \n",
      " 8                    ROI_22                ROI_55                ROI_196               ROI_128               ROI_98                ROI_207               ROI_209               ROI_83              \n",
      " 9                    ROI_59                ROI_128               ROI_89                ROI_206               ROI_88                ROI_76                ROI_191               ROI_84              \n",
      "10                    ROI_84                ROI_164               ROI_59                ROI_89                ROI_155               ROI_102               ROI_130               ROI_127             \n",
      "11                    ROI_127               ROI_193               ROI_77                ROI_103               ROI_103               ROI_203               ROI_121               ROI_140             \n",
      "12                    ROI_182               ROI_23                ROI_82                ROI_181               ROI_150               ROI_97                ROI_14                ROI_59              \n",
      "13                    ROI_193               ROI_91                ROI_163               ROI_72                ROI_204               ROI_205               ROI_15                ROI_189             \n",
      "14                    ROI_88                ROI_58                ROI_174               ROI_68                ROI_163               ROI_100               ROI_152               ROI_131             \n",
      "15                    ROI_181               ROI_160               ROI_177               ROI_182               ROI_45                ROI_44                ROI_174               ROI_19              \n",
      "16                    ROI_196               ROI_182               ROI_148               ROI_174               ROI_192               ROI_98                ROI_22                ROI_188             \n",
      "17                    ROI_209               ROI_94                ROI_90                ROI_29                ROI_56                ROI_208               ROI_92                ROI_26              \n",
      "18                    ROI_77                ROI_77                ROI_173               ROI_1                 ROI_131               ROI_200               ROI_23                ROI_123             \n",
      "19                    ROI_140               ROI_161               ROI_91                ROI_98                ROI_158               ROI_42                ROI_157               ROI_18              \n",
      "20                    ROI_131               ROI_99                ROI_181               ROI_203               ROI_193               ROI_95                ROI_37                ROI_11              \n"
     ]
    }
   ],
   "source": [
    "top_features = u.get_top_ROIs([\n",
    "    ('LR', feature_positions_LR),\n",
    "    ('TC', feature_positions_TC),\n",
    "    ('RF', feature_positions_RF),\n",
    "    ('GB', feature_positions_GB),\n",
    "    ('XG', feature_positions_XG), \n",
    "    ('v', feature_positions_v),\n",
    "    ('mi', feature_positions_mi),\n",
    "    ('cc', feature_positions_cc)\n",
    "], top_n=20)"
   ]
  },
  {
   "cell_type": "markdown",
   "id": "9a7270e6-0a28-4fcd-a3ba-9b8265996886",
   "metadata": {},
   "source": [
    " "
   ]
  },
  {
   "cell_type": "markdown",
   "id": "1e8f2cf2-6e11-4f2f-8ff3-bef3c0c66fe1",
   "metadata": {},
   "source": [
    " "
   ]
  },
  {
   "cell_type": "markdown",
   "id": "adf55e4b-7a2e-410e-b5f8-dedb95213e45",
   "metadata": {},
   "source": [
    " "
   ]
  },
  {
   "cell_type": "markdown",
   "id": "b97a3582-037a-466d-aef4-9ed926d5d8b1",
   "metadata": {},
   "source": [
    " "
   ]
  },
  {
   "cell_type": "markdown",
   "id": "b3bef8c4-c797-4aaa-aeef-1e90746fc183",
   "metadata": {},
   "source": [
    " "
   ]
  },
  {
   "cell_type": "markdown",
   "id": "78599f87-c932-46c5-b334-8c7291568304",
   "metadata": {},
   "source": [
    "## 4. Obtaining required files with the best features"
   ]
  },
  {
   "cell_type": "code",
   "execution_count": 9,
   "id": "96b5a178-3e84-4df6-8124-a8fae945928b",
   "metadata": {},
   "outputs": [
    {
     "name": "stdout",
     "output_type": "stream",
     "text": [
      "Random State:  82\n",
      "Data successfully saved to H:\\CSIC\\DATA_PREPROCESSED_ROIS\\CE\\C1\\P1\\info_dict.json\n",
      "Data successfully saved to H:\\CSIC\\DATA_PREPROCESSED_ROIS\\CE\\C1\\P1\\result_dict.json\n",
      "Random State:  59\n",
      "Data successfully saved to H:\\CSIC\\DATA_PREPROCESSED_ROIS\\CE\\C1\\P2\\info_dict.json\n",
      "Data successfully saved to H:\\CSIC\\DATA_PREPROCESSED_ROIS\\CE\\C1\\P2\\result_dict.json\n",
      "Random State:  95\n",
      "Data successfully saved to H:\\CSIC\\DATA_PREPROCESSED_ROIS\\CE\\C1\\P3\\info_dict.json\n",
      "Data successfully saved to H:\\CSIC\\DATA_PREPROCESSED_ROIS\\CE\\C1\\P3\\result_dict.json\n",
      "Random State:  65\n",
      "Data successfully saved to H:\\CSIC\\DATA_PREPROCESSED_ROIS\\CE\\C1\\P4\\info_dict.json\n",
      "Data successfully saved to H:\\CSIC\\DATA_PREPROCESSED_ROIS\\CE\\C1\\P4\\result_dict.json\n",
      "Random State:  42\n",
      "Data successfully saved to H:\\CSIC\\DATA_PREPROCESSED_ROIS\\CE\\C1\\P5\\info_dict.json\n",
      "Data successfully saved to H:\\CSIC\\DATA_PREPROCESSED_ROIS\\CE\\C1\\P5\\result_dict.json\n",
      "Random State:  74\n",
      "Data successfully saved to H:\\CSIC\\DATA_PREPROCESSED_ROIS\\CE\\C2\\P1\\info_dict.json\n",
      "Data successfully saved to H:\\CSIC\\DATA_PREPROCESSED_ROIS\\CE\\C2\\P1\\result_dict.json\n",
      "Random State:  10\n",
      "Data successfully saved to H:\\CSIC\\DATA_PREPROCESSED_ROIS\\CE\\C2\\P2\\info_dict.json\n",
      "Data successfully saved to H:\\CSIC\\DATA_PREPROCESSED_ROIS\\CE\\C2\\P2\\result_dict.json\n",
      "Random State:  40\n",
      "Data successfully saved to H:\\CSIC\\DATA_PREPROCESSED_ROIS\\CE\\C2\\P3\\info_dict.json\n",
      "Data successfully saved to H:\\CSIC\\DATA_PREPROCESSED_ROIS\\CE\\C2\\P3\\result_dict.json\n",
      "Random State:  36\n",
      "Data successfully saved to H:\\CSIC\\DATA_PREPROCESSED_ROIS\\CE\\C2\\P4\\info_dict.json\n",
      "Data successfully saved to H:\\CSIC\\DATA_PREPROCESSED_ROIS\\CE\\C2\\P4\\result_dict.json\n",
      "Random State:  14\n",
      "Data successfully saved to H:\\CSIC\\DATA_PREPROCESSED_ROIS\\CE\\C2\\P5\\info_dict.json\n",
      "Data successfully saved to H:\\CSIC\\DATA_PREPROCESSED_ROIS\\CE\\C2\\P5\\result_dict.json\n",
      "Random State:  35\n",
      "Data successfully saved to H:\\CSIC\\DATA_PREPROCESSED_ROIS\\OE\\C1\\P1\\info_dict.json\n",
      "Data successfully saved to H:\\CSIC\\DATA_PREPROCESSED_ROIS\\OE\\C1\\P1\\result_dict.json\n",
      "Random State:  25\n",
      "Data successfully saved to H:\\CSIC\\DATA_PREPROCESSED_ROIS\\OE\\C1\\P2\\info_dict.json\n",
      "Data successfully saved to H:\\CSIC\\DATA_PREPROCESSED_ROIS\\OE\\C1\\P2\\result_dict.json\n",
      "Random State:  22\n",
      "Data successfully saved to H:\\CSIC\\DATA_PREPROCESSED_ROIS\\OE\\C1\\P3\\info_dict.json\n",
      "Data successfully saved to H:\\CSIC\\DATA_PREPROCESSED_ROIS\\OE\\C1\\P3\\result_dict.json\n",
      "Random State:  37\n",
      "Data successfully saved to H:\\CSIC\\DATA_PREPROCESSED_ROIS\\OE\\C1\\P4\\info_dict.json\n",
      "Data successfully saved to H:\\CSIC\\DATA_PREPROCESSED_ROIS\\OE\\C1\\P4\\result_dict.json\n",
      "Random State:  41\n",
      "Data successfully saved to H:\\CSIC\\DATA_PREPROCESSED_ROIS\\OE\\C1\\P5\\info_dict.json\n",
      "Data successfully saved to H:\\CSIC\\DATA_PREPROCESSED_ROIS\\OE\\C1\\P5\\result_dict.json\n",
      "Random State:  26\n",
      "Data successfully saved to H:\\CSIC\\DATA_PREPROCESSED_ROIS\\OE\\C2\\P1\\info_dict.json\n",
      "Data successfully saved to H:\\CSIC\\DATA_PREPROCESSED_ROIS\\OE\\C2\\P1\\result_dict.json\n",
      "Random State:  71\n",
      "Data successfully saved to H:\\CSIC\\DATA_PREPROCESSED_ROIS\\OE\\C2\\P2\\info_dict.json\n",
      "Data successfully saved to H:\\CSIC\\DATA_PREPROCESSED_ROIS\\OE\\C2\\P2\\result_dict.json\n",
      "Random State:  69\n",
      "Data successfully saved to H:\\CSIC\\DATA_PREPROCESSED_ROIS\\OE\\C2\\P3\\info_dict.json\n",
      "Data successfully saved to H:\\CSIC\\DATA_PREPROCESSED_ROIS\\OE\\C2\\P3\\result_dict.json\n",
      "Random State:  95\n",
      "Data successfully saved to H:\\CSIC\\DATA_PREPROCESSED_ROIS\\OE\\C2\\P4\\info_dict.json\n",
      "Data successfully saved to H:\\CSIC\\DATA_PREPROCESSED_ROIS\\OE\\C2\\P4\\result_dict.json\n",
      "Random State:  57\n",
      "Data successfully saved to H:\\CSIC\\DATA_PREPROCESSED_ROIS\\OE\\C2\\P5\\info_dict.json\n",
      "Data successfully saved to H:\\CSIC\\DATA_PREPROCESSED_ROIS\\OE\\C2\\P5\\result_dict.json\n"
     ]
    }
   ],
   "source": [
    "# Define paths and directories\n",
    "base_path = 'H:\\CSIC\\DATA_PREPROCESSED_ROIS'\n",
    "segments = {'CE': df_ce, 'OE': df_oe}\n",
    "classifiers = {'C1': (1, 'MicrostateTo'), 'C2': (2, 'MicrostateTransition')}  # Classifier directories\n",
    "partitions = ['P1', 'P2', 'P3', 'P4', 'P5']  # Partitions\n",
    "\n",
    "for segment_name, df in segments.items():\n",
    "    for classifier_key, (classifier, target) in classifiers.items():\n",
    "        for partition in partitions:\n",
    "\n",
    "            # Create a path for each of the partitions\n",
    "            full_path = os.path.join(base_path, segment_name, classifier_key, partition)\n",
    "\n",
    "            # Create directories\n",
    "            try:\n",
    "                os.makedirs(full_path, exist_ok=True)\n",
    "            except Exception as e:\n",
    "                print(f\"Error creating directory {full_path}: {e}\")\n",
    "                continue  # Skip to the next partition\n",
    "                \n",
    "            \n",
    "            # DATA PREPROCESSING\n",
    "            df_train, df_test, train_patients, test_patients, rs = u.pre_requirements(df, c=classifier)\n",
    "\n",
    "            # Save information dictionary: patients and random state used\n",
    "            u.save_json(full_path, tp=1, l1=train_patients, l2=test_patients, rs=rs)\n",
    "            \n",
    "            # Obtaining data as DataFrames\n",
    "            df_X_train, df_y_train, df_X_test, df_y_test = u.extraction(df_train, df_test, tp=1, c=classifier)\n",
    "            \n",
    "            # Obtaining data as NumPy arrays\n",
    "            X_train, y_train, X_test, y_test = u.extraction(df_train, df_test, tp=2, c=classifier)\n",
    "\n",
    "            \n",
    "            # DATA NORMALIZATION\n",
    "            # Choosing Standard Scaler as normalizing function\n",
    "            X_train_norm, X_test_norm = u.normalizing('ss', X_train, X_test)\n",
    "\n",
    "            # Concatenate the normalized features with the target variable\n",
    "            train_norm = np.hstack((y_train.reshape(-1, 1), X_train_norm))\n",
    "            test_norm = np.hstack((y_test.reshape(-1, 1), X_test_norm))\n",
    "\n",
    "            # Convert it into DataFrame\n",
    "            df_train_norm = pd.DataFrame(train_norm, columns=df_train.columns)\n",
    "            df_test_norm = pd.DataFrame(test_norm, columns=df_test.columns)\n",
    "\n",
    "            # Store the columns in an index object\n",
    "            columns = df_train.columns\n",
    "            # Store all the features (ROIs) in a list\n",
    "            if classifier == 1:\n",
    "                features = list(columns)[:1] + list(columns)[2:]\n",
    "            elif classifier == 2:\n",
    "                features = list(columns)[1:]\n",
    "\n",
    "            # Obtain the features as a dataframe for both subsets, train and test, but normalized\n",
    "            df_X_train_norm = pd.DataFrame(df_train_norm.drop(columns=[target]).values, columns=features)\n",
    "            df_X_test_norm = pd.DataFrame(df_test_norm.drop(columns=[target]).values, columns=features)\n",
    "\n",
    "            \n",
    "            # LOGISTIC REGRESSION\n",
    "            coefficients = []\n",
    "            intercepts = []\n",
    "\n",
    "            for feature in features:\n",
    "                lr = u.log_reg(df_X_train_norm, y_train, df_X_test_norm, feature=feature)\n",
    "                coefficients.append(lr[0])\n",
    "                intercepts.append(lr[1])\n",
    "\n",
    "            # Store the coefficients as well as the feature positions with respect them in two dictionaries\n",
    "            importances_LR, feature_positions_LR = u.importances_model(features, coefficients)\n",
    "\n",
    "            # Obtain best features according to Logistic Regression\n",
    "            best_features_LR_50 = list(feature_positions_LR.keys())[:50]\n",
    "            best_features_LR_100 = list(feature_positions_LR.keys())[:100]\n",
    "            best_features_LR_150 = list(feature_positions_LR.keys())[:150]\n",
    "\n",
    "            \n",
    "            # TREE-BASED MODELS\n",
    "            # Tree Classifiers\n",
    "            TC = ExtraTreesClassifier(n_estimators=100, random_state=10)\n",
    "            # Store the importances regarding tree classifiers as well as the feature positions with respect them in two dictionaries\n",
    "            importances_TC, feature_positions_TC = u.tree_model(TC, X_train, y_train, features)\n",
    "\n",
    "            # Random Forest\n",
    "            RF = RandomForestClassifier(n_estimators=100, random_state=42)\n",
    "            # Store the importances regarding random forest as well as the feature positions with respect them in two dictionaries\n",
    "            importances_RF, feature_positions_RF = u.tree_model(RF, X_train, y_train, features)\n",
    "\n",
    "            # Gradient Boosting\n",
    "            GB = GradientBoostingClassifier(n_estimators=100, random_state=42)\n",
    "            # Store the importances regarding gradient boosting as well as the feature positions with respect them in two dictionaries\n",
    "            importances_GB, feature_positions_GB = u.tree_model(GB, X_train, y_train, features)\n",
    "            # Obtain best features according to Gradient Boosting\n",
    "            best_features_GB_50 = list(feature_positions_GB.keys())[:50]\n",
    "            best_features_GB_100 = list(feature_positions_GB.keys())[:100]\n",
    "            best_features_GB_150 = list(feature_positions_GB.keys())[:150]\n",
    "\n",
    "            # XGBoost Classifier\n",
    "            XG = XGBClassifier(n_estimators=100, random_state=42)\n",
    "            # Store the importances regarding xgboost as well as the feature positions with respect them in two dictionaries\n",
    "            importances_XG, feature_positions_XG = u.tree_model(XG, X_train, y_train, features)\n",
    "\n",
    "            \n",
    "            # FILTER METHODS\n",
    "            # Variance\n",
    "            v = np.var(X_train, axis=0)\n",
    "            # Store the variance as well as the feature positions with respect them in two dictionaries\n",
    "            importances_v, feature_positions_v = u.importances_model(features, v)\n",
    "            \n",
    "            # Mutual Information - Non-linear Relationships\n",
    "            mi = mutual_info_classif(X_train, y_train)\n",
    "            # Store the mutual information as well as the feature positions with respect them in two dictionaries\n",
    "            importances_mi, feature_positions_mi = u.importances_model(features, mi)\n",
    "            # Filter dictionary to remove entries with values lower than the 75% percentile\n",
    "            pruned_mi = {k: v for k, v in importances_mi.items() if v > np.percentile(mi, 75)}\n",
    "            # Obtain best features according to mutual information\n",
    "            best_features_mi = list(pruned_mi.keys())\n",
    "\n",
    "            # Correlation Coefficient - Linear Relationships\n",
    "            correlation_matrix = df_train.corr()\n",
    "            # Obtain correlations with the target variable\n",
    "            cc = list(correlation_matrix[target])[1:]\n",
    "            # Store the correlation coefficient as well as the feature positions with respect them in two dictionaries\n",
    "            importances_cc, feature_positions_cc = u.importances_model(features, cc)\n",
    "            # Obtain best features according to correlation coefficient\n",
    "            best_features_cc = list(feature_positions_cc.keys())[:len(best_features_mi)]\n",
    "\n",
    "            \n",
    "            # FUSION FEATURE ENGINEERING PROCESSES\n",
    "            # Initialize the combined dictionary\n",
    "            feature_dict = {}\n",
    "\n",
    "            # Build the combined dictionary\n",
    "            for feature in features:\n",
    "                feature_dict[feature] = {\n",
    "                    'models': {\n",
    "                        'LR': (float(importances_LR.get(feature, None)), feature_positions_LR.get(feature, None)),\n",
    "                        'TC': (float(importances_TC.get(feature, None)), feature_positions_TC.get(feature, None)),\n",
    "                        'RF': (float(importances_RF.get(feature, None)), feature_positions_RF.get(feature, None)),\n",
    "                        'GB': (float(importances_GB.get(feature, None)), feature_positions_GB.get(feature, None)),\n",
    "                        'XG': (float(importances_XG.get(feature, None)), feature_positions_XG.get(feature, None)),\n",
    "                    },\n",
    "                    'filters': {\n",
    "                        'v': (float(importances_v.get(feature, None)), feature_positions_v.get(feature, None)),\n",
    "                        'mi': (float(importances_mi.get(feature, None)), feature_positions_mi.get(feature, None)),\n",
    "                        'cc': (float(importances_cc.get(feature, None)), feature_positions_cc.get(feature, None)),\n",
    "                    }\n",
    "                }\n",
    "\n",
    "            # Mehtod I: Correlation between features and their importance regarding the estimation of the target variable\n",
    "            correlation_groups = u.corr_groups(df_X_train, 0.8)\n",
    "            # With Logistic Regression\n",
    "            best_features_LRcc = u.best_features_corr_groups(correlation_groups, importances_LR)\n",
    "            # With Gradient Boosting\n",
    "            best_features_GBcc = u.best_features_corr_groups(correlation_groups, importances_GB)\n",
    "\n",
    "            # Method II: Voting Engineering\n",
    "            # Unpdate the feature dictionary with the scores\n",
    "            feature_dict = u.calculate_feature_scores(feature_dict)\n",
    "            # Store wieghted scores in a list\n",
    "            _, weighted_scores = u.extract_scores(feature_dict)\n",
    "            # Store the weighted scores as well as the feature positions with respect them in two dictionaries\n",
    "            importances_VE, feature_positions_VE = u.importances_model(features, weighted_scores)\n",
    "            # Add this information to the result dictionary\n",
    "            for feature in features:\n",
    "                feature_dict[feature]['models']['VE'] = importances_VE.get(feature, None), feature_positions_VE.get(feature, None)\n",
    "            # Save result dictionary: importances and positions\n",
    "            u.save_json(full_path, tp=2, d=feature_dict)\n",
    "            # Obtain best features according to the weighted scores\n",
    "            best_features_VE_50 = list(feature_positions_VE.keys())[:50]\n",
    "            best_features_VE_100 = list(feature_positions_VE.keys())[:100]\n",
    "            best_features_VE_150 = list(feature_positions_VE.keys())[:150]\n",
    "\n",
    "            # Method I + Method II\n",
    "            # Obtain best features according to the correlation groups with respect weighted score\n",
    "            best_features_VEcc = u.best_features_corr_groups(correlation_groups, importances_VE)\n",
    "\n",
    "            \n",
    "            # Save datasets for each set of best features\n",
    "            for feature_set_name, feature_sets in {\n",
    "                'best_features_LR_50': best_features_LR_50,\n",
    "                'best_features_LR_100': best_features_LR_100,\n",
    "                'best_features_LR_150': best_features_LR_150,\n",
    "                'best_features_GB_50': best_features_GB_50,\n",
    "                'best_features_GB_100': best_features_GB_100,\n",
    "                'best_features_GB_150': best_features_GB_150,\n",
    "                'best_features_mi': best_features_mi,\n",
    "                'best_features_cc': best_features_cc,\n",
    "                'best_features_LRcc': best_features_LRcc,\n",
    "                'best_features_GBcc': best_features_GBcc,\n",
    "                'best_features_VE_50': best_features_VE_50,\n",
    "                'best_features_VE_100': best_features_VE_100,\n",
    "                'best_features_VE_150': best_features_VE_150,\n",
    "                'best_features_VEcc': best_features_VEcc\n",
    "            }.items():       \n",
    "                \n",
    "                train_subset = df_train_norm[feature_sets + [target]]\n",
    "                test_subset = df_test_norm[feature_sets + [target]]\n",
    "                \n",
    "                if 'LR' in feature_set_name:\n",
    "                    model_path = os.path.join(full_path, '2. Logistic_Regression')\n",
    "                    \n",
    "                    if feature_set_name[-2:] == 'cc':\n",
    "                        save_path = os.path.join(model_path, 'Correlation Groups')\n",
    "                    else:\n",
    "                        save_path = os.path.join(model_path, feature_set_name[-3:])\n",
    "                    \n",
    "                    os.makedirs(save_path, exist_ok=True)\n",
    "                    train_subset.to_csv(os.path.join(save_path, 'train.csv'), index=False)\n",
    "                    test_subset.to_csv(os.path.join(save_path, 'test.csv'), index=False)\n",
    "            \n",
    "                elif 'GB' in feature_set_name:\n",
    "                    model_path = os.path.join(full_path, '3. Gradient_Boosting')\n",
    "                    \n",
    "                    if feature_set_name[-2:] == 'cc':\n",
    "                        save_path = os.path.join(model_path, 'Correlation Groups')\n",
    "                    else:\n",
    "                        save_path = os.path.join(model_path, feature_set_name[-3:])\n",
    "                    \n",
    "                    os.makedirs(save_path, exist_ok=True)\n",
    "                    train_subset.to_csv(os.path.join(save_path, 'train.csv'), index=False)\n",
    "                    test_subset.to_csv(os.path.join(save_path, 'test.csv'), index=False)\n",
    "                    \n",
    "                elif 'VE' in feature_set_name:\n",
    "                    model_path = os.path.join(full_path, '6. Voting_Engineering')\n",
    "                    \n",
    "                    if feature_set_name[-2:] == 'cc':\n",
    "                        save_path = os.path.join(model_path, 'Correlation Groups')\n",
    "                    else:\n",
    "                        save_path = os.path.join(model_path, feature_set_name[-3:])\n",
    "                    \n",
    "                    os.makedirs(save_path, exist_ok=True)\n",
    "                    train_subset.to_csv(os.path.join(save_path, 'train.csv'), index=False)\n",
    "                    test_subset.to_csv(os.path.join(save_path, 'test.csv'), index=False)\n",
    "\n",
    "                elif 'mi' in feature_set_name:\n",
    "                    save_path = os.path.join(full_path, '4. Mutual_Information')\n",
    "                                        \n",
    "                    os.makedirs(save_path, exist_ok=True)\n",
    "                    train_subset.to_csv(os.path.join(save_path, 'train.csv'), index=False)\n",
    "                    test_subset.to_csv(os.path.join(save_path, 'test.csv'), index=False)\n",
    "\n",
    "                elif 'cc' in feature_set_name:\n",
    "                    save_path = os.path.join(full_path, '5. Correlation_Coefficient')\n",
    "                                        \n",
    "                    os.makedirs(save_path, exist_ok=True)\n",
    "                    train_subset.to_csv(os.path.join(save_path, 'train.csv'), index=False)\n",
    "                    test_subset.to_csv(os.path.join(save_path, 'test.csv'), index=False)\n",
    "\n",
    "            # Save the full dataset\n",
    "            save_path = os.path.join(full_path, '1. All_features')\n",
    "            os.makedirs(save_path, exist_ok=True)\n",
    "            df_train_norm.to_csv(os.path.join(save_path, 'train.csv'), index=False)\n",
    "            df_test_norm.to_csv(os.path.join(save_path, 'test.csv'), index=False)"
   ]
  },
  {
   "cell_type": "markdown",
   "id": "261e8c7c-fff3-4cc5-b047-3a038c73180a",
   "metadata": {},
   "source": [
    " "
   ]
  },
  {
   "cell_type": "markdown",
   "id": "60aa16bd-c614-44ff-a7ec-2de7e6fc010e",
   "metadata": {},
   "source": [
    " "
   ]
  },
  {
   "cell_type": "markdown",
   "id": "de2426b1-7ccd-4fc6-94a3-3e6b1006053c",
   "metadata": {},
   "source": [
    " "
   ]
  },
  {
   "cell_type": "markdown",
   "id": "d411c58c-d1df-4162-8cd5-a82457377335",
   "metadata": {},
   "source": [
    " "
   ]
  },
  {
   "cell_type": "markdown",
   "id": "97c73a4e-c026-4c0b-a5d0-e36be8a2d4fc",
   "metadata": {},
   "source": [
    " "
   ]
  },
  {
   "cell_type": "markdown",
   "id": "ba544ab6-6321-4578-a4fd-2a27778813a0",
   "metadata": {},
   "source": [
    "## 5. Partitions Analysis"
   ]
  },
  {
   "cell_type": "markdown",
   "id": "ee206a0d-eae2-4427-8842-72d4867a3fd1",
   "metadata": {},
   "source": [
    "### 5.1. Comparisons between different partitions"
   ]
  },
  {
   "cell_type": "code",
   "execution_count": 3,
   "id": "64c12a52-3ffb-4e61-b5bc-8c1c153702b9",
   "metadata": {},
   "outputs": [],
   "source": [
    "## Define the base directory\n",
    "base_dir = r'H:\\CSIC\\DATA_PREPROCESSED_ROIS'\n",
    "\n",
    "# Global variables to store the dictionaries and extracted data\n",
    "info_dicts = {}\n",
    "results_dicts = {}\n",
    "global_importances = {}\n",
    "global_positions = {}"
   ]
  },
  {
   "cell_type": "code",
   "execution_count": 4,
   "id": "069c2563-9608-4555-a49d-39556daa2053",
   "metadata": {},
   "outputs": [],
   "source": [
    "# Widgets for segment selection\n",
    "segment_label = widgets.Label(\"Select a segment: CE (Closed Eyes) or OE (Open Eyes):\")\n",
    "segment_selector = widgets.Dropdown(options=['CE', 'OE'], description='Segment:')\n",
    "\n",
    "# Widgets for classifier selection\n",
    "classifier_label = widgets.Label(\"Select a classifier: C1 or C2:\")\n",
    "classifier_selector = widgets.Dropdown(options=['C1', 'C2'], description='Classifier:')\n",
    "\n",
    "# Widget to select model/filter (will be populated after dictionaries are loaded)\n",
    "model_filter_label = widgets.Label(\"Select a model or filter\")\n",
    "model_filter_selector = widgets.Dropdown(description='Model/Filter:')\n",
    "\n",
    "# Widgets for action selection\n",
    "action_label = widgets.Label(\"Select an action:\")\n",
    "action_selector = widgets.Dropdown(options=['Compare Partitions', 'Show Top N Features'], description='Action:')\n",
    "\n",
    "# Widget for feature selector\n",
    "n_features_selector = widgets.IntSlider(description='Number of Top Features', min=0, max=211, step=1, value=10)"
   ]
  },
  {
   "cell_type": "code",
   "execution_count": 5,
   "id": "e1257a14-e5b0-41ef-b2f4-b3832e08d731",
   "metadata": {},
   "outputs": [],
   "source": [
    "# Button to load the dictionaries\n",
    "button = widgets.Button(description=\"Load Dictionaries\")\n",
    "output = widgets.Output()\n",
    "\n",
    "# Button to execute desired action\n",
    "action_button = widgets.Button(description=\"Execute Action\")\n",
    "action_output = widgets.Output()\n",
    "\n",
    "# Button to hide the results\n",
    "hide_button = widgets.Button(description=\"Hide Results\")"
   ]
  },
  {
   "cell_type": "code",
   "execution_count": 6,
   "id": "7165db1b-56da-4cbe-81f1-3bf3ce45a86e",
   "metadata": {},
   "outputs": [],
   "source": [
    "# Button click event listener for loading dictionaries\n",
    "def on_button_click(b):\n",
    "    global info_dicts, results_dicts  # Make sure we're updating the global variables\n",
    "\n",
    "    segment = segment_selector.value\n",
    "    classifier = classifier_selector.value\n",
    "    \n",
    "    # Clear previous data\n",
    "    info_dicts.clear()\n",
    "    results_dicts.clear()\n",
    "\n",
    "    # Build the directory path based on user input\n",
    "    selected_dir = os.path.join(base_dir, segment, classifier)\n",
    "    \n",
    "    # Iterate through partition folders P1-P5 and load the JSON files\n",
    "    for partition in ['P1', 'P2', 'P3', 'P4', 'P5']:\n",
    "        partition_dir = os.path.join(selected_dir, partition)\n",
    "        \n",
    "        # Paths to the dictionaries\n",
    "        info_dict_path = os.path.join(partition_dir, 'info_dict.json')\n",
    "        results_dict_path = os.path.join(partition_dir, 'result_dict.json')\n",
    "        \n",
    "        # Load the dictionaries if they exist\n",
    "        if os.path.exists(info_dict_path) and os.path.exists(results_dict_path):\n",
    "            info_dicts[partition] = u.load_json(info_dict_path)\n",
    "            results_dicts[partition] = u.load_json(results_dict_path)\n",
    "        else:\n",
    "            with output:\n",
    "                output.clear_output()\n",
    "                print(f\"One or both JSON files missing in {partition_dir}\")\n",
    "    \n",
    "    # Display output after loading\n",
    "    with output:\n",
    "        output.clear_output()\n",
    "        if info_dicts and results_dicts:\n",
    "            u.display_train_test_rs(info_dicts)\n",
    "            # Update the model/filter selector with options from the loaded dictionaries\n",
    "            update_model_filter_selector(results_dicts)\n",
    "            # Show the model/filter selection and action buttons\n",
    "            display(model_filter_label, model_filter_selector, action_label, action_selector, action_button)"
   ]
  },
  {
   "cell_type": "code",
   "execution_count": 7,
   "id": "a60c363b-f005-4397-a666-c5e5d3bbe9b9",
   "metadata": {},
   "outputs": [],
   "source": [
    "# Update the options for model/filter once dictionaries are loaded\n",
    "def update_model_filter_selector(data):\n",
    "    # Assuming we use the first partition to get available models and filters\n",
    "    first_partition = list(data.keys())[0]\n",
    "    model_filter_options = list(data[first_partition]['ROI_25']['models'].keys()) + list(data[first_partition]['ROI_25']['filters'].keys())\n",
    "    model_filter_options.append('all')\n",
    "    \n",
    "    # Update the dropdown options\n",
    "    model_filter_selector.options = model_filter_options"
   ]
  },
  {
   "cell_type": "code",
   "execution_count": 8,
   "id": "e8f86614-45b0-4a19-9c20-da569be68d65",
   "metadata": {},
   "outputs": [],
   "source": [
    "# Button click event listener for action selection\n",
    "def on_action_select(change):\n",
    "    action = action_selector.value\n",
    "    with output:\n",
    "        action_output.clear_output()  # Clear any previous outputs\n",
    "        if action == 'Show Top N Features':\n",
    "            display(n_features_selector)  # Show the N features selector\n",
    "        else:\n",
    "            n_features_selector.close()  # Hide the N features selector if not relevant"
   ]
  },
  {
   "cell_type": "code",
   "execution_count": 9,
   "id": "07e46f09-c67f-464e-832b-5be4b7f1c3f9",
   "metadata": {},
   "outputs": [],
   "source": [
    "# Button click event listener for executing selected action\n",
    "def on_action_button_click(b):\n",
    "    action = action_selector.value\n",
    "    selected_model_filter = model_filter_selector.value\n",
    "    \n",
    "    if action and selected_model_filter:\n",
    "        global_importances, global_positions = u.extract_and_sort_importances_positions(results_dicts, selected_model_filter)\n",
    "        with output:\n",
    "            #action_output.clear_output()\n",
    "            \n",
    "            if action == 'Compare Partitions':\n",
    "                print(\"Comparing partitions...\")\n",
    "                u.print_partition_comparison(global_positions, global_importances)\n",
    "            \n",
    "            elif action == 'Show Top N Features':\n",
    "                n = n_features_selector.value\n",
    "                print(f\"Showing top {n} features of {selected_model_filter}\")\n",
    "                u.show_top_n_features(global_positions, top_n=n)\n",
    "            \n",
    "            else:\n",
    "                print(\"No action selected.\")\n",
    "            \n",
    "            display(hide_button)"
   ]
  },
  {
   "cell_type": "code",
   "execution_count": 10,
   "id": "f78cbb6f-f631-4ae1-a00f-ebea2157ce72",
   "metadata": {},
   "outputs": [],
   "source": [
    "# Button click event listener for hiding results\n",
    "def on_hide_button_click(b):\n",
    "    with output:\n",
    "        output.clear_output()\n",
    "        \n",
    "    hide_button.layout.display = 'none'  # Hide button after clearing results"
   ]
  },
  {
   "cell_type": "code",
   "execution_count": 11,
   "id": "14b5c806-3b3f-4956-b626-a5d68453e603",
   "metadata": {},
   "outputs": [
    {
     "data": {
      "application/vnd.jupyter.widget-view+json": {
       "model_id": "6c9a258922df4a6283258b2aa35d144b",
       "version_major": 2,
       "version_minor": 0
      },
      "text/plain": [
       "Label(value='Select a segment: CE (Closed Eyes) or OE (Open Eyes):')"
      ]
     },
     "metadata": {},
     "output_type": "display_data"
    },
    {
     "data": {
      "application/vnd.jupyter.widget-view+json": {
       "model_id": "b1b2e6e9a54b4dbf8933307d0f01ae03",
       "version_major": 2,
       "version_minor": 0
      },
      "text/plain": [
       "Dropdown(description='Segment:', options=('CE', 'OE'), value='CE')"
      ]
     },
     "metadata": {},
     "output_type": "display_data"
    },
    {
     "data": {
      "application/vnd.jupyter.widget-view+json": {
       "model_id": "30d680d98c3c4994a3588f91405e759f",
       "version_major": 2,
       "version_minor": 0
      },
      "text/plain": [
       "Label(value='Select a classifier: C1 or C2:')"
      ]
     },
     "metadata": {},
     "output_type": "display_data"
    },
    {
     "data": {
      "application/vnd.jupyter.widget-view+json": {
       "model_id": "b531af40cbb6430484e89226d3a52d71",
       "version_major": 2,
       "version_minor": 0
      },
      "text/plain": [
       "Dropdown(description='Classifier:', options=('C1', 'C2'), value='C1')"
      ]
     },
     "metadata": {},
     "output_type": "display_data"
    },
    {
     "data": {
      "application/vnd.jupyter.widget-view+json": {
       "model_id": "814193bef77e46e783f00110bc24b127",
       "version_major": 2,
       "version_minor": 0
      },
      "text/plain": [
       "Button(description='Load Dictionaries', style=ButtonStyle())"
      ]
     },
     "metadata": {},
     "output_type": "display_data"
    },
    {
     "data": {
      "application/vnd.jupyter.widget-view+json": {
       "model_id": "a51bd2c21ec24f79817b733d5d0605b5",
       "version_major": 2,
       "version_minor": 0
      },
      "text/plain": [
       "Output()"
      ]
     },
     "metadata": {},
     "output_type": "display_data"
    }
   ],
   "source": [
    "# Connect buttons to their event handlers\n",
    "button.on_click(on_button_click)\n",
    "action_selector.observe(on_action_select, names='value')\n",
    "action_button.on_click(on_action_button_click)\n",
    "hide_button.on_click(on_hide_button_click)\n",
    "\n",
    "# Display the initial widgets\n",
    "display(segment_label, segment_selector, classifier_label, classifier_selector, button, output)"
   ]
  }
 ],
 "metadata": {
  "kernelspec": {
   "display_name": "Python 3 (ipykernel)",
   "language": "python",
   "name": "python3"
  },
  "language_info": {
   "codemirror_mode": {
    "name": "ipython",
    "version": 3
   },
   "file_extension": ".py",
   "mimetype": "text/x-python",
   "name": "python",
   "nbconvert_exporter": "python",
   "pygments_lexer": "ipython3",
   "version": "3.11.7"
  }
 },
 "nbformat": 4,
 "nbformat_minor": 5
}
