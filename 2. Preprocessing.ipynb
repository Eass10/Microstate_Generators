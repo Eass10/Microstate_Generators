{
 "cells": [
  {
   "cell_type": "code",
   "execution_count": 1,
   "id": "06377b1f-0619-4a31-97b0-198dce1d0420",
   "metadata": {},
   "outputs": [],
   "source": [
    "import utils as u\n",
    "\n",
    "import os\n",
    "\n",
    "import time\n",
    "\n",
    "import mne"
   ]
  },
  {
   "cell_type": "markdown",
   "id": "80fd0681-fb0b-4e00-b31f-92b4be86b1e6",
   "metadata": {},
   "source": [
    "### Paths"
   ]
  },
  {
   "cell_type": "code",
   "execution_count": 2,
   "id": "fc935d6c-466d-4dd9-8a82-97b346bf0afb",
   "metadata": {},
   "outputs": [],
   "source": [
    "# Define the path to the main data folder where the raw eeg can be found\n",
    "DATA_FOLDER = 'E:\\DATA_FOLDER'\n",
    "\n",
    "# Define the path to the main folder where the preprocessed data will be stored\n",
    "DATA_PREPROCESS = 'E:\\DATA_PREPROCESSED'\n",
    "# Crear la carpeta para el paciente en la carpeta de destino\n",
    "os.makedirs(DATA_PREPROCESS, exist_ok=True)"
   ]
  },
  {
   "cell_type": "markdown",
   "id": "b15fa9e0-9f94-42f2-adb1-1fa1b5676c2b",
   "metadata": {},
   "source": [
    "### Preprocessing"
   ]
  },
  {
   "cell_type": "code",
   "execution_count": null,
   "id": "004700bf-32c8-4582-953e-c3846ec5c838",
   "metadata": {},
   "outputs": [],
   "source": [
    "# Recording time required for the preprocessing\n",
    "t = time.time()\n",
    "\n",
    "# Loop through subject folders\n",
    "for subject in os.listdir(DATA_FOLDER):\n",
    "    print(subject)\n",
    "\n",
    "    # Check if the data has already been preprocessed\n",
    "    if os.path.exists(os.path.join(DATA_PREPROCESS, subject)):\n",
    "        print(f\"The files for the {subject} patient already exist. Going for the next patient.\\n\")\n",
    "        continue\n",
    "\n",
    "    else:\n",
    "        # Construct the full path to the subject folder\n",
    "        subject_path = os.path.join(DATA_FOLDER, subject)\n",
    "    \n",
    "        # Check if it's a directory\n",
    "        if os.path.isdir(subject_path):\n",
    "            print(f\"\\nProcessing data for subject {subject}...\")\n",
    "            \n",
    "            # Construct the path to the BrainVision files folder\n",
    "            rseeg_folder = os.path.join(subject_path, 'RSEEG')\n",
    "            \n",
    "            # Check if the RSEEG folder exists\n",
    "            if os.path.exists(rseeg_folder):\n",
    "\n",
    "                vhdr_files = [file for file in os.listdir(rseeg_folder) if file.endswith('.vhdr')]\n",
    "                            \n",
    "                # Check if a .vhdr file is found\n",
    "                if vhdr_files:\n",
    "                    \n",
    "                    # Construct the full path to the .vhdr file\n",
    "                    vhdr_path = os.path.join(rseeg_folder, vhdr_files[0])\n",
    "                    \n",
    "                    # Read the BrainVision files\n",
    "                    try:\n",
    "                        raw = mne.io.read_raw_brainvision(vhdr_path, eog=('VEOG',), preload=True, misc='auto', scale=1, verbose=None)\n",
    "                        raw.set_montage(\"standard_1020\")\n",
    "                    except Exception as e:\n",
    "                        print(f\"Error reading files for subject {subject}: {e}\")\n",
    "\n",
    "                    # PREPROCESSING\n",
    "                    # Cleaning EEG: Filtering and removing (ocular) artifacts\n",
    "                    cleaned_eeg = u.preprocessing(raw)\n",
    "                    data = cleaned_eeg._data\n",
    "                    \n",
    "                    # Dictionary with data\n",
    "                    d = u.dictionary(cleaned_eeg)\n",
    "\n",
    "                    # Samples corresponding to different events between \"Closed Eyes\" and \"Open Eyes\"\n",
    "                    start_samples_ce, start_samples_oe, end_samples_ce, end_samples_oe = u.segment_samples(d)\n",
    "\n",
    "                    # Segment division between \"Closed Eyes\" and \"Open Eyes\"\n",
    "                    segments_ce = u.division_segments(data, start_samples_ce, end_samples_ce)\n",
    "                    segments_oe = u.division_segments(data, start_samples_oe, end_samples_oe)\n",
    "\n",
    "                    # Segment store in a common list and transformation into a DataFrame\n",
    "                    segments = u.segments_df(cleaned_eeg, segments_ce, segments_oe)\n",
    "\n",
    "                    # Guardar los DataFrames en esa carpeta\n",
    "                    subject_dir = os.path.join(DATA_PREPROCESS, subject)\n",
    "                    os.makedirs(subject_dir, exist_ok=True)\n",
    "\n",
    "                    # Store each of the dataframes\n",
    "                    for i in range(len(segments)):\n",
    "                        # Name the preprocessed data file\n",
    "                        if (i+1) % 2 != 0:\n",
    "                            file_name = subject + '_ce_' + str(i+1) + '.csv'\n",
    "                        elif (i+1) % 2 == 0:\n",
    "                            file_name = subject + '_oe_' + str(i+1) + '.csv'\n",
    "\n",
    "                        # Path for the files\n",
    "                        file_path = os.path.join(subject_dir, file_name)\n",
    "                        \n",
    "                        # Verify if the files already exist\n",
    "                        if not os.path.exists(file_path):\n",
    "                            segments[i].to_csv(file_path, index=False, sep='\\t', header=False)\n",
    "                    \n",
    "                else:\n",
    "                    print(f\"No .vhdr file found for subject {subject}.\")\n",
    "            else:\n",
    "                print(f\"RSEEG folder not found for subject {subject}.\")\n",
    "        else:\n",
    "            print(f\"There is no subject {subject}.\")\n",
    "\n",
    "pt = time.time() - t\n",
    "print('Tiempo de preprocesado', pt)"
   ]
  },
  {
   "cell_type": "markdown",
   "id": "caefba79-edf6-4a25-b10c-66d437520bb8",
   "metadata": {},
   "source": [
    "### Check preproceesing"
   ]
  },
  {
   "cell_type": "code",
   "execution_count": 4,
   "id": "df050bc2-1f0d-43f2-bbfe-f4ab9fff1151",
   "metadata": {},
   "outputs": [
    {
     "name": "stdout",
     "output_type": "stream",
     "text": [
      "The following subfolders are present in DATA_FOLDER but are missing in DATA_PREPROCESSED:\n"
     ]
    }
   ],
   "source": [
    "# Folder paths\n",
    "ruta_data_folder = 'E:\\DATA_FOLDER'\n",
    "ruta_data_preprocessed = 'E:\\DATA_PREPROCESSED'\n",
    "\n",
    "# Get subfolder names in DATA_FOLDER\n",
    "subfolders_data_folder = os.listdir(ruta_data_folder)\n",
    "\n",
    "# Get subfolder names in DATA_PREPROCESSED\n",
    "subfolders_data_preprocessed = os.listdir(ruta_data_preprocessed)\n",
    "\n",
    "# Find missing subfolders\n",
    "subfolders_faltantes = [folder for folder in subfolders_data_folder if folder not in subfolders_data_preprocessed]\n",
    "\n",
    "# Print missing subfolders\n",
    "print(\"The following subfolders are present in DATA_FOLDER but are missing in DATA_PREPROCESSED:\")\n",
    "for folder in subfolders_faltantes:\n",
    "    print(folder)"
   ]
  }
 ],
 "metadata": {
  "kernelspec": {
   "display_name": "Python 3 (ipykernel)",
   "language": "python",
   "name": "python3"
  },
  "language_info": {
   "codemirror_mode": {
    "name": "ipython",
    "version": 3
   },
   "file_extension": ".py",
   "mimetype": "text/x-python",
   "name": "python",
   "nbconvert_exporter": "python",
   "pygments_lexer": "ipython3",
   "version": "3.11.7"
  }
 },
 "nbformat": 4,
 "nbformat_minor": 5
}
